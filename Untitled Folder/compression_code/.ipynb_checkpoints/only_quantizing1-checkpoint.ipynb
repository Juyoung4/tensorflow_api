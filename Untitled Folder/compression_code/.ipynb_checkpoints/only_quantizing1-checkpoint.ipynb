{
 "cells": [
  {
   "cell_type": "code",
   "execution_count": null,
   "metadata": {},
   "outputs": [],
   "source": [
    "# 이전에 먼저 데이터셋 불러오는 코드 꼭 필요\n",
    "import tensorflow_model_optimization as tfmot # 꼭 필요 모듈\n",
    "\n",
    "#여기에 모델 불러오는 코드 필요 , 불러오고 모델은 \"model\"변수명에 저장하기\n",
    "\n",
    "quantize_model = tfmot.quantization.keras.quantize_model\n",
    "\n",
    "q_aware_model = quantize_model(model)\n",
    "\n",
    "q_aware_model.compile(optimizer='adam',\n",
    "              loss=tf.keras.losses.SparseCategoricalCrossentropy(from_logits=True),\n",
    "              metrics=['accuracy'])\n",
    "\n",
    "train_images_subset = train_images[0:1000] # out of 60000\n",
    "train_labels_subset = train_labels[0:1000]\n",
    "\n",
    "\"\"\"\n",
    "hyper parameter tuning 예상\n",
    "    [batch_size, epochs]\n",
    "    \n",
    "\"\"\"\n",
    "\n",
    "q_aware_model.fit(train_images_subset, train_labels_subset,\n",
    "                  batch_size=500, epochs=5, validation_split=0.1)\n",
    "\n",
    "\n",
    "#모델 저장 코드 지금은 tmp위치에 저장함 -> 모델 저장소에 저장해야함\n",
    "# 단, 저장할때 모델은 .h5 형태여야함으로 찾아보고 저장소에 저장할 것\n",
    "_, quantized_keras_file = tempfile.mkstemp('.h5')\n",
    "tf.keras.models.save_model(q_aware_model, quantized_keras_file, include_optimizer=False)\n",
    "print('Saved quantized Keras model to:', quantized_keras_file)\n"
   ]
  }
 ],
 "metadata": {
  "kernelspec": {
   "display_name": "Python 3",
   "language": "python",
   "name": "python3"
  },
  "language_info": {
   "codemirror_mode": {
    "name": "ipython",
    "version": 3
   },
   "file_extension": ".py",
   "mimetype": "text/x-python",
   "name": "python",
   "nbconvert_exporter": "python",
   "pygments_lexer": "ipython3",
   "version": "3.7.7"
  }
 },
 "nbformat": 4,
 "nbformat_minor": 4
}
