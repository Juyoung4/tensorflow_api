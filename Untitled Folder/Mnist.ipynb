{
 "cells": [
  {
   "cell_type": "markdown",
   "metadata": {},
   "source": [
    "# Mnist"
   ]
  },
  {
   "cell_type": "code",
   "execution_count": 1,
   "metadata": {},
   "outputs": [],
   "source": [
    "import tempfile\n",
    "import os\n",
    "\n",
    "import tensorflow as tf\n",
    "import numpy as np\n",
    "\n",
    "from tensorflow import keras"
   ]
  },
  {
   "cell_type": "code",
   "execution_count": 2,
   "metadata": {},
   "outputs": [
    {
     "name": "stdout",
     "output_type": "stream",
     "text": [
      "Train on 54000 samples, validate on 6000 samples\n",
      "Epoch 1/4\n",
      "54000/54000 [==============================] - 7s 128us/sample - loss: 0.3234 - accuracy: 0.9092 - val_loss: 0.1540 - val_accuracy: 0.9572\n",
      "Epoch 2/4\n",
      "54000/54000 [==============================] - 5s 101us/sample - loss: 0.1437 - accuracy: 0.9598 - val_loss: 0.0960 - val_accuracy: 0.9748\n",
      "Epoch 3/4\n",
      "54000/54000 [==============================] - 5s 101us/sample - loss: 0.0984 - accuracy: 0.9718 - val_loss: 0.0818 - val_accuracy: 0.9767\n",
      "Epoch 4/4\n",
      "54000/54000 [==============================] - 6s 108us/sample - loss: 0.0770 - accuracy: 0.9780 - val_loss: 0.0738 - val_accuracy: 0.9783\n"
     ]
    },
    {
     "data": {
      "text/plain": [
       "<tensorflow.python.keras.callbacks.History at 0x7fb54c28ed10>"
      ]
     },
     "execution_count": 2,
     "metadata": {},
     "output_type": "execute_result"
    }
   ],
   "source": [
    "# Load MNIST dataset\n",
    "mnist = keras.datasets.mnist\n",
    "(train_images, train_labels), (test_images, test_labels) = mnist.load_data()\n",
    "\n",
    "# Normalize the input image so that each pixel value is between 0 to 1.\n",
    "train_images = train_images / 255.0\n",
    "test_images = test_images / 255.0\n",
    "\n",
    "# Define the model architecture.\n",
    "model = keras.Sequential([\n",
    "  keras.layers.InputLayer(input_shape=(28, 28)),\n",
    "  keras.layers.Reshape(target_shape=(28, 28, 1)),\n",
    "  keras.layers.Conv2D(filters=12, kernel_size=(3, 3), activation='relu'),\n",
    "  keras.layers.MaxPooling2D(pool_size=(2, 2)),\n",
    "  keras.layers.Flatten(),\n",
    "  keras.layers.Dense(10)\n",
    "])\n",
    "\n",
    "# Train the digit classification model\n",
    "model.compile(optimizer='adam',\n",
    "              loss=tf.keras.losses.SparseCategoricalCrossentropy(from_logits=True),\n",
    "              metrics=['accuracy'])\n",
    "\n",
    "model.fit(\n",
    "  train_images,\n",
    "  train_labels,\n",
    "  epochs=4,\n",
    "  validation_split=0.1,\n",
    ")\n"
   ]
  },
  {
   "cell_type": "code",
   "execution_count": 3,
   "metadata": {},
   "outputs": [
    {
     "name": "stdout",
     "output_type": "stream",
     "text": [
      "Baseline test accuracy: 0.9776\n",
      "Saved baseline model to: /tmp/tmpb7vl6dij.h5\n"
     ]
    }
   ],
   "source": [
    "_, baseline_model_accuracy = model.evaluate(\n",
    "    test_images, test_labels, verbose=0)\n",
    "\n",
    "print('Baseline test accuracy:', baseline_model_accuracy)\n",
    "\n",
    "_, keras_file = tempfile.mkstemp('.h5')\n",
    "tf.keras.models.save_model(model, keras_file, include_optimizer=False)\n",
    "print('Saved baseline model to:', keras_file)\n"
   ]
  },
  {
   "cell_type": "markdown",
   "metadata": {},
   "source": [
    "# 2. basline model with only pruning"
   ]
  },
  {
   "cell_type": "code",
   "execution_count": 6,
   "metadata": {},
   "outputs": [
    {
     "name": "stdout",
     "output_type": "stream",
     "text": [
      "Model: \"sequential\"\n",
      "_________________________________________________________________\n",
      "Layer (type)                 Output Shape              Param #   \n",
      "=================================================================\n",
      "prune_low_magnitude_reshape  (None, 28, 28, 1)         1         \n",
      "_________________________________________________________________\n",
      "prune_low_magnitude_conv2d ( (None, 26, 26, 12)        230       \n",
      "_________________________________________________________________\n",
      "prune_low_magnitude_max_pool (None, 13, 13, 12)        1         \n",
      "_________________________________________________________________\n",
      "prune_low_magnitude_flatten  (None, 2028)              1         \n",
      "_________________________________________________________________\n",
      "prune_low_magnitude_dense (P (None, 10)                40572     \n",
      "=================================================================\n",
      "Total params: 40,805\n",
      "Trainable params: 20,410\n",
      "Non-trainable params: 20,395\n",
      "_________________________________________________________________\n"
     ]
    }
   ],
   "source": [
    "import tensorflow_model_optimization as tfmot\n",
    "\n",
    "prune_low_magnitude = tfmot.sparsity.keras.prune_low_magnitude\n",
    "\n",
    "# Compute end step to finish pruning after 4 epochs.\n",
    "batch_size = 128\n",
    "epochs = 2\n",
    "validation_split = 0.1 # 10% of training set will be used for validation set. \n",
    "\n",
    "num_images = train_images.shape[0] * (1 - validation_split)\n",
    "end_step = np.ceil(num_images / batch_size).astype(np.int32) * epochs\n",
    "\n",
    "# Define model for pruning.\n",
    "pruning_params = {\n",
    "      'pruning_schedule': tfmot.sparsity.keras.PolynomialDecay(initial_sparsity=0.50,\n",
    "                                                               final_sparsity=0.90,\n",
    "                                                               begin_step=0,\n",
    "                                                               end_step=end_step)\n",
    "}\n",
    "\n",
    "model_for_pruning = prune_low_magnitude(model, **pruning_params)\n",
    "\n",
    "# `prune_low_magnitude` requires a recompile.\n",
    "model_for_pruning.compile(optimizer='adam',\n",
    "              loss=tf.keras.losses.SparseCategoricalCrossentropy(from_logits=True),\n",
    "              metrics=['accuracy'])\n",
    "\n",
    "model_for_pruning.summary()"
   ]
  },
  {
   "cell_type": "code",
   "execution_count": 7,
   "metadata": {},
   "outputs": [
    {
     "name": "stdout",
     "output_type": "stream",
     "text": [
      "Train on 54000 samples, validate on 6000 samples\n",
      "Epoch 1/2\n",
      "54000/54000 [==============================] - 5s 86us/sample - loss: 0.1125 - accuracy: 0.9671 - val_loss: 0.0987 - val_accuracy: 0.9720\n",
      "Epoch 2/2\n",
      "54000/54000 [==============================] - 4s 66us/sample - loss: 0.1127 - accuracy: 0.9675 - val_loss: 0.1172 - val_accuracy: 0.9675\n"
     ]
    },
    {
     "data": {
      "text/plain": [
       "<tensorflow.python.keras.callbacks.History at 0x7fb47827c190>"
      ]
     },
     "execution_count": 7,
     "metadata": {},
     "output_type": "execute_result"
    }
   ],
   "source": [
    "logdir = tempfile.mkdtemp()\n",
    "\n",
    "callbacks = [\n",
    "  tfmot.sparsity.keras.UpdatePruningStep(),\n",
    "  tfmot.sparsity.keras.PruningSummaries(log_dir=logdir),\n",
    "]\n",
    "  \n",
    "model_for_pruning.fit(train_images, train_labels,\n",
    "                  batch_size=batch_size, epochs=epochs, validation_split=validation_split,\n",
    "                  callbacks=callbacks)"
   ]
  },
  {
   "cell_type": "code",
   "execution_count": 8,
   "metadata": {},
   "outputs": [
    {
     "name": "stdout",
     "output_type": "stream",
     "text": [
      "Baseline test accuracy: 0.9776\n",
      "Pruned test accuracy: 0.9623\n"
     ]
    }
   ],
   "source": [
    "\n",
    "\n",
    "_, model_for_pruning_accuracy = model_for_pruning.evaluate(\n",
    "   test_images, test_labels, verbose=0)\n",
    "\n",
    "print('Baseline test accuracy:', baseline_model_accuracy) \n",
    "print('Pruned test accuracy:', model_for_pruning_accuracy)\n",
    "\n"
   ]
  },
  {
   "cell_type": "code",
   "execution_count": 9,
   "metadata": {},
   "outputs": [
    {
     "name": "stdout",
     "output_type": "stream",
     "text": [
      "Saved pruned Keras model to: /tmp/tmp__rlz5_8.h5\n"
     ]
    }
   ],
   "source": [
    "model_for_export = tfmot.sparsity.keras.strip_pruning(model_for_pruning)\n",
    "\n",
    "_, pruned_keras_file = tempfile.mkstemp('.h5')\n",
    "tf.keras.models.save_model(model_for_export, pruned_keras_file, include_optimizer=False)\n",
    "print('Saved pruned Keras model to:', pruned_keras_file)"
   ]
  },
  {
   "cell_type": "markdown",
   "metadata": {},
   "source": [
    "# 3-1. baseline model with only quantizing"
   ]
  },
  {
   "cell_type": "code",
   "execution_count": 10,
   "metadata": {},
   "outputs": [
    {
     "name": "stdout",
     "output_type": "stream",
     "text": [
      "Model: \"sequential\"\n",
      "_________________________________________________________________\n",
      "Layer (type)                 Output Shape              Param #   \n",
      "=================================================================\n",
      "quant_reshape (QuantizeWrapp (None, 28, 28, 1)         1         \n",
      "_________________________________________________________________\n",
      "quant_conv2d (QuantizeWrappe (None, 26, 26, 12)        147       \n",
      "_________________________________________________________________\n",
      "quant_max_pooling2d (Quantiz (None, 13, 13, 12)        1         \n",
      "_________________________________________________________________\n",
      "quant_flatten (QuantizeWrapp (None, 2028)              1         \n",
      "_________________________________________________________________\n",
      "quant_dense (QuantizeWrapper (None, 10)                20295     \n",
      "=================================================================\n",
      "Total params: 20,445\n",
      "Trainable params: 20,410\n",
      "Non-trainable params: 35\n",
      "_________________________________________________________________\n"
     ]
    }
   ],
   "source": [
    "quantize_model = tfmot.quantization.keras.quantize_model\n",
    "\n",
    "# q_aware stands for for quantization aware.\n",
    "q_aware_model = quantize_model(model)\n",
    "\n",
    "# `quantize_model` requires a recompile.\n",
    "q_aware_model.compile(optimizer='adam',\n",
    "              loss=tf.keras.losses.SparseCategoricalCrossentropy(from_logits=True),\n",
    "              metrics=['accuracy'])\n",
    "\n",
    "q_aware_model.summary()\n"
   ]
  },
  {
   "cell_type": "code",
   "execution_count": 11,
   "metadata": {},
   "outputs": [
    {
     "name": "stdout",
     "output_type": "stream",
     "text": [
      "Train on 900 samples, validate on 100 samples\n",
      "900/900 [==============================] - 1s 573us/sample - loss: 0.2224 - accuracy: 0.9644 - val_loss: 0.2870 - val_accuracy: 0.9600\n"
     ]
    },
    {
     "data": {
      "text/plain": [
       "<tensorflow.python.keras.callbacks.History at 0x7fb4383e9190>"
      ]
     },
     "execution_count": 11,
     "metadata": {},
     "output_type": "execute_result"
    }
   ],
   "source": [
    "train_images_subset = train_images[0:1000] # out of 60000\n",
    "train_labels_subset = train_labels[0:1000]\n",
    "\n",
    "q_aware_model.fit(train_images_subset, train_labels_subset,\n",
    "                  batch_size=500, epochs=1, validation_split=0.1)\n"
   ]
  },
  {
   "cell_type": "code",
   "execution_count": 12,
   "metadata": {},
   "outputs": [
    {
     "name": "stdout",
     "output_type": "stream",
     "text": [
      "Baseline test accuracy: 0.9776\n",
      "Pruned test accuracy: 0.9623\n",
      "Quant test accuracy: 0.9566\n"
     ]
    }
   ],
   "source": [
    "_, q_aware_model_accuracy = q_aware_model.evaluate(\n",
    "   test_images, test_labels, verbose=0)\n",
    "\n",
    "print('Baseline test accuracy:', baseline_model_accuracy)\n",
    "print('Pruned test accuracy:', model_for_pruning_accuracy)\n",
    "print('Quant test accuracy:', q_aware_model_accuracy)"
   ]
  },
  {
   "cell_type": "code",
   "execution_count": 13,
   "metadata": {},
   "outputs": [
    {
     "name": "stdout",
     "output_type": "stream",
     "text": [
      "Saved quantized Keras model to: /tmp/tmptx_umyxs.h5\n"
     ]
    }
   ],
   "source": [
    "_, quantized_keras_file = tempfile.mkstemp('.h5')\n",
    "tf.keras.models.save_model(q_aware_model, quantized_keras_file, include_optimizer=False)\n",
    "print('Saved quantized Keras model to:', quantized_keras_file)"
   ]
  },
  {
   "cell_type": "markdown",
   "metadata": {},
   "source": [
    "# 3-2. baseline model with post-quatizing"
   ]
  },
  {
   "cell_type": "code",
   "execution_count": 14,
   "metadata": {},
   "outputs": [],
   "source": [
    "converter = tf.lite.TFLiteConverter.from_keras_model(model)\n",
    "converter.optimizations = [tf.lite.Optimize.DEFAULT]\n",
    "post_quan_tflite_model = converter.convert()\n",
    "\n",
    "_,post_quan_tflite_file = tempfile.mkstemp('.tflite')"
   ]
  },
  {
   "cell_type": "code",
   "execution_count": 15,
   "metadata": {},
   "outputs": [
    {
     "name": "stdout",
     "output_type": "stream",
     "text": [
      "Saved post-quantized TFLite model to: /tmp/tmp0xtd12ut.tflite\n"
     ]
    }
   ],
   "source": [
    "print('Saved post-quantized TFLite model to:',post_quan_tflite_file)"
   ]
  },
  {
   "cell_type": "code",
   "execution_count": 16,
   "metadata": {},
   "outputs": [],
   "source": [
    "# tflite 정확도 측정 함수\n",
    "import numpy as np\n",
    "\n",
    "def evaluate_model(interpreter):\n",
    "  input_index = interpreter.get_input_details()[0][\"index\"]\n",
    "  output_index = interpreter.get_output_details()[0][\"index\"]\n",
    "\n",
    "  # Run predictions on ever y image in the \"test\" dataset.\n",
    "  prediction_digits = []\n",
    "  for i, test_image in enumerate(test_images):\n",
    "    if i % 1000 == 0:\n",
    "      print('Evaluated on {n} results so far.'.format(n=i))\n",
    "    # Pre-processing: add batch dimension and convert to float32 to match with\n",
    "    # the model's input data format.\n",
    "    test_image = np.expand_dims(test_image, axis=0).astype(np.float32)\n",
    "    interpreter.set_tensor(input_index, test_image)\n",
    "\n",
    "    # Run inference.\n",
    "    interpreter.invoke()\n",
    "\n",
    "    # Post-processing: remove batch dimension and find the digit with highest\n",
    "    # probability.\n",
    "    output = interpreter.tensor(output_index)\n",
    "    digit = np.argmax(output()[0])\n",
    "    prediction_digits.append(digit)\n",
    "\n",
    "  print('\\n')\n",
    "  # Compare prediction results with ground truth labels to calculate accuracy.\n",
    "  prediction_digits = np.array(prediction_digits)\n",
    "  accuracy = (prediction_digits == test_labels).mean()\n",
    "  return accuracy"
   ]
  },
  {
   "cell_type": "code",
   "execution_count": 17,
   "metadata": {},
   "outputs": [
    {
     "name": "stdout",
     "output_type": "stream",
     "text": [
      "Evaluated on 0 results so far.\n",
      "Evaluated on 1000 results so far.\n",
      "Evaluated on 2000 results so far.\n",
      "Evaluated on 3000 results so far.\n",
      "Evaluated on 4000 results so far.\n",
      "Evaluated on 5000 results so far.\n",
      "Evaluated on 6000 results so far.\n",
      "Evaluated on 7000 results so far.\n",
      "Evaluated on 8000 results so far.\n",
      "Evaluated on 9000 results so far.\n",
      "\n",
      "\n"
     ]
    }
   ],
   "source": [
    "interpreter_post_q = tf.lite.Interpreter(model_content=post_quan_tflite_model)\n",
    "interpreter_post_q.allocate_tensors()\n",
    "\n",
    "test_post_q_accuracy = evaluate_model(interpreter_post_q)"
   ]
  },
  {
   "cell_type": "code",
   "execution_count": 18,
   "metadata": {},
   "outputs": [
    {
     "name": "stdout",
     "output_type": "stream",
     "text": [
      "Baseline test accuracy: 0.9776\n",
      "Pruned test accuracy: 0.9623\n",
      "Quant test accuracy: 0.9566\n",
      "Post-Quant test accuracy: 0.9617\n"
     ]
    }
   ],
   "source": [
    "print('Baseline test accuracy:', baseline_model_accuracy)\n",
    "print('Pruned test accuracy:', model_for_pruning_accuracy)\n",
    "print('Quant test accuracy:', q_aware_model_accuracy)\n",
    "print('Post-Quant test accuracy:', test_post_q_accuracy)\n",
    "\n"
   ]
  },
  {
   "cell_type": "markdown",
   "metadata": {},
   "source": [
    "# 4. pruned model and quantized model convert to TFLite"
   ]
  },
  {
   "cell_type": "markdown",
   "metadata": {},
   "source": [
    "### pruned model convert to tflite_model"
   ]
  },
  {
   "cell_type": "code",
   "execution_count": 19,
   "metadata": {},
   "outputs": [
    {
     "name": "stdout",
     "output_type": "stream",
     "text": [
      "Saved pruned TFLite model to: /tmp/tmp_at0c82h.tflite\n"
     ]
    }
   ],
   "source": [
    "converter = tf.lite.TFLiteConverter.from_keras_model(model_for_export)\n",
    "pruned_tflite_model = converter.convert()\n",
    "\n",
    "_, pruned_tflite_file = tempfile.mkstemp('.tflite')\n",
    "\n",
    "with open(pruned_tflite_file, 'wb') as f:\n",
    "    f.write(pruned_tflite_model)\n",
    "\n",
    "print('Saved pruned TFLite model to:', pruned_tflite_file)"
   ]
  },
  {
   "cell_type": "markdown",
   "metadata": {},
   "source": [
    "### quantized model convert to tflite_model"
   ]
  },
  {
   "cell_type": "code",
   "execution_count": 20,
   "metadata": {},
   "outputs": [
    {
     "name": "stdout",
     "output_type": "stream",
     "text": [
      "Saved quantized TFLite model to: /tmp/tmpqbzhywf6.tflite\n"
     ]
    }
   ],
   "source": [
    "converter = tf.lite.TFLiteConverter.from_keras_model(q_aware_model)\n",
    "quantized_tflite_model = converter.convert()\n",
    "\n",
    "_, quantized_tflite_file = tempfile.mkstemp('.tflite')\n",
    "\n",
    "with open(quantized_tflite_file, 'wb') as f:\n",
    "    f.write(quantized_tflite_model)\n",
    "\n",
    "print('Saved quantized TFLite model to:', quantized_tflite_file)\n"
   ]
  },
  {
   "cell_type": "code",
   "execution_count": 21,
   "metadata": {},
   "outputs": [
    {
     "name": "stdout",
     "output_type": "stream",
     "text": [
      "Evaluated on 0 results so far.\n",
      "Evaluated on 1000 results so far.\n",
      "Evaluated on 2000 results so far.\n",
      "Evaluated on 3000 results so far.\n",
      "Evaluated on 4000 results so far.\n",
      "Evaluated on 5000 results so far.\n",
      "Evaluated on 6000 results so far.\n",
      "Evaluated on 7000 results so far.\n",
      "Evaluated on 8000 results so far.\n",
      "Evaluated on 9000 results so far.\n",
      "\n",
      "\n",
      "Evaluated on 0 results so far.\n",
      "Evaluated on 1000 results so far.\n",
      "Evaluated on 2000 results so far.\n",
      "Evaluated on 3000 results so far.\n",
      "Evaluated on 4000 results so far.\n",
      "Evaluated on 5000 results so far.\n",
      "Evaluated on 6000 results so far.\n",
      "Evaluated on 7000 results so far.\n",
      "Evaluated on 8000 results so far.\n",
      "Evaluated on 9000 results so far.\n",
      "\n",
      "\n"
     ]
    }
   ],
   "source": [
    "interpreter_p = tf.lite.Interpreter(model_content=pruned_tflite_model)\n",
    "interpreter_q = tf.lite.Interpreter(model_content=quantized_tflite_model)\n",
    "\n",
    "interpreter_p.allocate_tensors()\n",
    "interpreter_q.allocate_tensors()\n",
    "\n",
    "test_accuracy_p = evaluate_model(interpreter_p)\n",
    "test_accuracy_q = evaluate_model(interpreter_q)"
   ]
  },
  {
   "cell_type": "code",
   "execution_count": 22,
   "metadata": {},
   "outputs": [
    {
     "name": "stdout",
     "output_type": "stream",
     "text": [
      "Baseline test accuracy: 0.9776 \n",
      "\n",
      "Pruned test accuracy: 0.9623 \n",
      "\n",
      "Quant test accuracy: 0.9566 \n",
      "\n",
      "Post-Quant test accuracy: 0.9617 \n",
      "\n",
      "Prun TFLite test_accuracy: 0.9623 \n",
      "\n",
      "Quant TFLite test_accuracy: 0.9566 \n",
      "\n"
     ]
    }
   ],
   "source": [
    "print('Baseline test accuracy:', baseline_model_accuracy,\"\\n\")\n",
    "print('Pruned test accuracy:', model_for_pruning_accuracy,\"\\n\")\n",
    "print('Quant test accuracy:', q_aware_model_accuracy,\"\\n\")\n",
    "print('Post-Quant test accuracy:', test_post_q_accuracy,\"\\n\")\n",
    "print('Prun TFLite test_accuracy:', test_accuracy_p,\"\\n\")\n",
    "print('Quant TFLite test_accuracy:', test_accuracy_q,\"\\n\")"
   ]
  },
  {
   "cell_type": "markdown",
   "metadata": {},
   "source": [
    "# 5-1. baseline model with pruning and quantizing"
   ]
  },
  {
   "cell_type": "code",
   "execution_count": 23,
   "metadata": {},
   "outputs": [
    {
     "name": "stdout",
     "output_type": "stream",
     "text": [
      "Model: \"sequential\"\n",
      "_________________________________________________________________\n",
      "Layer (type)                 Output Shape              Param #   \n",
      "=================================================================\n",
      "quant_reshape (QuantizeWrapp (None, 28, 28, 1)         1         \n",
      "_________________________________________________________________\n",
      "quant_conv2d (QuantizeWrappe (None, 26, 26, 12)        147       \n",
      "_________________________________________________________________\n",
      "quant_max_pooling2d (Quantiz (None, 13, 13, 12)        1         \n",
      "_________________________________________________________________\n",
      "quant_flatten (QuantizeWrapp (None, 2028)              1         \n",
      "_________________________________________________________________\n",
      "quant_dense (QuantizeWrapper (None, 10)                20295     \n",
      "=================================================================\n",
      "Total params: 20,445\n",
      "Trainable params: 20,410\n",
      "Non-trainable params: 35\n",
      "_________________________________________________________________\n"
     ]
    }
   ],
   "source": [
    "q_aware_prun_model = quantize_model(model_for_export)\n",
    "q_aware_prun_model.compile(optimizer='adam',\n",
    "              loss=tf.keras.losses.SparseCategoricalCrossentropy(from_logits=True),\n",
    "              metrics=['accuracy'])\n",
    "\n",
    "\n",
    "q_aware_prun_model.summary()\n"
   ]
  },
  {
   "cell_type": "code",
   "execution_count": 25,
   "metadata": {},
   "outputs": [
    {
     "name": "stdout",
     "output_type": "stream",
     "text": [
      "Train on 900 samples, validate on 100 samples\n",
      "900/900 [==============================] - 0s 85us/sample - loss: 0.0976 - accuracy: 0.9800 - val_loss: 0.2041 - val_accuracy: 0.9600\n"
     ]
    },
    {
     "data": {
      "text/plain": [
       "<tensorflow.python.keras.callbacks.History at 0x7fb15781f190>"
      ]
     },
     "execution_count": 25,
     "metadata": {},
     "output_type": "execute_result"
    }
   ],
   "source": [
    "train_images_subset = train_images[0:1000] # out of 60000\n",
    "train_labels_subset = train_labels[0:1000]\n",
    "\n",
    "q_aware_prun_model.fit(train_images_subset, train_labels_subset,\n",
    "                  batch_size=500, epochs=1, validation_split=0.1)"
   ]
  },
  {
   "cell_type": "code",
   "execution_count": 26,
   "metadata": {},
   "outputs": [],
   "source": [
    "_, q_aware_prun_model_accuracy =q_aware_prun_model.evaluate(test_images, test_labels, verbose=0)"
   ]
  },
  {
   "cell_type": "code",
   "execution_count": 27,
   "metadata": {},
   "outputs": [
    {
     "name": "stdout",
     "output_type": "stream",
     "text": [
      "Baseline test accuracy: 0.9776 \n",
      "\n",
      "Pruned test accuracy: 0.9623 \n",
      "\n",
      "Quant test accuracy: 0.9566 \n",
      "\n",
      "Post-Quant test accuracy: 0.9617 \n",
      "\n",
      "Prun TFLite test_accuracy: 0.9623 \n",
      "\n",
      "Quant TFLite test_accuracy: 0.9566 \n",
      "\n",
      "Pruned and quantized test_accuracy: 0.9635 \n",
      "\n"
     ]
    }
   ],
   "source": [
    "print('Baseline test accuracy:', baseline_model_accuracy,\"\\n\")\n",
    "print('Pruned test accuracy:', model_for_pruning_accuracy,\"\\n\")\n",
    "print('Quant test accuracy:', q_aware_model_accuracy,\"\\n\")\n",
    "print('Post-Quant test accuracy:', test_post_q_accuracy,\"\\n\")\n",
    "print('Prun TFLite test_accuracy:', test_accuracy_p,\"\\n\")\n",
    "print('Quant TFLite test_accuracy:', test_accuracy_q,\"\\n\")\n",
    "print('Pruned and quantized test_accuracy:', q_aware_prun_model_accuracy,\"\\n\")"
   ]
  },
  {
   "cell_type": "code",
   "execution_count": 28,
   "metadata": {},
   "outputs": [
    {
     "name": "stdout",
     "output_type": "stream",
     "text": [
      "Saved pruned and quantized Keras model to: /tmp/tmpm_ti0sng.h5\n"
     ]
    }
   ],
   "source": [
    "_, pruned_and_quantized_keras_file = tempfile.mkstemp('.h5')\n",
    "tf.keras.models.save_model(q_aware_prun_model, pruned_and_quantized_keras_file, include_optimizer=False)\n",
    "print('Saved pruned and quantized Keras model to:', pruned_and_quantized_keras_file)"
   ]
  },
  {
   "cell_type": "markdown",
   "metadata": {},
   "source": [
    "# 5-2. baseline model with pruning and post-quantizing"
   ]
  },
  {
   "cell_type": "code",
   "execution_count": 29,
   "metadata": {},
   "outputs": [
    {
     "name": "stdout",
     "output_type": "stream",
     "text": [
      "Saved quantized and pruned TFLite model to: /tmp/tmpr0yjxjyt.tflite\n"
     ]
    }
   ],
   "source": [
    "converter = tf.lite.TFLiteConverter.from_keras_model(model_for_export)\n",
    "converter.optimizations = [tf.lite.Optimize.DEFAULT]\n",
    "post_quantized_and_pruned_tflite_model = converter.convert()\n",
    "\n",
    "_, post_quantized_and_pruned_tflite_file = tempfile.mkstemp('.tflite')\n",
    "\n",
    "with open(post_quantized_and_pruned_tflite_file, 'wb') as f:\n",
    "  f.write(post_quantized_and_pruned_tflite_model)\n",
    "\n",
    "print('Saved quantized and pruned TFLite model to:', post_quantized_and_pruned_tflite_file)"
   ]
  },
  {
   "cell_type": "code",
   "execution_count": 30,
   "metadata": {},
   "outputs": [
    {
     "name": "stdout",
     "output_type": "stream",
     "text": [
      "Evaluated on 0 results so far.\n",
      "Evaluated on 1000 results so far.\n",
      "Evaluated on 2000 results so far.\n",
      "Evaluated on 3000 results so far.\n",
      "Evaluated on 4000 results so far.\n",
      "Evaluated on 5000 results so far.\n",
      "Evaluated on 6000 results so far.\n",
      "Evaluated on 7000 results so far.\n",
      "Evaluated on 8000 results so far.\n",
      "Evaluated on 9000 results so far.\n",
      "\n",
      "\n"
     ]
    }
   ],
   "source": [
    "interpreter_p_post_q = tf.lite.Interpreter(model_content=post_quantized_and_pruned_tflite_model)\n",
    "interpreter_p_post_q.allocate_tensors()\n",
    "\n",
    "test_accuracy_p_post_q = evaluate_model(interpreter_p_post_q)\n"
   ]
  },
  {
   "cell_type": "code",
   "execution_count": 31,
   "metadata": {},
   "outputs": [
    {
     "name": "stdout",
     "output_type": "stream",
     "text": [
      "Baseline test accuracy: 0.9776 \n",
      "\n",
      "Pruned test accuracy: 0.9623 \n",
      "\n",
      "Quant test accuracy: 0.9566 \n",
      "\n",
      "Post-Quant test accuracy: 0.9617 \n",
      "\n",
      "Prun TFLite test_accuracy: 0.9623 \n",
      "\n",
      "Quant TFLite test_accuracy: 0.9566 \n",
      "\n",
      "Pruned and quantized test_accuracy: 0.9635 \n",
      "\n",
      "Pruned and post-quantized test_accuracy: 0.9617 \n",
      "\n"
     ]
    }
   ],
   "source": [
    "print('Baseline test accuracy:', baseline_model_accuracy,\"\\n\")\n",
    "print('Pruned test accuracy:', model_for_pruning_accuracy,\"\\n\")\n",
    "print('Quant test accuracy:', q_aware_model_accuracy,\"\\n\")\n",
    "print('Post-Quant test accuracy:', test_post_q_accuracy,\"\\n\")\n",
    "print('Prun TFLite test_accuracy:', test_accuracy_p,\"\\n\")\n",
    "print('Quant TFLite test_accuracy:', test_accuracy_q,\"\\n\")\n",
    "print('Pruned and quantized test_accuracy:', q_aware_prun_model_accuracy,\"\\n\")\n",
    "print('Pruned and post-quantized test_accuracy:', test_accuracy_p_post_q,\"\\n\")"
   ]
  },
  {
   "cell_type": "markdown",
   "metadata": {},
   "source": [
    "# 6. pruned and quantized model convert to TFLite"
   ]
  },
  {
   "cell_type": "code",
   "execution_count": 32,
   "metadata": {},
   "outputs": [
    {
     "name": "stdout",
     "output_type": "stream",
     "text": [
      "Saved pruned TFLite model to: /tmp/tmpv98is5wu.tflite\n"
     ]
    }
   ],
   "source": [
    "converter = tf.lite.TFLiteConverter.from_keras_model(q_aware_prun_model)\n",
    "pruned_quantized_tflite_model = converter.convert()\n",
    "\n",
    "_, pruned_quantized_tflite_file = tempfile.mkstemp('.tflite')\n",
    "\n",
    "with open(pruned_quantized_tflite_file, 'wb') as f:\n",
    "    f.write(pruned_quantized_tflite_model)\n",
    "\n",
    "print('Saved pruned TFLite model to:', pruned_quantized_tflite_file)"
   ]
  },
  {
   "cell_type": "code",
   "execution_count": 33,
   "metadata": {},
   "outputs": [
    {
     "name": "stdout",
     "output_type": "stream",
     "text": [
      "Evaluated on 0 results so far.\n",
      "Evaluated on 1000 results so far.\n",
      "Evaluated on 2000 results so far.\n",
      "Evaluated on 3000 results so far.\n",
      "Evaluated on 4000 results so far.\n",
      "Evaluated on 5000 results so far.\n",
      "Evaluated on 6000 results so far.\n",
      "Evaluated on 7000 results so far.\n",
      "Evaluated on 8000 results so far.\n",
      "Evaluated on 9000 results so far.\n",
      "\n",
      "\n"
     ]
    }
   ],
   "source": [
    "interpreter_p_q = tf.lite.Interpreter(model_content=pruned_quantized_tflite_model)\n",
    "interpreter_p_q.allocate_tensors()\n",
    "\n",
    "test_accuracy_p_q = evaluate_model(interpreter_p_q)"
   ]
  },
  {
   "cell_type": "code",
   "execution_count": 34,
   "metadata": {},
   "outputs": [
    {
     "name": "stdout",
     "output_type": "stream",
     "text": [
      "Baseline test accuracy: 0.9776 \n",
      "\n",
      "Pruned test accuracy: 0.9623 \n",
      "\n",
      "Quant test accuracy: 0.9566 \n",
      "\n",
      "Post-Quant test accuracy: 0.9617 \n",
      "\n",
      "Prun TFLite test_accuracy: 0.9623 \n",
      "\n",
      "Quant TFLite test_accuracy: 0.9566 \n",
      "\n",
      "Pruned and quantized test_accuracy: 0.9635 \n",
      "\n",
      "Pruned and post-quantized test_accuracy: 0.9617 \n",
      "\n",
      "Pruned and quantized TFLite test_accuracy: 0.9635 \n",
      "\n"
     ]
    }
   ],
   "source": [
    "print('Baseline test accuracy:', baseline_model_accuracy,\"\\n\")\n",
    "print('Pruned test accuracy:', model_for_pruning_accuracy,\"\\n\")\n",
    "print('Quant test accuracy:', q_aware_model_accuracy,\"\\n\")\n",
    "print('Post-Quant test accuracy:', test_post_q_accuracy,\"\\n\")\n",
    "print('Prun TFLite test_accuracy:', test_accuracy_p,\"\\n\")\n",
    "print('Quant TFLite test_accuracy:', test_accuracy_q,\"\\n\")\n",
    "print('Pruned and quantized test_accuracy:', q_aware_prun_model_accuracy,\"\\n\")\n",
    "print('Pruned and post-quantized test_accuracy:', test_accuracy_p_post_q,\"\\n\")\n",
    "print('Pruned and quantized TFLite test_accuracy:', test_accuracy_p_q,\"\\n\")\n"
   ]
  },
  {
   "cell_type": "markdown",
   "metadata": {},
   "source": [
    "# 결론(Result)"
   ]
  },
  {
   "cell_type": "markdown",
   "metadata": {},
   "source": [
    "### 모든 모델의 정확도"
   ]
  },
  {
   "cell_type": "code",
   "execution_count": 35,
   "metadata": {},
   "outputs": [
    {
     "name": "stdout",
     "output_type": "stream",
     "text": [
      "Baseline test accuracy: 0.9776 \n",
      "\n",
      "Pruned test accuracy: 0.9623 \n",
      "\n",
      "Quant test accuracy: 0.9566 \n",
      "\n",
      "Post-Quant test accuracy: 0.9617 \n",
      "\n",
      "Prun TFLite test_accuracy: 0.9623 \n",
      "\n",
      "Quant TFLite test_accuracy: 0.9566 \n",
      "\n",
      "Pruned and quantized test_accuracy: 0.9635 \n",
      "\n",
      "Pruned and post-quantized test_accuracy: 0.9617 \n",
      "\n",
      "Pruned and post-quantized test_accuracy: 0.9635 \n",
      "\n"
     ]
    }
   ],
   "source": [
    "print('Baseline test accuracy:', baseline_model_accuracy,\"\\n\")\n",
    "print('Pruned test accuracy:', model_for_pruning_accuracy,\"\\n\")\n",
    "print('Quant test accuracy:', q_aware_model_accuracy,\"\\n\")\n",
    "print('Post-Quant test accuracy:', test_post_q_accuracy,\"\\n\")\n",
    "print('Prun TFLite test_accuracy:', test_accuracy_p,\"\\n\")\n",
    "print('Quant TFLite test_accuracy:', test_accuracy_q,\"\\n\")\n",
    "print('Pruned and quantized test_accuracy:', q_aware_prun_model_accuracy,\"\\n\")\n",
    "print('Pruned and post-quantized test_accuracy:', test_accuracy_p_post_q,\"\\n\")\n",
    "print('Pruned and post-quantized test_accuracy:', test_accuracy_p_q,\"\\n\")\n"
   ]
  },
  {
   "cell_type": "code",
   "execution_count": 43,
   "metadata": {},
   "outputs": [
    {
     "data": {
      "image/png": "[encoded data removed]",
      "text/plain": [
       "<Figure size 576x576 with 1 Axes>"
      ]
     },
     "metadata": {
      "needs_background": "light"
     },
     "output_type": "display_data"
    }
   ],
   "source": [
    "from matplotlib import pyplot as plt\n",
    "\n",
    "y = [baseline_model_accuracy, model_for_pruning_accuracy,\n",
    "     q_aware_model_accuracy, test_post_q_accuracy,\n",
    "     test_accuracy_p, test_accuracy_q,\n",
    "     q_aware_prun_model_accuracy, test_accuracy_p_post_q, test_accuracy_p_q]\n",
    "\n",
    "x = [\"base\", \"prun\", \"quan\", \"post\",\n",
    "     \"prun_tf\",\"quan_tf\", \"prun_quan\",\n",
    "     \"prun_post\", \"prun_quan_tf\"]\n",
    "plt.figure(figsize=(8, 8))\n",
    "plt.barh(x, y, color=\"skyblue\", height=0.6)\n",
    "plt.xlim(0.9, 0.99)\n",
    "\n",
    "plt.yticks(x,fontsize=13)\n",
    "plt.title(\"Accuracy compare\")\n",
    "plt.show()"
   ]
  },
  {
   "cell_type": "markdown",
   "metadata": {},
   "source": [
    "### 모든 모델의 크기"
   ]
  },
  {
   "cell_type": "code",
   "execution_count": 44,
   "metadata": {},
   "outputs": [],
   "source": [
    "def get_gzipped_model_size(file):\n",
    "  # Returns size of gzipped model, in bytes.\n",
    "  import os\n",
    "  import zipfile\n",
    "\n",
    "  _, zipped_file = tempfile.mkstemp('.zip')\n",
    "  with zipfile.ZipFile(zipped_file, 'w', compression=zipfile.ZIP_DEFLATED) as f:\n",
    "    f.write(file)\n",
    "\n",
    "  return os.path.getsize(zipped_file)"
   ]
  },
  {
   "cell_type": "code",
   "execution_count": 45,
   "metadata": {},
   "outputs": [
    {
     "name": "stdout",
     "output_type": "stream",
     "text": [
      "Size of gzipped baseline Keras model: 77970.00 bytes\n",
      "\n",
      "Size of gzipped pruned Keras model: 17338.00 bytes\n",
      "\n",
      "Size of gzipped quantizied Keras model: 33252.00 bytes\n",
      "\n",
      "Size of gzipped post-quantized model: 144.00 bytes\n",
      "\n",
      "Size of gzipped pruned TFlite model: 16328.00 bytes\n",
      "\n",
      "Size of gzipped quantized TFlite model: 7352.00 bytes\n",
      "\n",
      "Size of gzipped pruned and quantized Keras model: 36050.00 bytes\n",
      "\n",
      "Size of gzipped pruned and post-quantized model: 5157.00 bytes\n",
      "\n",
      "Size of gzipped pruned and quantized TFlite model: 10897.00 bytes\n",
      "\n"
     ]
    }
   ],
   "source": [
    "print(\"Size of gzipped baseline Keras model: %.2f bytes\\n\" % (get_gzipped_model_size(keras_file)))\n",
    "print(\"Size of gzipped pruned Keras model: %.2f bytes\\n\" % (get_gzipped_model_size(pruned_keras_file)))\n",
    "print(\"Size of gzipped quantizied Keras model: %.2f bytes\\n\" % (get_gzipped_model_size(quantized_keras_file)))\n",
    "print(\"Size of gzipped post-quantized model: %.2f bytes\\n\" % (get_gzipped_model_size(post_quan_tflite_file)))\n",
    "print(\"Size of gzipped pruned TFlite model: %.2f bytes\\n\" % (get_gzipped_model_size(pruned_tflite_file)))\n",
    "print(\"Size of gzipped quantized TFlite model: %.2f bytes\\n\" % (get_gzipped_model_size(quantized_tflite_file)))\n",
    "print(\"Size of gzipped pruned and quantized Keras model: %.2f bytes\\n\" % (get_gzipped_model_size(pruned_and_quantized_keras_file)))\n",
    "print(\"Size of gzipped pruned and post-quantized model: %.2f bytes\\n\" % (get_gzipped_model_size(post_quantized_and_pruned_tflite_file)))\n",
    "print(\"Size of gzipped pruned and quantized TFlite model: %.2f bytes\\n\" % (get_gzipped_model_size(pruned_quantized_tflite_file)))"
   ]
  },
  {
   "cell_type": "code",
   "execution_count": 46,
   "metadata": {},
   "outputs": [
    {
     "data": {
      "image/png": "[encoded data removed]",
      "text/plain": [
       "<Figure size 576x576 with 1 Axes>"
      ]
     },
     "metadata": {
      "needs_background": "light"
     },
     "output_type": "display_data"
    }
   ],
   "source": [
    "y = [get_gzipped_model_size(keras_file),\n",
    "     get_gzipped_model_size(pruned_keras_file),\n",
    "     get_gzipped_model_size(quantized_keras_file),\n",
    "     get_gzipped_model_size(post_quan_tflite_file),\n",
    "     get_gzipped_model_size(pruned_tflite_file),\n",
    "     get_gzipped_model_size(quantized_tflite_file),\n",
    "     get_gzipped_model_size(pruned_and_quantized_keras_file),\n",
    "     get_gzipped_model_size(post_quantized_and_pruned_tflite_file),\n",
    "     get_gzipped_model_size(pruned_quantized_tflite_file)]\n",
    "\n",
    "\n",
    "x = [\"base\", \"prun\", \"quan\", \"post\",\n",
    "     \"prun_tf\",\"quan_tf\", \"prun_quan\",\n",
    "     \"prun_post\", \"prun_quan_tf\"]\n",
    "plt.figure(figsize=(8, 8))\n",
    "plt.barh(x, y, color=\"skyblue\", height=0.6)\n",
    "#plt.xlim(0.0,0.9)\n",
    "\n",
    "plt.yticks(x,fontsize=13)\n",
    "plt.title(\"Model Size compare\")\n",
    "plt.show()"
   ]
  },
  {
   "cell_type": "code",
   "execution_count": 47,
   "metadata": {},
   "outputs": [
    {
     "data": {
      "image/png": "[encoded data removed]",
      "text/plain": [
       "<Figure size 432x288 with 1 Axes>"
      ]
     },
     "metadata": {
      "needs_background": "light"
     },
     "output_type": "display_data"
    }
   ],
   "source": [
    "y = [get_gzipped_model_size(pruned_keras_file),\n",
    "     get_gzipped_model_size(post_quan_tflite_file),\n",
    "     get_gzipped_model_size(pruned_tflite_file),\n",
    "     get_gzipped_model_size(quantized_tflite_file),\n",
    "     get_gzipped_model_size(post_quantized_and_pruned_tflite_file),\n",
    "     get_gzipped_model_size(pruned_quantized_tflite_file)]\n",
    "\n",
    "x = [\"prun\", \"post\",\n",
    "     \"prun_tf\",\"quan_tf\",\n",
    "     \"prun_post\", \"prun_quan_tf\"]\n",
    "\n",
    "plt.barh(x, y, color=\"blue\", height=0.6)\n",
    "#plt.xlim(0.0,0.9)\n",
    "\n",
    "plt.yticks(x,fontsize=13)\n",
    "plt.title(\"Model Size compare\")\n",
    "plt.show()"
   ]
  },
  {
   "cell_type": "code",
   "execution_count": 48,
   "metadata": {},
   "outputs": [
    {
     "data": {
      "image/png": "[encoded data removed]",
      "text/plain": [
       "<Figure size 432x288 with 1 Axes>"
      ]
     },
     "metadata": {
      "needs_background": "light"
     },
     "output_type": "display_data"
    }
   ],
   "source": [
    "y = [get_gzipped_model_size(post_quan_tflite_file),\n",
    "     get_gzipped_model_size(post_quantized_and_pruned_tflite_file)]\n",
    "\n",
    "x = [\"post\",\n",
    "     \"prun_post\"]\n",
    "\n",
    "plt.barh(x, y, color=\"red\", height=0.6)\n",
    "#plt.xlim(0.0,0.9)\n",
    "\n",
    "plt.yticks(x,fontsize=13)\n",
    "plt.title(\"Model Size compare\")\n",
    "plt.show()"
   ]
  },
  {
   "cell_type": "code",
   "execution_count": 50,
   "metadata": {},
   "outputs": [
    {
     "data": {
      "image/png": "[encoded data removed]",
      "text/plain": [
       "<Figure size 432x288 with 1 Axes>"
      ]
     },
     "metadata": {
      "needs_background": "light"
     },
     "output_type": "display_data"
    }
   ],
   "source": [
    "y = [get_gzipped_model_size(keras_file),\n",
    "     get_gzipped_model_size(quantized_keras_file),\n",
    "     get_gzipped_model_size(pruned_and_quantized_keras_file)]\n",
    "\n",
    "\n",
    "x = [\"base\", \"quan\", \"prun_quan\"]\n",
    "\n",
    "plt.barh(x, y, color=\"green\", height=0.6)\n",
    "\n",
    "\n",
    "plt.yticks(x,fontsize=13)\n",
    "plt.title(\"Model Size compare\")\n",
    "plt.show()"
   ]
  },
  {
   "cell_type": "code",
   "execution_count": 58,
   "metadata": {},
   "outputs": [
    {
     "data": {
      "image/png": "[encoded data removed]",
      "text/plain": [
       "<Figure size 576x576 with 1 Axes>"
      ]
     },
     "metadata": {
      "needs_background": "light"
     },
     "output_type": "display_data"
    }
   ],
   "source": [
    "x = [baseline_model_accuracy, model_for_pruning_accuracy,\n",
    "     q_aware_model_accuracy, test_post_q_accuracy,\n",
    "     test_accuracy_p, test_accuracy_q,\n",
    "     q_aware_prun_model_accuracy, test_accuracy_p_post_q, test_accuracy_p_q]\n",
    "\n",
    "y = [get_gzipped_model_size(keras_file),\n",
    "     get_gzipped_model_size(pruned_keras_file),\n",
    "     get_gzipped_model_size(quantized_keras_file),\n",
    "     get_gzipped_model_size(post_quan_tflite_file),\n",
    "     get_gzipped_model_size(pruned_tflite_file),\n",
    "     get_gzipped_model_size(quantized_tflite_file),\n",
    "     get_gzipped_model_size(pruned_and_quantized_keras_file),\n",
    "     get_gzipped_model_size(post_quantized_and_pruned_tflite_file),\n",
    "     get_gzipped_model_size(pruned_quantized_tflite_file)]\n",
    "\n",
    "z = [\"base\", \"prun\", \"quan\", \"post\",\n",
    "     \"prun_tf\",\"quan_tf\", \"prun_quan\",\n",
    "     \"prun_post\", \"prun_quan_tf\"]\n",
    "\n",
    "c = ['b','g','r','c','yellow','m','k','orange',\"brown\"]\n",
    "d = [(10,10),(10,10),(10,-15),(10,10),(10,-15),(10,10),(10,10),(10,10),(10,10)]\n",
    "plt.figure(figsize=(8, 8))\n",
    "plt.scatter(x,y, color=c)\n",
    "\n",
    "for xs,ys in zip(x,y):\n",
    "    plt.annotate(z[x.index(xs)], (xs,ys), textcoords=\"offset points\",xytext=d[x.index(xs)],ha='right')\n",
    "    \n",
    "plt.ylabel('Model Size')\n",
    "plt.xlabel('Accuracy')\n",
    "plt.show()\n",
    "\n"
   ]
  },
  {
   "cell_type": "code",
   "execution_count": 62,
   "metadata": {},
   "outputs": [
    {
     "data": {
      "image/png": "[encoded data removed]",
      "text/plain": [
       "<Figure size 576x576 with 1 Axes>"
      ]
     },
     "metadata": {
      "needs_background": "light"
     },
     "output_type": "display_data"
    }
   ],
   "source": [
    "x = [model_for_pruning_accuracy,\n",
    "     q_aware_model_accuracy, test_post_q_accuracy,\n",
    "     test_accuracy_p, test_accuracy_q,\n",
    "     q_aware_prun_model_accuracy, test_accuracy_p_post_q, test_accuracy_p_q]\n",
    "\n",
    "y = [get_gzipped_model_size(pruned_keras_file),\n",
    "     get_gzipped_model_size(quantized_keras_file),\n",
    "     get_gzipped_model_size(post_quan_tflite_file),\n",
    "     get_gzipped_model_size(pruned_tflite_file),\n",
    "     get_gzipped_model_size(quantized_tflite_file),\n",
    "     get_gzipped_model_size(pruned_and_quantized_keras_file),\n",
    "     get_gzipped_model_size(post_quantized_and_pruned_tflite_file),\n",
    "     get_gzipped_model_size(pruned_quantized_tflite_file)]\n",
    "\n",
    "z = [\"prun\", \"quan\", \"post\",\n",
    "     \"prun_tf\",\"quan_tf\", \"prun_quan\",\n",
    "     \"prun_post\", \"prun_quan_tf\"]\n",
    "\n",
    "c = ['b','g','r','c','yellow','m','k','orange']\n",
    "d = [(10,10),(10,10),(10,-15),(10,-15),(50,0),(10,10),(10,10),(10,10)]\n",
    "plt.figure(figsize=(8, 8))\n",
    "plt.scatter(x,y, color=c)\n",
    "\n",
    "for xs,ys in zip(x,y):\n",
    "    plt.annotate(z[x.index(xs)], (xs,ys), textcoords=\"offset points\",xytext=d[x.index(xs)],ha='right')\n",
    "    \n",
    "plt.ylabel('Model Size')\n",
    "plt.xlabel('Accuracy')\n",
    "plt.show()\n",
    "\n"
   ]
  }
 ],
 "metadata": {
  "kernelspec": {
   "display_name": "Python 3",
   "language": "python",
   "name": "python3"
  },
  "language_info": {
   "codemirror_mode": {
    "name": "ipython",
    "version": 3
   },
   "file_extension": ".py",
   "mimetype": "text/x-python",
   "name": "python",
   "nbconvert_exporter": "python",
   "pygments_lexer": "ipython3",
   "version": "3.7.7"
  }
 },
 "nbformat": 4,
 "nbformat_minor": 4
}
