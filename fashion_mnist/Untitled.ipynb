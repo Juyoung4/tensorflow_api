{
 "cells": [
  {
   "cell_type": "code",
   "execution_count": 1,
   "metadata": {},
   "outputs": [
    {
     "ename": "ModuleNotFoundError",
     "evalue": "No module named 'matplotlib'",
     "output_type": "error",
     "traceback": [
      "\u001b[0;31m---------------------------------------------------------------------------\u001b[0m",
      "\u001b[0;31mModuleNotFoundError\u001b[0m                       Traceback (most recent call last)",
      "\u001b[0;32m<ipython-input-1-0d4fad776f14>\u001b[0m in \u001b[0;36m<module>\u001b[0;34m\u001b[0m\n\u001b[0;32m----> 1\u001b[0;31m \u001b[0;32mfrom\u001b[0m \u001b[0mmatplotlib\u001b[0m \u001b[0;32mimport\u001b[0m \u001b[0mpyplot\u001b[0m \u001b[0;32mas\u001b[0m \u001b[0mplt\u001b[0m\u001b[0;34m\u001b[0m\u001b[0;34m\u001b[0m\u001b[0m\n\u001b[0m\u001b[1;32m      2\u001b[0m \u001b[0;34m\u001b[0m\u001b[0m\n\u001b[1;32m      3\u001b[0m \u001b[0my\u001b[0m \u001b[0;34m=\u001b[0m \u001b[0;34m[\u001b[0m\u001b[0;36m0.9819\u001b[0m\u001b[0;34m,\u001b[0m \u001b[0;36m0.9567\u001b[0m\u001b[0;34m,\u001b[0m \u001b[0;36m0.9813\u001b[0m\u001b[0;34m,\u001b[0m \u001b[0;36m0.982\u001b[0m\u001b[0;34m,\u001b[0m \u001b[0;36m0.9821\u001b[0m\u001b[0;34m,\u001b[0m \u001b[0;36m0.9819\u001b[0m\u001b[0;34m,\u001b[0m \u001b[0;36m0.9567\u001b[0m\u001b[0;34m,\u001b[0m \u001b[0;36m0.9668\u001b[0m\u001b[0;34m,\u001b[0m \u001b[0;36m0.983\u001b[0m\u001b[0;34m,\u001b[0m \u001b[0;36m0.9574\u001b[0m\u001b[0;34m,\u001b[0m \u001b[0;36m0.9565\u001b[0m\u001b[0;34m,\u001b[0m \u001b[0;36m0.9567\u001b[0m\u001b[0;34m,\u001b[0m \u001b[0;36m0.9656\u001b[0m\u001b[0;34m]\u001b[0m\u001b[0;34m\u001b[0m\u001b[0;34m\u001b[0m\u001b[0m\n\u001b[1;32m      4\u001b[0m \u001b[0;34m\u001b[0m\u001b[0m\n\u001b[1;32m      5\u001b[0m x = ['base', 'weight_prun','quan_aware',\n",
      "\u001b[0;31mModuleNotFoundError\u001b[0m: No module named 'matplotlib'"
     ]
    }
   ],
   "source": [
    "from matplotlib import pyplot as plt\n",
    "\n",
    "y = [0.9819, 0.9567, 0.9813, 0.982, 0.9821, 0.9819, 0.9567, 0.9668, 0.983, 0.9574, 0.9565, 0.9567, 0.9656]\n",
    "\n",
    "x = ['base', 'weight_prun','quan_aware',\n",
    "    'post_dynamic','post_integer',\n",
    "    'post_float16','weight_prun + TFLite',\n",
    "    'weight_prun + quan_aware','quan_aware + post_dynamic',\n",
    "    'weight_prun + post_dynamic', 'weight_prun + post_integer',\n",
    "    'weight_prun + post_float16', 'weight_prun + quan_aware + post_dynamic']\n",
    "\n",
    "plt.figure(figsize=(8, 8))\n",
    "plt.barh(x, y, color=\"skyblue\", height=0.6)\n",
    "plt.xlim(0.95, 0.98)\n",
    "\n",
    "plt.yticks(x,fontsize=13)\n",
    "plt.title(\"Accuracy compare\")\n",
    "plt.show()"
   ]
  },
  {
   "cell_type": "code",
   "execution_count": null,
   "metadata": {},
   "outputs": [],
   "source": []
  }
 ],
 "metadata": {
  "kernelspec": {
   "display_name": "Python 3",
   "language": "python",
   "name": "python3"
  },
  "language_info": {
   "codemirror_mode": {
    "name": "ipython",
    "version": 3
   },
   "file_extension": ".py",
   "mimetype": "text/x-python",
   "name": "python",
   "nbconvert_exporter": "python",
   "pygments_lexer": "ipython3",
   "version": "3.6.8"
  }
 },
 "nbformat": 4,
 "nbformat_minor": 4
}
