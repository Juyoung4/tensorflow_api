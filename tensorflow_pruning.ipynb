{
 "cells": [
  {
   "cell_type": "markdown",
   "metadata": {},
   "source": [
    "# Tensorfow 모델에 pruning 적용하는 방법"
   ]
  },
  {
   "cell_type": "markdown",
   "metadata": {},
   "source": [
    "1. 개요\n",
    "    - pruning 알고리즘은 'graudal pruning' 방식 적용: 목표 sparisty값에 도달할때까지 진행하며 pruning 속도를 완만하게 늦춘다\n",
    "    - 실험: (1) MNIST tf.keras모델 학습\n",
    "           (2) pruning API를 적용하면서 fine-tune(재학습)"
   ]
  },
  {
   "attachments": {},
   "cell_type": "markdown",
   "metadata": {},
   "source": [
    "2. 진행 방식\n",
    "\n",
    "![image.png](https://k.kakaocdn.net/dn/c3vsry/btqzpWxXLf4/B5dke1NkTREakQsGiSmd50/img.png)"
   ]
  },
  {
   "cell_type": "markdown",
   "metadata": {},
   "source": [
    "3. pruning 모델 생성\n",
    "    - pruning 대상이 되는 layer에 mask와 threshold 변수를 추가한다\n",
    "    - mask는 해당 layer의 weight tensor와 shape이 일하며 forward execution에 적용할 weight을 결정하는 역할을 수행함\n",
    "    - apply_mask()함수를 이용하여 layer의 weight tensor를 wrapping 함으로써, mask와 threshold가 추가된 convolutional layer를 생성한다\n",
    "    "
   ]
  },
  {
   "cell_type": "markdown",
   "metadata": {},
   "source": [
    "4. 방법\n",
    "    - 설정하는 부분\n",
    "        (1) pip install -q tensorflow-model-optimization\n",
    "            #머신러닝 모델 최적화 도구"
   ]
  }
 ],
 "metadata": {
  "kernelspec": {
   "display_name": "Python 3",
   "language": "python",
   "name": "python3"
  },
  "language_info": {
   "codemirror_mode": {
    "name": "ipython",
    "version": 3
   },
   "file_extension": ".py",
   "mimetype": "text/x-python",
   "name": "python",
   "nbconvert_exporter": "python",
   "pygments_lexer": "ipython3",
   "version": "3.6.10"
  }
 },
 "nbformat": 4,
 "nbformat_minor": 2
}
