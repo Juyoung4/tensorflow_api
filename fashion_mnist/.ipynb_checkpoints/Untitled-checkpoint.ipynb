{
 "cells": [
  {
   "cell_type": "code",
   "execution_count": null,
   "metadata": {},
   "outputs": [],
   "source": [
    "from matplotlib import pyplot as plt\n",
    "\n",
    "y = [0.9819, 0.9567, 0.9813, 0.982, 0.9821, 0.9819, 0.9567, 0.9668, 0.983, 0.9574, 0.9565, 0.9567, 0.9656]\n",
    "\n",
    "x = ['base', 'weight_prun','quan_aware',\n",
    "    'post_dynamic','post_integer',\n",
    "    'post_float16','weight_prun + TFLite',\n",
    "    'weight_prun + quan_aware','quan_aware + post_dynamic',\n",
    "    'weight_prun + post_dynamic', 'weight_prun + post_integer',\n",
    "    'weight_prun + post_float16', 'weight_prun + quan_aware + post_dynamic']\n",
    "\n",
    "plt.figure(figsize=(8, 8))\n",
    "plt.barh(x, y, color=\"skyblue\", height=0.6)\n",
    "plt.xlim(0.95, 0.98)\n",
    "\n",
    "plt.yticks(x,fontsize=13)\n",
    "plt.title(\"Accuracy compare\")\n",
    "plt.show()"
   ]
  }
 ],
 "metadata": {
  "kernelspec": {
   "display_name": "Python 3",
   "language": "python",
   "name": "python3"
  },
  "language_info": {
   "codemirror_mode": {
    "name": "ipython",
    "version": 3
   },
   "file_extension": ".py",
   "mimetype": "text/x-python",
   "name": "python",
   "nbconvert_exporter": "python",
   "pygments_lexer": "ipython3",
   "version": "3.6.8"
  }
 },
 "nbformat": 4,
 "nbformat_minor": 4
}
