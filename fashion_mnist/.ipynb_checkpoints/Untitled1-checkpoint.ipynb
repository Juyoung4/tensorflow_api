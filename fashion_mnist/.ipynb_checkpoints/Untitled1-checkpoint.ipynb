{
 "cells": [
  {
   "cell_type": "code",
   "execution_count": 1,
   "metadata": {},
   "outputs": [
    {
     "data": {
      "text/html": [
       "Experiment link <a href=\"/pipeline/#/experiments/details/59355ac0-a50b-45c7-a435-3b7f987ecb36\" target=\"_blank\" >here</a>"
      ],
      "text/plain": [
       "<IPython.core.display.HTML object>"
      ]
     },
     "metadata": {},
     "output_type": "display_data"
    },
    {
     "data": {
      "text/html": [
       "Run link <a href=\"/pipeline/#/runs/details/690286c2-c7f8-4e5a-a7f5-8dd500a4183a\" target=\"_blank\" >here</a>"
      ],
      "text/plain": [
       "<IPython.core.display.HTML object>"
      ]
     },
     "metadata": {},
     "output_type": "display_data"
    }
   ],
   "source": [
    "import kfp\n",
    "import kfp.dsl as dsl\n",
    "import kfp.onprem as onprem\n",
    "\n",
    "def echo_op(text):\n",
    "    return dsl.ContainerOp(\n",
    "        name='echo',\n",
    "        image='library/bash:4.4.23',\n",
    "        command=['sh', '-c'],\n",
    "        arguments=['echo \"$0\"', text],\n",
    "    )\n",
    "\n",
    "@dsl.pipeline(\n",
    "    name='FMnistPipeline',\n",
    "    description='mnist '\n",
    ")\n",
    "\n",
    "def fmnist_pipeline(learning_rate, dropout_rate,model_path, model_version, model_version3, model_version8):\n",
    "    \n",
    "    exit_task = echo_op(\"Done!\")\n",
    "    \n",
    "    with dsl.ExitHandler(exit_task): \n",
    "        \n",
    "        #vol component\n",
    "        #fmnist_pvc = dsl.PipelineVolume(pvc=\"tfjob-data-volume\", name=\"tfjob-data-volume\")\n",
    "        fmnist_vop = dsl.VolumeOp(\n",
    "            name=\"fmnist-volume1\",\n",
    "            resource_name=\"fmnist-pvc\",\n",
    "            modes=dsl.VOLUME_MODE_RWO,\n",
    "            size=\"1Gi\"\n",
    "        )\n",
    "        \n",
    "        #base component\n",
    "        mnist = dsl.ContainerOp(\n",
    "            name='Train',\n",
    "            image='khw2126/mnist-simple:C628263',\n",
    "            command=['python', '/app/Train.py'],\n",
    "            arguments=[\n",
    "                \"--learning_rate\", learning_rate,\n",
    "                \"--dropout_rate\", dropout_rate,\n",
    "                \"--model_path\", model_path,\n",
    "                \"--model_version\", model_version\n",
    "            ],\n",
    "            pvolumes={\"/result\": fmnist_vop.volume}\n",
    "        )\n",
    "        \n",
    "        #quant_aware_tflite com\n",
    "        quant_aware_tflite = dsl.ContainerOp(\n",
    "            name='test',\n",
    "            image='khw2126/test:0.0.2',\n",
    "            command=['python', '/app/quantization_aware_tflite.py'],\n",
    "            arguments=[\n",
    "                \"--model_path\", model_path,\n",
    "                \"--model_version\", model_version,\n",
    "                \"--model_version3\", model_version3,\n",
    "                \"--model_version8\", model_version8,\n",
    "            ],\n",
    "            output_artifact_paths={'mlpipeline-metrics': '/mlpipeline-metrics.json'},\n",
    "            pvolumes={\"/result\": mnist.pvolume}\n",
    "        )\n",
    "        \n",
    "        #result com\n",
    "        result = dsl.ContainerOp(\n",
    "            name='list_list',\n",
    "            image='library/bash:4.4.23',\n",
    "            command=['ls', '-R', '/result'],\n",
    "            #pvolumes={\"/result\": prun.pvolume}\n",
    "            pvolumes={\"/result\": mnist.pvolume}#prun.pvolume\n",
    "        )\n",
    "        \n",
    "        #order\n",
    "        quant_aware_tflite.after(mnist)\n",
    "        result.after(quant_aware_tflite)\n",
    "\n",
    "    \n",
    "if __name__ == '__main__':\n",
    "    #argument !![model_path, model_version]\n",
    "#model_version: name\n",
    "    arguments = {'learning_rate': '0.001397', \n",
    "                 'dropout_rate': '0.18',\n",
    "                 'model_path':'/result', #'/result/saved_model'\n",
    "                 'model_version': '/base_model.h5',#/Base_model.h5\n",
    "                 'model_version3': '/quan_model.h5',\n",
    "                 'model_version8': '/qaware_dynamic_post_quan_tflite_file.tflite'\n",
    "                }\n",
    "    kfp.Client().create_run_from_pipeline_func(pipeline_func=fmnist_pipeline, arguments=arguments)"
   ]
  },
  {
   "cell_type": "code",
   "execution_count": null,
   "metadata": {},
   "outputs": [],
   "source": []
  }
 ],
 "metadata": {
  "kernelspec": {
   "display_name": "Python 3",
   "language": "python",
   "name": "python3"
  },
  "language_info": {
   "codemirror_mode": {
    "name": "ipython",
    "version": 3
   },
   "file_extension": ".py",
   "mimetype": "text/x-python",
   "name": "python",
   "nbconvert_exporter": "python",
   "pygments_lexer": "ipython3",
   "version": "3.6.8"
  }
 },
 "nbformat": 4,
 "nbformat_minor": 4
}
