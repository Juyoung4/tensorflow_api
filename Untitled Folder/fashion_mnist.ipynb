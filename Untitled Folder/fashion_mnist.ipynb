{
 "cells": [
  {
   "cell_type": "markdown",
   "metadata": {},
   "source": [
    "# fashion mnist"
   ]
  },
  {
   "cell_type": "code",
   "execution_count": 2,
   "metadata": {},
   "outputs": [],
   "source": [
    "from __future__ import absolute_import, division, print_function, unicode_literals, unicode_literals\n",
    "import matplotlib.pyplot as plt\n",
    "\n",
    "import tempfile\n",
    "import os\n",
    "\n",
    "import tensorflow as tf\n",
    "import numpy as np\n",
    "\n",
    "from tensorflow import keras\n"
   ]
  },
  {
   "cell_type": "code",
   "execution_count": 3,
   "metadata": {},
   "outputs": [
    {
     "name": "stdout",
     "output_type": "stream",
     "text": [
      "2.0.0\n"
     ]
    }
   ],
   "source": [
    "print(tf.__version__)\n"
   ]
  },
  {
   "cell_type": "code",
   "execution_count": 4,
   "metadata": {},
   "outputs": [],
   "source": [
    "fashion_mnist = keras.datasets.fashion_mnist\n",
    "\n",
    "(train_images, train_labels), (test_images, test_labels) = fashion_mnist.load_data()"
   ]
  },
  {
   "cell_type": "code",
   "execution_count": 5,
   "metadata": {},
   "outputs": [
    {
     "data": {
      "text/plain": [
       "60000"
      ]
     },
     "execution_count": 5,
     "metadata": {},
     "output_type": "execute_result"
    }
   ],
   "source": [
    "train_images.shape[0]"
   ]
  },
  {
   "cell_type": "code",
   "execution_count": 6,
   "metadata": {},
   "outputs": [],
   "source": [
    "class_names = ['T-shirt/top', 'Trouser', 'Pullover', 'Dress', 'Coat',\n",
    "               'Sandal', 'Shirt', 'Sneaker', 'Bag', 'Ankle boot']\n"
   ]
  },
  {
   "cell_type": "code",
   "execution_count": 7,
   "metadata": {},
   "outputs": [
    {
     "data": {
      "text/plain": [
       "array([9, 0, 0, ..., 3, 0, 5], dtype=uint8)"
      ]
     },
     "execution_count": 7,
     "metadata": {},
     "output_type": "execute_result"
    }
   ],
   "source": [
    "train_labels"
   ]
  },
  {
   "cell_type": "code",
   "execution_count": 8,
   "metadata": {},
   "outputs": [
    {
     "data": {
      "image/png": "[encoded data removed]",
      "text/plain": [
       "<Figure size 432x288 with 2 Axes>"
      ]
     },
     "metadata": {
      "needs_background": "light"
     },
     "output_type": "display_data"
    }
   ],
   "source": [
    "plt.figure()\n",
    "plt.imshow(train_images[0])\n",
    "plt.colorbar()\n",
    "plt.grid(False)\n",
    "plt.show()"
   ]
  },
  {
   "cell_type": "code",
   "execution_count": 9,
   "metadata": {},
   "outputs": [],
   "source": [
    "train_images = train_images / 255.0\n",
    "\n",
    "test_images = test_images / 255.0"
   ]
  },
  {
   "cell_type": "markdown",
   "metadata": {},
   "source": [
    "# 1. fashion model 학습하기(baseline_model)"
   ]
  },
  {
   "cell_type": "code",
   "execution_count": 10,
   "metadata": {},
   "outputs": [],
   "source": [
    "model = keras.Sequential([\n",
    "    keras.layers.Flatten(input_shape=(28, 28)),\n",
    "    keras.layers.Dense(128, activation='relu'),\n",
    "    keras.layers.Dense(10, activation='softmax')\n",
    "])"
   ]
  },
  {
   "cell_type": "code",
   "execution_count": 11,
   "metadata": {},
   "outputs": [],
   "source": [
    "model.compile(optimizer='adam',\n",
    "              loss='sparse_categorical_crossentropy',\n",
    "              metrics=['accuracy'])"
   ]
  },
  {
   "cell_type": "code",
   "execution_count": 12,
   "metadata": {
    "scrolled": true
   },
   "outputs": [
    {
     "name": "stdout",
     "output_type": "stream",
     "text": [
      "Train on 60000 samples\n",
      "Epoch 1/5\n",
      "60000/60000 [==============================] - 5s 86us/sample - loss: 0.5017 - accuracy: 0.8239\n",
      "Epoch 2/5\n",
      "60000/60000 [==============================] - 5s 77us/sample - loss: 0.3805 - accuracy: 0.8615\n",
      "Epoch 3/5\n",
      "60000/60000 [==============================] - 5s 77us/sample - loss: 0.3400 - accuracy: 0.8761\n",
      "Epoch 4/5\n",
      "60000/60000 [==============================] - 5s 77us/sample - loss: 0.3166 - accuracy: 0.8846\n",
      "Epoch 5/5\n",
      "60000/60000 [==============================] - 5s 79us/sample - loss: 0.2978 - accuracy: 0.8897\n"
     ]
    },
    {
     "data": {
      "text/plain": [
       "<tensorflow.python.keras.callbacks.History at 0x7f7523b7cc50>"
      ]
     },
     "execution_count": 12,
     "metadata": {},
     "output_type": "execute_result"
    }
   ],
   "source": [
    "model.fit(train_images, train_labels, epochs=5)"
   ]
  },
  {
   "cell_type": "markdown",
   "metadata": {},
   "source": [
    "##### accuracy : baseline"
   ]
  },
  {
   "cell_type": "code",
   "execution_count": 13,
   "metadata": {},
   "outputs": [
    {
     "name": "stdout",
     "output_type": "stream",
     "text": [
      "10000/1 - 1s - loss: 0.2683 - accuracy: 0.8737\n",
      "\n",
      "테스트 정확도: 0.8737\n"
     ]
    }
   ],
   "source": [
    "test_loss, baseline_model_accuracy = model.evaluate(test_images,  test_labels, verbose=2)\n",
    "\n",
    "print('\\n테스트 정확도:', baseline_model_accuracy)"
   ]
  },
  {
   "cell_type": "code",
   "execution_count": 14,
   "metadata": {},
   "outputs": [],
   "source": [
    "predictions = model.predict(test_images)"
   ]
  },
  {
   "cell_type": "code",
   "execution_count": 15,
   "metadata": {},
   "outputs": [
    {
     "data": {
      "text/plain": [
       "array([7.8319878e-05, 1.3736968e-08, 5.3020108e-07, 2.7694304e-07,\n",
       "       9.8753399e-06, 2.4271445e-02, 7.0330630e-06, 5.4183874e-02,\n",
       "       1.5012491e-04, 9.2129850e-01], dtype=float32)"
      ]
     },
     "execution_count": 15,
     "metadata": {},
     "output_type": "execute_result"
    }
   ],
   "source": [
    "predictions[0]"
   ]
  },
  {
   "cell_type": "code",
   "execution_count": 16,
   "metadata": {},
   "outputs": [
    {
     "data": {
      "text/plain": [
       "9"
      ]
     },
     "execution_count": 16,
     "metadata": {},
     "output_type": "execute_result"
    }
   ],
   "source": [
    "np.argmax(predictions[0])"
   ]
  },
  {
   "cell_type": "code",
   "execution_count": 17,
   "metadata": {},
   "outputs": [
    {
     "data": {
      "text/plain": [
       "9"
      ]
     },
     "execution_count": 17,
     "metadata": {},
     "output_type": "execute_result"
    }
   ],
   "source": [
    "test_labels[0]"
   ]
  },
  {
   "cell_type": "code",
   "execution_count": 18,
   "metadata": {},
   "outputs": [],
   "source": [
    "def plot_image(i, predictions_array, true_label, img):\n",
    "  predictions_array, true_label, img = predictions_array[i], true_label[i], img[i]\n",
    "  plt.grid(False)\n",
    "  plt.xticks([])\n",
    "  plt.yticks([])\n",
    "\n",
    "  plt.imshow(img, cmap=plt.cm.binary)\n",
    "\n",
    "  predicted_label = np.argmax(predictions_array)\n",
    "  if predicted_label == true_label:\n",
    "    color = 'blue'\n",
    "  else:\n",
    "    color = 'red'\n",
    "\n",
    "  plt.xlabel(\"{} {:2.0f}% ({})\".format(class_names[predicted_label],\n",
    "                                100*np.max(predictions_array),\n",
    "                                class_names[true_label]),\n",
    "                                color=color)\n",
    "\n",
    "def plot_value_array(i, predictions_array, true_label):\n",
    "  predictions_array, true_label = predictions_array[i], true_label[i]\n",
    "  plt.grid(False)\n",
    "  plt.xticks([])\n",
    "  plt.yticks([])\n",
    "  thisplot = plt.bar(range(10), predictions_array, color=\"#777777\")\n",
    "  plt.ylim([0, 1])\n",
    "  predicted_label = np.argmax(predictions_array)\n",
    "\n",
    "  thisplot[predicted_label].set_color('red')\n",
    "  thisplot[true_label].set_color('blue')\n"
   ]
  },
  {
   "cell_type": "code",
   "execution_count": 19,
   "metadata": {},
   "outputs": [
    {
     "data": {
      "image/png": "[encoded data removed]",
      "text/plain": [
       "<Figure size 864x720 with 30 Axes>"
      ]
     },
     "metadata": {},
     "output_type": "display_data"
    }
   ],
   "source": [
    "# 처음 X 개의 테스트 이미지와 예측 레이블, 진짜 레이블을 출력합니다\n",
    "# 올바른 예측은 파랑색으로 잘못된 예측은 빨강색으로 나타냅니다\n",
    "num_rows = 5\n",
    "num_cols = 3\n",
    "num_images = num_rows*num_cols\n",
    "plt.figure(figsize=(2*2*num_cols, 2*num_rows))\n",
    "for i in range(num_images):\n",
    "    plt.subplot(num_rows, 2*num_cols, 2*i+1)\n",
    "    plot_image(i, predictions, test_labels, test_images)\n",
    "    plt.subplot(num_rows, 2*num_cols, 2*i+2)\n",
    "    plot_value_array(i, predictions, test_labels)\n",
    "plt.show()"
   ]
  },
  {
   "cell_type": "code",
   "execution_count": 20,
   "metadata": {},
   "outputs": [
    {
     "name": "stdout",
     "output_type": "stream",
     "text": [
      "(28, 28)\n"
     ]
    }
   ],
   "source": [
    "# 테스트 세트에서 이미지 하나를 선택합니다\n",
    "img = test_images[0]\n",
    "\n",
    "print(img.shape)"
   ]
  },
  {
   "cell_type": "code",
   "execution_count": 21,
   "metadata": {},
   "outputs": [
    {
     "name": "stdout",
     "output_type": "stream",
     "text": [
      "Saved baseline model to: /tmp/tmpe_hk9jhp.h5\n"
     ]
    }
   ],
   "source": [
    "_, keras_file = tempfile.mkstemp('.h5')\n",
    "tf.keras.models.save_model(model, keras_file, include_optimizer=False)\n",
    "print('Saved baseline model to:', keras_file)"
   ]
  },
  {
   "cell_type": "markdown",
   "metadata": {},
   "source": [
    "# 2. baseline model with only pruning"
   ]
  },
  {
   "cell_type": "code",
   "execution_count": 22,
   "metadata": {},
   "outputs": [
    {
     "name": "stdout",
     "output_type": "stream",
     "text": [
      "WARNING:tensorflow:From /root/anaconda3/envs/paper/lib/python3.7/site-packages/tensorflow_model_optimization/python/core/sparsity/keras/pruning_wrapper.py:219: Layer.add_variable (from tensorflow.python.keras.engine.base_layer) is deprecated and will be removed in a future version.\n",
      "Instructions for updating:\n",
      "Please use `layer.add_weight` method instead.\n",
      "Model: \"sequential\"\n",
      "_________________________________________________________________\n",
      "Layer (type)                 Output Shape              Param #   \n",
      "=================================================================\n",
      "prune_low_magnitude_flatten  (None, 784)               1         \n",
      "_________________________________________________________________\n",
      "prune_low_magnitude_dense (P (None, 128)               200834    \n",
      "_________________________________________________________________\n",
      "prune_low_magnitude_dense_1  (None, 10)                2572      \n",
      "=================================================================\n",
      "Total params: 203,407\n",
      "Trainable params: 101,770\n",
      "Non-trainable params: 101,637\n",
      "_________________________________________________________________\n"
     ]
    }
   ],
   "source": [
    "import tensorflow_model_optimization as tfmot\n",
    "\n",
    "prune_low_magnitude = tfmot.sparsity.keras.prune_low_magnitude\n",
    "\n",
    "# Compute end step to finish pruning after 4 epochs.\n",
    "batch_size = 128\n",
    "epochs = 6\n",
    "validation_split = 0.1 # 10% of training set will be used for validation set. \n",
    "\n",
    "num_images = train_images.shape[0] * (1 - validation_split)\n",
    "end_step = np.ceil(num_images / batch_size).astype(np.int32) * epochs\n",
    "\n",
    "# Define model for pruning.\n",
    "pruning_params = {\n",
    "      'pruning_schedule': tfmot.sparsity.keras.PolynomialDecay(initial_sparsity=0.50,\n",
    "                                                               final_sparsity=0.90,\n",
    "                                                               begin_step=0,\n",
    "                                                               end_step=end_step)\n",
    "}\n",
    "\n",
    "model_for_pruning = prune_low_magnitude(model, **pruning_params)\n",
    "\n",
    "# `prune_low_magnitude` requires a recompile.\n",
    "model_for_pruning.compile(optimizer='adam',\n",
    "              loss=tf.keras.losses.SparseCategoricalCrossentropy(from_logits=True),\n",
    "              metrics=['accuracy'])\n",
    "\n",
    "model_for_pruning.summary()\n"
   ]
  },
  {
   "cell_type": "code",
   "execution_count": 23,
   "metadata": {
    "scrolled": true
   },
   "outputs": [
    {
     "name": "stdout",
     "output_type": "stream",
     "text": [
      "Train on 54000 samples, validate on 6000 samples\n",
      "Epoch 1/6\n",
      "54000/54000 [==============================] - 4s 73us/sample - loss: 1.5915 - accuracy: 0.8865 - val_loss: 1.5936 - val_accuracy: 0.8810\n",
      "Epoch 2/6\n",
      "54000/54000 [==============================] - 3s 56us/sample - loss: 1.5941 - accuracy: 0.8840 - val_loss: 1.5975 - val_accuracy: 0.8798\n",
      "Epoch 3/6\n",
      "54000/54000 [==============================] - 3s 55us/sample - loss: 1.5999 - accuracy: 0.8794 - val_loss: 1.6010 - val_accuracy: 0.8785\n",
      "Epoch 4/6\n",
      "54000/54000 [==============================] - 3s 52us/sample - loss: 1.6074 - accuracy: 0.8725 - val_loss: 1.6027 - val_accuracy: 0.8757\n",
      "Epoch 5/6\n",
      "54000/54000 [==============================] - 3s 53us/sample - loss: 1.6045 - accuracy: 0.8752 - val_loss: 1.6054 - val_accuracy: 0.8717\n",
      "Epoch 6/6\n",
      "54000/54000 [==============================] - 3s 53us/sample - loss: 1.5976 - accuracy: 0.8776 - val_loss: 1.6010 - val_accuracy: 0.8697\n"
     ]
    },
    {
     "data": {
      "text/plain": [
       "<tensorflow.python.keras.callbacks.History at 0x7f74543ecf90>"
      ]
     },
     "execution_count": 23,
     "metadata": {},
     "output_type": "execute_result"
    }
   ],
   "source": [
    "logdir = tempfile.mkdtemp()\n",
    "\n",
    "callbacks = [\n",
    "  tfmot.sparsity.keras.UpdatePruningStep(),\n",
    "  tfmot.sparsity.keras.PruningSummaries(log_dir=logdir),\n",
    "]\n",
    "  \n",
    "model_for_pruning.fit(train_images, train_labels,\n",
    "                  batch_size=batch_size, epochs=epochs, validation_split=validation_split,\n",
    "                  callbacks=callbacks)"
   ]
  },
  {
   "cell_type": "markdown",
   "metadata": {},
   "source": [
    "##### accuracy : baseline,  pruned model"
   ]
  },
  {
   "cell_type": "code",
   "execution_count": 24,
   "metadata": {},
   "outputs": [
    {
     "name": "stdout",
     "output_type": "stream",
     "text": [
      "Baseline test accuracy: 0.8737\n",
      "Pruned test accuracy: 0.8629\n"
     ]
    }
   ],
   "source": [
    "_, model_for_pruning_accuracy = model_for_pruning.evaluate(\n",
    "   test_images, test_labels, verbose=0)\n",
    "\n",
    "print('Baseline test accuracy:', baseline_model_accuracy) \n",
    "print('Pruned test accuracy:', model_for_pruning_accuracy)"
   ]
  },
  {
   "cell_type": "code",
   "execution_count": 25,
   "metadata": {
    "scrolled": true
   },
   "outputs": [
    {
     "name": "stdout",
     "output_type": "stream",
     "text": [
      "Saved pruned Keras model to: /tmp/tmp2frnpiex.h5\n"
     ]
    }
   ],
   "source": [
    "model_for_export = tfmot.sparsity.keras.strip_pruning(model_for_pruning)\n",
    "\n",
    "_, pruned_keras_file = tempfile.mkstemp('.h5')\n",
    "tf.keras.models.save_model(model_for_export, pruned_keras_file, include_optimizer=False)\n",
    "print('Saved pruned Keras model to:', pruned_keras_file)"
   ]
  },
  {
   "cell_type": "markdown",
   "metadata": {},
   "source": [
    "# 3-1. baseline model with only quantizing"
   ]
  },
  {
   "cell_type": "code",
   "execution_count": 26,
   "metadata": {},
   "outputs": [],
   "source": [
    "quantize_model = tfmot.quantization.keras.quantize_model"
   ]
  },
  {
   "cell_type": "code",
   "execution_count": 27,
   "metadata": {},
   "outputs": [],
   "source": [
    "q_aware_model = quantize_model(model)"
   ]
  },
  {
   "cell_type": "code",
   "execution_count": 28,
   "metadata": {},
   "outputs": [],
   "source": [
    "q_aware_model.compile(optimizer='adam',\n",
    "              loss=tf.keras.losses.SparseCategoricalCrossentropy(from_logits=True),\n",
    "              metrics=['accuracy'])"
   ]
  },
  {
   "cell_type": "code",
   "execution_count": 29,
   "metadata": {},
   "outputs": [
    {
     "name": "stdout",
     "output_type": "stream",
     "text": [
      "Model: \"sequential\"\n",
      "_________________________________________________________________\n",
      "Layer (type)                 Output Shape              Param #   \n",
      "=================================================================\n",
      "quant_flatten (QuantizeWrapp (None, 784)               1         \n",
      "_________________________________________________________________\n",
      "quant_dense (QuantizeWrapper (None, 128)               100485    \n",
      "_________________________________________________________________\n",
      "quant_dense_1 (QuantizeWrapp (None, 10)                1295      \n",
      "=================================================================\n",
      "Total params: 101,781\n",
      "Trainable params: 101,770\n",
      "Non-trainable params: 11\n",
      "_________________________________________________________________\n"
     ]
    }
   ],
   "source": [
    "q_aware_model.summary()\n"
   ]
  },
  {
   "cell_type": "code",
   "execution_count": 30,
   "metadata": {
    "scrolled": true
   },
   "outputs": [
    {
     "name": "stdout",
     "output_type": "stream",
     "text": [
      "Train on 900 samples, validate on 100 samples\n",
      "Epoch 1/5\n",
      "900/900 [==============================] - 1s 584us/sample - loss: 1.6329 - accuracy: 0.8944 - val_loss: 1.6202 - val_accuracy: 0.9000\n",
      "Epoch 2/5\n",
      "900/900 [==============================] - 0s 50us/sample - loss: 1.6260 - accuracy: 0.8967 - val_loss: 1.6149 - val_accuracy: 0.9000\n",
      "Epoch 3/5\n",
      "900/900 [==============================] - 0s 85us/sample - loss: 1.6199 - accuracy: 0.8956 - val_loss: 1.6086 - val_accuracy: 0.9000\n",
      "Epoch 4/5\n",
      "900/900 [==============================] - 0s 54us/sample - loss: 1.6276 - accuracy: 0.8756 - val_loss: 1.6506 - val_accuracy: 0.8500\n",
      "Epoch 5/5\n",
      "900/900 [==============================] - 0s 51us/sample - loss: 1.6456 - accuracy: 0.8611 - val_loss: 1.6552 - val_accuracy: 0.8600\n"
     ]
    },
    {
     "data": {
      "text/plain": [
       "<tensorflow.python.keras.callbacks.History at 0x7f74540a8990>"
      ]
     },
     "execution_count": 30,
     "metadata": {},
     "output_type": "execute_result"
    }
   ],
   "source": [
    "train_images_subset = train_images[0:1000] # out of 60000\n",
    "train_labels_subset = train_labels[0:1000]\n",
    "\n",
    "q_aware_model.fit(train_images_subset, train_labels_subset,\n",
    "                  batch_size=500, epochs=5, validation_split=0.1)"
   ]
  },
  {
   "cell_type": "markdown",
   "metadata": {},
   "source": [
    "##### accuracy : baseline,  pruned model,  quantized model"
   ]
  },
  {
   "cell_type": "code",
   "execution_count": 31,
   "metadata": {},
   "outputs": [
    {
     "name": "stdout",
     "output_type": "stream",
     "text": [
      "Baseline test accuracy: 0.8737\n",
      "Pruned test accuracy: 0.8629\n",
      "Quant test accuracy: 0.8049\n"
     ]
    }
   ],
   "source": [
    "_, q_aware_model_accuracy = q_aware_model.evaluate(\n",
    "   test_images, test_labels, verbose=0)\n",
    "\n",
    "print('Baseline test accuracy:', baseline_model_accuracy)\n",
    "print('Pruned test accuracy:', model_for_pruning_accuracy)\n",
    "print('Quant test accuracy:', q_aware_model_accuracy)\n"
   ]
  },
  {
   "cell_type": "code",
   "execution_count": 32,
   "metadata": {},
   "outputs": [
    {
     "name": "stdout",
     "output_type": "stream",
     "text": [
      "Saved quantized Keras model to: /tmp/tmpy2xb97gr.h5\n"
     ]
    }
   ],
   "source": [
    "_, quantized_keras_file = tempfile.mkstemp('.h5')\n",
    "tf.keras.models.save_model(q_aware_model, quantized_keras_file, include_optimizer=False)\n",
    "print('Saved quantized Keras model to:', quantized_keras_file)\n"
   ]
  },
  {
   "cell_type": "markdown",
   "metadata": {},
   "source": [
    "# 3-2. baseline model with post-quatizing "
   ]
  },
  {
   "cell_type": "code",
   "execution_count": 33,
   "metadata": {},
   "outputs": [],
   "source": [
    "converter = tf.lite.TFLiteConverter.from_keras_model(model)\n",
    "converter.optimizations = [tf.lite.Optimize.DEFAULT]\n",
    "post_quan_tflite_model = converter.convert()\n",
    "\n",
    "_,post_quan_tflite_file = tempfile.mkstemp('.tflite')\n"
   ]
  },
  {
   "cell_type": "code",
   "execution_count": 34,
   "metadata": {},
   "outputs": [
    {
     "name": "stdout",
     "output_type": "stream",
     "text": [
      "Saved post-quantized TFLite model to: /tmp/tmp92aicsqj.tflite\n"
     ]
    }
   ],
   "source": [
    "print('Saved post-quantized TFLite model to:',post_quan_tflite_file)"
   ]
  },
  {
   "cell_type": "code",
   "execution_count": 35,
   "metadata": {},
   "outputs": [],
   "source": [
    "# tflite 정확도 측정 함수\n",
    "import numpy as np\n",
    "\n",
    "def evaluate_model(interpreter):\n",
    "  input_index = interpreter.get_input_details()[0][\"index\"]\n",
    "  output_index = interpreter.get_output_details()[0][\"index\"]\n",
    "\n",
    "  # Run predictions on ever y image in the \"test\" dataset.\n",
    "  prediction_digits = []\n",
    "  for i, test_image in enumerate(test_images):\n",
    "    if i % 1000 == 0:\n",
    "      print('Evaluated on {n} results so far.'.format(n=i))\n",
    "    # Pre-processing: add batch dimension and convert to float32 to match with\n",
    "    # the model's input data format.\n",
    "    test_image = np.expand_dims(test_image, axis=0).astype(np.float32)\n",
    "    interpreter.set_tensor(input_index, test_image)\n",
    "\n",
    "    # Run inference.\n",
    "    interpreter.invoke()\n",
    "\n",
    "    # Post-processing: remove batch dimension and find the digit with highest\n",
    "    # probability.\n",
    "    output = interpreter.tensor(output_index)\n",
    "    digit = np.argmax(output()[0])\n",
    "    prediction_digits.append(digit)\n",
    "\n",
    "  print('\\n')\n",
    "  # Compare prediction results with ground truth labels to calculate accuracy.\n",
    "  prediction_digits = np.array(prediction_digits)\n",
    "  accuracy = (prediction_digits == test_labels).mean()\n",
    "  return accuracy\n"
   ]
  },
  {
   "cell_type": "code",
   "execution_count": 36,
   "metadata": {
    "scrolled": true
   },
   "outputs": [
    {
     "name": "stdout",
     "output_type": "stream",
     "text": [
      "Evaluated on 0 results so far.\n",
      "Evaluated on 1000 results so far.\n",
      "Evaluated on 2000 results so far.\n",
      "Evaluated on 3000 results so far.\n",
      "Evaluated on 4000 results so far.\n",
      "Evaluated on 5000 results so far.\n",
      "Evaluated on 6000 results so far.\n",
      "Evaluated on 7000 results so far.\n",
      "Evaluated on 8000 results so far.\n",
      "Evaluated on 9000 results so far.\n",
      "\n",
      "\n"
     ]
    }
   ],
   "source": [
    "interpreter_post_q = tf.lite.Interpreter(model_content=post_quan_tflite_model)\n",
    "interpreter_post_q.allocate_tensors()\n",
    "\n",
    "test_post_q_accuracy = evaluate_model(interpreter_post_q)"
   ]
  },
  {
   "cell_type": "markdown",
   "metadata": {},
   "source": [
    "##### accuracy : baseline,  pruned model,  quantized model,  post-quantized model"
   ]
  },
  {
   "cell_type": "code",
   "execution_count": 37,
   "metadata": {},
   "outputs": [
    {
     "name": "stdout",
     "output_type": "stream",
     "text": [
      "Baseline test accuracy: 0.8737\n",
      "Pruned test accuracy: 0.8629\n",
      "Quant test accuracy: 0.8049\n",
      "Post-Quant test accuracy: 0.863\n"
     ]
    }
   ],
   "source": [
    "print('Baseline test accuracy:', baseline_model_accuracy)\n",
    "print('Pruned test accuracy:', model_for_pruning_accuracy)\n",
    "print('Quant test accuracy:', q_aware_model_accuracy)\n",
    "print('Post-Quant test accuracy:', test_post_q_accuracy)\n"
   ]
  },
  {
   "cell_type": "markdown",
   "metadata": {},
   "source": [
    "# 4. pruned model and quantized model convert to TFLite"
   ]
  },
  {
   "cell_type": "markdown",
   "metadata": {},
   "source": [
    "###  pruned model convert to tflite_model"
   ]
  },
  {
   "cell_type": "code",
   "execution_count": 38,
   "metadata": {},
   "outputs": [
    {
     "name": "stdout",
     "output_type": "stream",
     "text": [
      "Saved pruned TFLite model to: /tmp/tmpcvz8ol9u.tflite\n"
     ]
    }
   ],
   "source": [
    "converter = tf.lite.TFLiteConverter.from_keras_model(model_for_export)\n",
    "pruned_tflite_model = converter.convert()\n",
    "\n",
    "_, pruned_tflite_file = tempfile.mkstemp('.tflite')\n",
    "\n",
    "with open(pruned_tflite_file, 'wb') as f:\n",
    "    f.write(pruned_tflite_model)\n",
    "\n",
    "print('Saved pruned TFLite model to:', pruned_tflite_file)"
   ]
  },
  {
   "cell_type": "markdown",
   "metadata": {},
   "source": [
    "### quantized model convert to tflite_model"
   ]
  },
  {
   "cell_type": "code",
   "execution_count": 39,
   "metadata": {},
   "outputs": [
    {
     "name": "stdout",
     "output_type": "stream",
     "text": [
      "Saved quantized TFLite model to: /tmp/tmpwfmnzij4.tflite\n"
     ]
    }
   ],
   "source": [
    "converter = tf.lite.TFLiteConverter.from_keras_model(q_aware_model)\n",
    "quantized_tflite_model = converter.convert()\n",
    "\n",
    "_, quantized_tflite_file = tempfile.mkstemp('.tflite')\n",
    "\n",
    "with open(quantized_tflite_file, 'wb') as f:\n",
    "    f.write(quantized_tflite_model)\n",
    "\n",
    "print('Saved quantized TFLite model to:', quantized_tflite_file)"
   ]
  },
  {
   "cell_type": "code",
   "execution_count": 40,
   "metadata": {
    "scrolled": true
   },
   "outputs": [
    {
     "name": "stdout",
     "output_type": "stream",
     "text": [
      "Evaluated on 0 results so far.\n",
      "Evaluated on 1000 results so far.\n",
      "Evaluated on 2000 results so far.\n",
      "Evaluated on 3000 results so far.\n",
      "Evaluated on 4000 results so far.\n",
      "Evaluated on 5000 results so far.\n",
      "Evaluated on 6000 results so far.\n",
      "Evaluated on 7000 results so far.\n",
      "Evaluated on 8000 results so far.\n",
      "Evaluated on 9000 results so far.\n",
      "\n",
      "\n",
      "Evaluated on 0 results so far.\n",
      "Evaluated on 1000 results so far.\n",
      "Evaluated on 2000 results so far.\n",
      "Evaluated on 3000 results so far.\n",
      "Evaluated on 4000 results so far.\n",
      "Evaluated on 5000 results so far.\n",
      "Evaluated on 6000 results so far.\n",
      "Evaluated on 7000 results so far.\n",
      "Evaluated on 8000 results so far.\n",
      "Evaluated on 9000 results so far.\n",
      "\n",
      "\n"
     ]
    }
   ],
   "source": [
    "interpreter_p = tf.lite.Interpreter(model_content=pruned_tflite_model)\n",
    "interpreter_q = tf.lite.Interpreter(model_content=quantized_tflite_model)\n",
    "\n",
    "interpreter_p.allocate_tensors()\n",
    "interpreter_q.allocate_tensors()\n",
    "\n",
    "test_accuracy_p = evaluate_model(interpreter_p)\n",
    "test_accuracy_q = evaluate_model(interpreter_q)"
   ]
  },
  {
   "cell_type": "markdown",
   "metadata": {},
   "source": [
    "##### accuracy : baseline,  pruned model,  quantized model,  post-quantized model, tf-lite pruned model, tf-lite quantized model"
   ]
  },
  {
   "cell_type": "code",
   "execution_count": 41,
   "metadata": {},
   "outputs": [
    {
     "name": "stdout",
     "output_type": "stream",
     "text": [
      "Baseline test accuracy: 0.8737 \n",
      "\n",
      "Pruned test accuracy: 0.8629 \n",
      "\n",
      "Quant test accuracy: 0.8049 \n",
      "\n",
      "Post-Quant test accuracy: 0.863 \n",
      "\n",
      "Prun TFLite test_accuracy: 0.8629 \n",
      "\n",
      "Quant TFLite test_accuracy: 0.8049 \n",
      "\n"
     ]
    }
   ],
   "source": [
    "print('Baseline test accuracy:', baseline_model_accuracy,\"\\n\")\n",
    "print('Pruned test accuracy:', model_for_pruning_accuracy,\"\\n\")\n",
    "print('Quant test accuracy:', q_aware_model_accuracy,\"\\n\")\n",
    "print('Post-Quant test accuracy:', test_post_q_accuracy,\"\\n\")\n",
    "print('Prun TFLite test_accuracy:', test_accuracy_p,\"\\n\")\n",
    "print('Quant TFLite test_accuracy:', test_accuracy_q,\"\\n\")"
   ]
  },
  {
   "cell_type": "markdown",
   "metadata": {},
   "source": [
    "# 5-1. baseline model with pruning and quantizing"
   ]
  },
  {
   "cell_type": "code",
   "execution_count": 42,
   "metadata": {},
   "outputs": [],
   "source": [
    "q_aware_prun_model = quantize_model(model_for_export)"
   ]
  },
  {
   "cell_type": "code",
   "execution_count": 43,
   "metadata": {},
   "outputs": [],
   "source": [
    "q_aware_prun_model.compile(optimizer='adam',\n",
    "              loss=tf.keras.losses.SparseCategoricalCrossentropy(from_logits=True),\n",
    "              metrics=['accuracy'])"
   ]
  },
  {
   "cell_type": "code",
   "execution_count": 44,
   "metadata": {},
   "outputs": [
    {
     "name": "stdout",
     "output_type": "stream",
     "text": [
      "Model: \"sequential\"\n",
      "_________________________________________________________________\n",
      "Layer (type)                 Output Shape              Param #   \n",
      "=================================================================\n",
      "quant_flatten (QuantizeWrapp (None, 784)               1         \n",
      "_________________________________________________________________\n",
      "quant_dense (QuantizeWrapper (None, 128)               100485    \n",
      "_________________________________________________________________\n",
      "quant_dense_1 (QuantizeWrapp (None, 10)                1295      \n",
      "=================================================================\n",
      "Total params: 101,781\n",
      "Trainable params: 101,770\n",
      "Non-trainable params: 11\n",
      "_________________________________________________________________\n"
     ]
    }
   ],
   "source": [
    "q_aware_prun_model.summary()"
   ]
  },
  {
   "cell_type": "code",
   "execution_count": 45,
   "metadata": {},
   "outputs": [
    {
     "name": "stdout",
     "output_type": "stream",
     "text": [
      "Train on 900 samples, validate on 100 samples\n",
      "Epoch 1/4\n",
      "900/900 [==============================] - 0s 535us/sample - loss: 1.6259 - accuracy: 0.8911 - val_loss: 1.6097 - val_accuracy: 0.8900\n",
      "Epoch 2/4\n",
      "900/900 [==============================] - 0s 76us/sample - loss: 1.6158 - accuracy: 0.8644 - val_loss: 1.6096 - val_accuracy: 0.8900\n",
      "Epoch 3/4\n",
      "900/900 [==============================] - 0s 91us/sample - loss: 1.5951 - accuracy: 0.8911 - val_loss: 1.5980 - val_accuracy: 0.8900\n",
      "Epoch 4/4\n",
      "900/900 [==============================] - 0s 113us/sample - loss: 1.5768 - accuracy: 0.9022 - val_loss: 1.5860 - val_accuracy: 0.9000\n"
     ]
    },
    {
     "data": {
      "text/plain": [
       "<tensorflow.python.keras.callbacks.History at 0x7f73b46f25d0>"
      ]
     },
     "execution_count": 45,
     "metadata": {},
     "output_type": "execute_result"
    }
   ],
   "source": [
    "train_images_subset = train_images[0:1000] # out of 60000\n",
    "train_labels_subset = train_labels[0:1000]\n",
    "\n",
    "q_aware_prun_model.fit(train_images_subset, train_labels_subset,\n",
    "                  batch_size=128, epochs=4, validation_split=0.1)"
   ]
  },
  {
   "cell_type": "code",
   "execution_count": 46,
   "metadata": {},
   "outputs": [],
   "source": [
    "_, q_aware_prun_model_accuracy =q_aware_prun_model.evaluate(test_images, test_labels, verbose=0)"
   ]
  },
  {
   "cell_type": "markdown",
   "metadata": {},
   "source": [
    "##### accuracy : baseline,  pruned model,  quantized model,  post-quantized model, tf-lite pruned model, tf-lite quantized model, pruned and quantized model"
   ]
  },
  {
   "cell_type": "code",
   "execution_count": 47,
   "metadata": {},
   "outputs": [
    {
     "name": "stdout",
     "output_type": "stream",
     "text": [
      "Baseline test accuracy: 0.8737 \n",
      "\n",
      "Pruned test accuracy: 0.8629 \n",
      "\n",
      "Quant test accuracy: 0.8049 \n",
      "\n",
      "Post-Quant test accuracy: 0.863 \n",
      "\n",
      "Prun TFLite test_accuracy: 0.8629 \n",
      "\n",
      "Quant TFLite test_accuracy: 0.8049 \n",
      "\n",
      "Pruned and quantized test_accuracy: 0.8497 \n",
      "\n"
     ]
    }
   ],
   "source": [
    "print('Baseline test accuracy:', baseline_model_accuracy,\"\\n\")\n",
    "print('Pruned test accuracy:', model_for_pruning_accuracy,\"\\n\")\n",
    "print('Quant test accuracy:', q_aware_model_accuracy,\"\\n\")\n",
    "print('Post-Quant test accuracy:', test_post_q_accuracy,\"\\n\")\n",
    "print('Prun TFLite test_accuracy:', test_accuracy_p,\"\\n\")\n",
    "print('Quant TFLite test_accuracy:', test_accuracy_q,\"\\n\")\n",
    "print('Pruned and quantized test_accuracy:', q_aware_prun_model_accuracy,\"\\n\")"
   ]
  },
  {
   "cell_type": "code",
   "execution_count": 48,
   "metadata": {},
   "outputs": [
    {
     "name": "stdout",
     "output_type": "stream",
     "text": [
      "Saved pruned and quantized Keras model to: /tmp/tmp3_7naphx.h5\n"
     ]
    }
   ],
   "source": [
    "_, pruned_and_quantized_keras_file = tempfile.mkstemp('.h5')\n",
    "tf.keras.models.save_model(q_aware_prun_model, pruned_and_quantized_keras_file, include_optimizer=False)\n",
    "print('Saved pruned and quantized Keras model to:', pruned_and_quantized_keras_file)"
   ]
  },
  {
   "cell_type": "markdown",
   "metadata": {},
   "source": [
    "# 5-2. baseline model with pruning and post-quantizing"
   ]
  },
  {
   "cell_type": "code",
   "execution_count": 49,
   "metadata": {},
   "outputs": [
    {
     "name": "stdout",
     "output_type": "stream",
     "text": [
      "Saved quantized and pruned TFLite model to: /tmp/tmp141hdp3c.tflite\n"
     ]
    }
   ],
   "source": [
    "converter = tf.lite.TFLiteConverter.from_keras_model(model_for_export)\n",
    "converter.optimizations = [tf.lite.Optimize.DEFAULT]\n",
    "post_quantized_and_pruned_tflite_model = converter.convert()\n",
    "\n",
    "_, post_quantized_and_pruned_tflite_file = tempfile.mkstemp('.tflite')\n",
    "\n",
    "with open(post_quantized_and_pruned_tflite_file, 'wb') as f:\n",
    "  f.write(post_quantized_and_pruned_tflite_model)\n",
    "\n",
    "print('Saved quantized and pruned TFLite model to:', post_quantized_and_pruned_tflite_file)"
   ]
  },
  {
   "cell_type": "code",
   "execution_count": 50,
   "metadata": {
    "scrolled": true
   },
   "outputs": [
    {
     "name": "stdout",
     "output_type": "stream",
     "text": [
      "Evaluated on 0 results so far.\n",
      "Evaluated on 1000 results so far.\n",
      "Evaluated on 2000 results so far.\n",
      "Evaluated on 3000 results so far.\n",
      "Evaluated on 4000 results so far.\n",
      "Evaluated on 5000 results so far.\n",
      "Evaluated on 6000 results so far.\n",
      "Evaluated on 7000 results so far.\n",
      "Evaluated on 8000 results so far.\n",
      "Evaluated on 9000 results so far.\n",
      "\n",
      "\n"
     ]
    }
   ],
   "source": [
    "interpreter_p_post_q = tf.lite.Interpreter(model_content=post_quantized_and_pruned_tflite_model)\n",
    "interpreter_p_post_q.allocate_tensors()\n",
    "\n",
    "test_accuracy_p_post_q = evaluate_model(interpreter_p_post_q)"
   ]
  },
  {
   "cell_type": "markdown",
   "metadata": {},
   "source": [
    "##### accuracy : baseline,  pruned model,  quantized model,  post-quantized model, tf-lite pruned model, tf-lite quantized model, pruned and quantized model, pruned and post-quantized model"
   ]
  },
  {
   "cell_type": "code",
   "execution_count": 51,
   "metadata": {
    "scrolled": true
   },
   "outputs": [
    {
     "name": "stdout",
     "output_type": "stream",
     "text": [
      "Baseline test accuracy: 0.8737 \n",
      "\n",
      "Pruned test accuracy: 0.8629 \n",
      "\n",
      "Quant test accuracy: 0.8049 \n",
      "\n",
      "Post-Quant test accuracy: 0.863 \n",
      "\n",
      "Prun TFLite test_accuracy: 0.8629 \n",
      "\n",
      "Quant TFLite test_accuracy: 0.8049 \n",
      "\n",
      "Pruned and quantized test_accuracy: 0.8497 \n",
      "\n",
      "Pruned and post-quantized test_accuracy: 0.863 \n",
      "\n"
     ]
    }
   ],
   "source": [
    "print('Baseline test accuracy:', baseline_model_accuracy,\"\\n\")\n",
    "print('Pruned test accuracy:', model_for_pruning_accuracy,\"\\n\")\n",
    "print('Quant test accuracy:', q_aware_model_accuracy,\"\\n\")\n",
    "print('Post-Quant test accuracy:', test_post_q_accuracy,\"\\n\")\n",
    "print('Prun TFLite test_accuracy:', test_accuracy_p,\"\\n\")\n",
    "print('Quant TFLite test_accuracy:', test_accuracy_q,\"\\n\")\n",
    "print('Pruned and quantized test_accuracy:', q_aware_prun_model_accuracy,\"\\n\")\n",
    "print('Pruned and post-quantized test_accuracy:', test_accuracy_p_post_q,\"\\n\")"
   ]
  },
  {
   "cell_type": "markdown",
   "metadata": {},
   "source": [
    "# 6. pruned and quantized model convert to TFLite"
   ]
  },
  {
   "cell_type": "code",
   "execution_count": 52,
   "metadata": {},
   "outputs": [
    {
     "name": "stdout",
     "output_type": "stream",
     "text": [
      "Saved pruned TFLite model to: /tmp/tmpoecbddnk.tflite\n"
     ]
    }
   ],
   "source": [
    "converter = tf.lite.TFLiteConverter.from_keras_model(q_aware_prun_model)\n",
    "pruned_quantized_tflite_model = converter.convert()\n",
    "\n",
    "_, pruned_quantized_tflite_file = tempfile.mkstemp('.tflite')\n",
    "\n",
    "with open(pruned_quantized_tflite_file, 'wb') as f:\n",
    "    f.write(pruned_quantized_tflite_model)\n",
    "\n",
    "print('Saved pruned TFLite model to:', pruned_quantized_tflite_file)"
   ]
  },
  {
   "cell_type": "code",
   "execution_count": 53,
   "metadata": {
    "scrolled": true
   },
   "outputs": [
    {
     "name": "stdout",
     "output_type": "stream",
     "text": [
      "Evaluated on 0 results so far.\n",
      "Evaluated on 1000 results so far.\n",
      "Evaluated on 2000 results so far.\n",
      "Evaluated on 3000 results so far.\n",
      "Evaluated on 4000 results so far.\n",
      "Evaluated on 5000 results so far.\n",
      "Evaluated on 6000 results so far.\n",
      "Evaluated on 7000 results so far.\n",
      "Evaluated on 8000 results so far.\n",
      "Evaluated on 9000 results so far.\n",
      "\n",
      "\n"
     ]
    }
   ],
   "source": [
    "interpreter_p_q = tf.lite.Interpreter(model_content=pruned_quantized_tflite_model)\n",
    "interpreter_p_q.allocate_tensors()\n",
    "\n",
    "test_accuracy_p_q = evaluate_model(interpreter_p_q)"
   ]
  },
  {
   "cell_type": "markdown",
   "metadata": {},
   "source": [
    "##### accuracy : baseline,  pruned model,  quantized model,  post-quantized model, TFLite pruned model, TFLite quantized model, pruned and quantized model, pruned and post-quantized model, TFLite pruned and quantizied model"
   ]
  },
  {
   "cell_type": "code",
   "execution_count": 54,
   "metadata": {},
   "outputs": [
    {
     "name": "stdout",
     "output_type": "stream",
     "text": [
      "Baseline test accuracy: 0.8737 \n",
      "\n",
      "Pruned test accuracy: 0.8629 \n",
      "\n",
      "Quant test accuracy: 0.8049 \n",
      "\n",
      "Post-Quant test accuracy: 0.863 \n",
      "\n",
      "Prun TFLite test_accuracy: 0.8629 \n",
      "\n",
      "Quant TFLite test_accuracy: 0.8049 \n",
      "\n",
      "Pruned and quantized test_accuracy: 0.8497 \n",
      "\n",
      "Pruned and post-quantized test_accuracy: 0.863 \n",
      "\n",
      "Pruned and quantized TFLite test_accuracy: 0.8497 \n",
      "\n"
     ]
    }
   ],
   "source": [
    "print('Baseline test accuracy:', baseline_model_accuracy,\"\\n\")\n",
    "print('Pruned test accuracy:', model_for_pruning_accuracy,\"\\n\")\n",
    "print('Quant test accuracy:', q_aware_model_accuracy,\"\\n\")\n",
    "print('Post-Quant test accuracy:', test_post_q_accuracy,\"\\n\")\n",
    "print('Prun TFLite test_accuracy:', test_accuracy_p,\"\\n\")\n",
    "print('Quant TFLite test_accuracy:', test_accuracy_q,\"\\n\")\n",
    "print('Pruned and quantized test_accuracy:', q_aware_prun_model_accuracy,\"\\n\")\n",
    "print('Pruned and post-quantized test_accuracy:', test_accuracy_p_post_q,\"\\n\")\n",
    "print('Pruned and quantized TFLite test_accuracy:', test_accuracy_p_q,\"\\n\")"
   ]
  },
  {
   "cell_type": "markdown",
   "metadata": {},
   "source": [
    "# 결론(Result)"
   ]
  },
  {
   "cell_type": "markdown",
   "metadata": {},
   "source": [
    "## 모델 이름, 설명"
   ]
  },
  {
   "cell_type": "markdown",
   "metadata": {},
   "source": [
    "| 모델 이름 | 모델 저장 파일명 | 모델 정확도 변수명 |   설명   |\n",
    "|:--:|:--:|:--:|:---|\n",
    "|model(baseline_model)|keras_file|Baseline test accuracy|fashion_mnist dataset으로 구성한 모델|\n",
    "|model_for_pruning(model_for_export)|pruned_keras_file| model_for_pruning_accuracy|base model에 pruning만 적용시킨 모델\n",
    "|q_aware_model|quantized_keras_file|q_aware_model_accuracy|base model에 quantizing만 적용시킨 모델|\n",
    "|post_quan_tflite_model|post_quan_tflite_file|test_post_q_accuracy|base model에 post-quantizing만 적용시킨 모델|\n",
    "|pruned_tflite_model|pruned_tflite_file|test_accuracy_p|pruned model을 TFLite 모델로 변경시킨 모델|\n",
    "|quantized_tflite_model|quantized_tflite_file|test_accuracy_q|quantized model을 TFLite 모델로 변경시킨 모델|\n",
    "|q_aware_prun_model|pruned_and_quantized_keras_file|q_aware_prun_model_accuracy|baseline model에 pruning과 quantizing을 적용시킨 모델|\n",
    "|post_quantized_and_pruned_tflite_model|post_quantized_and_pruned_tflite_file|test_accuracy_p_post_q|baseline model에 pruning과 post-quantizing을 적용시킨 모델|\n",
    "|pruned_quantized_tflite_model|pruned_quantized_tflite_file|test_accuracy_p_q|pruned and quantized model을 TFLite모델로 변경 시킨 모델|"
   ]
  },
  {
   "cell_type": "markdown",
   "metadata": {},
   "source": [
    "### 모든 모델의 정확도"
   ]
  },
  {
   "cell_type": "code",
   "execution_count": 55,
   "metadata": {
    "scrolled": false
   },
   "outputs": [
    {
     "name": "stdout",
     "output_type": "stream",
     "text": [
      "Baseline test accuracy: 0.8737 \n",
      "\n",
      "Pruned test accuracy: 0.8629 \n",
      "\n",
      "Quant test accuracy: 0.8049 \n",
      "\n",
      "Post-Quant test accuracy: 0.863 \n",
      "\n",
      "Prun TFLite test_accuracy: 0.8629 \n",
      "\n",
      "Quant TFLite test_accuracy: 0.8049 \n",
      "\n",
      "Pruned and quantized test_accuracy: 0.8497 \n",
      "\n",
      "Pruned and post-quantized test_accuracy: 0.863 \n",
      "\n",
      "Pruned and post-quantized test_accuracy: 0.8497 \n",
      "\n"
     ]
    }
   ],
   "source": [
    "print('Baseline test accuracy:', baseline_model_accuracy,\"\\n\")\n",
    "print('Pruned test accuracy:', model_for_pruning_accuracy,\"\\n\")\n",
    "print('Quant test accuracy:', q_aware_model_accuracy,\"\\n\")\n",
    "print('Post-Quant test accuracy:', test_post_q_accuracy,\"\\n\")\n",
    "print('Prun TFLite test_accuracy:', test_accuracy_p,\"\\n\")\n",
    "print('Quant TFLite test_accuracy:', test_accuracy_q,\"\\n\")\n",
    "print('Pruned and quantized test_accuracy:', q_aware_prun_model_accuracy,\"\\n\")\n",
    "print('Pruned and post-quantized test_accuracy:', test_accuracy_p_post_q,\"\\n\")\n",
    "print('Pruned and post-quantized test_accuracy:', test_accuracy_p_q,\"\\n\")"
   ]
  },
  {
   "cell_type": "code",
   "execution_count": 56,
   "metadata": {},
   "outputs": [
    {
     "data": {
      "image/png": "[encoded data removed]",
      "text/plain": [
       "<Figure size 576x576 with 1 Axes>"
      ]
     },
     "metadata": {
      "needs_background": "light"
     },
     "output_type": "display_data"
    }
   ],
   "source": [
    "from matplotlib import pyplot as plt\n",
    "\n",
    "y = [baseline_model_accuracy, model_for_pruning_accuracy,\n",
    "     q_aware_model_accuracy, test_post_q_accuracy,\n",
    "     test_accuracy_p, test_accuracy_q,\n",
    "     q_aware_prun_model_accuracy, test_accuracy_p_post_q, test_accuracy_p_q]\n",
    "\n",
    "x = [\"base\", \"prun\", \"quan\", \"post\",\n",
    "     \"prun_tf\",\"quan_tf\", \"prun_quan\",\n",
    "     \"prun_post\", \"prun_quan_tf\"]\n",
    "plt.figure(figsize=(8, 8))\n",
    "plt.barh(x, y, color=\"skyblue\", height=0.6)\n",
    "plt.xlim(0.0,0.9)\n",
    "\n",
    "plt.yticks(x,fontsize=13)\n",
    "plt.title(\"Accuracy compare\")\n",
    "plt.show()"
   ]
  },
  {
   "cell_type": "code",
   "execution_count": 58,
   "metadata": {},
   "outputs": [
    {
     "data": {
      "image/png": "[encoded data removed]",
      "text/plain": [
       "<Figure size 576x576 with 1 Axes>"
      ]
     },
     "metadata": {
      "needs_background": "light"
     },
     "output_type": "display_data"
    }
   ],
   "source": [
    "plt.figure(figsize=(8, 8))\n",
    "plt.barh(x, y, color=\"blue\")\n",
    "plt.xlim(0.80,0.868)\n",
    "\n",
    "plt.yticks(x,fontsize=13)\n",
    "plt.title(\"Accuracy compare\")\n",
    "plt.show()"
   ]
  },
  {
   "cell_type": "markdown",
   "metadata": {},
   "source": [
    "### 모든 모델의 크기"
   ]
  },
  {
   "cell_type": "code",
   "execution_count": 59,
   "metadata": {},
   "outputs": [],
   "source": [
    "def get_gzipped_model_size(file):\n",
    "  # Returns size of gzipped model, in bytes.\n",
    "  import os\n",
    "  import zipfile\n",
    "\n",
    "  _, zipped_file = tempfile.mkstemp('.zip')\n",
    "  with zipfile.ZipFile(zipped_file, 'w', compression=zipfile.ZIP_DEFLATED) as f:\n",
    "    f.write(file)\n",
    "\n",
    "  return os.path.getsize(zipped_file)"
   ]
  },
  {
   "cell_type": "code",
   "execution_count": 60,
   "metadata": {},
   "outputs": [
    {
     "name": "stdout",
     "output_type": "stream",
     "text": [
      "Size of gzipped baseline Keras model: 380323.00 bytes\n",
      "\n",
      "Size of gzipped pruned Keras model: 79566.00 bytes\n",
      "\n",
      "Size of gzipped quantizied Keras model: 363799.00 bytes\n",
      "\n",
      "Size of gzipped post-quantized model: 144.00 bytes\n",
      "\n",
      "Size of gzipped pruned TFlite model: 67045.00 bytes\n",
      "\n",
      "Size of gzipped quantized TFlite model: 37234.00 bytes\n",
      "\n",
      "Size of gzipped pruned and quantized Keras model: 362188.00 bytes\n",
      "\n",
      "Size of gzipped pruned and post-quantized model: 18861.00 bytes\n",
      "\n",
      "Size of gzipped pruned and quantized TFlite model: 43970.00 bytes\n",
      "\n"
     ]
    }
   ],
   "source": [
    "print(\"Size of gzipped baseline Keras model: %.2f bytes\\n\" % (get_gzipped_model_size(keras_file)))\n",
    "print(\"Size of gzipped pruned Keras model: %.2f bytes\\n\" % (get_gzipped_model_size(pruned_keras_file)))\n",
    "print(\"Size of gzipped quantizied Keras model: %.2f bytes\\n\" % (get_gzipped_model_size(quantized_keras_file)))\n",
    "print(\"Size of gzipped post-quantized model: %.2f bytes\\n\" % (get_gzipped_model_size(post_quan_tflite_file)))\n",
    "print(\"Size of gzipped pruned TFlite model: %.2f bytes\\n\" % (get_gzipped_model_size(pruned_tflite_file)))\n",
    "print(\"Size of gzipped quantized TFlite model: %.2f bytes\\n\" % (get_gzipped_model_size(quantized_tflite_file)))\n",
    "print(\"Size of gzipped pruned and quantized Keras model: %.2f bytes\\n\" % (get_gzipped_model_size(pruned_and_quantized_keras_file)))\n",
    "print(\"Size of gzipped pruned and post-quantized model: %.2f bytes\\n\" % (get_gzipped_model_size(post_quantized_and_pruned_tflite_file)))\n",
    "print(\"Size of gzipped pruned and quantized TFlite model: %.2f bytes\\n\" % (get_gzipped_model_size(pruned_quantized_tflite_file)))\n"
   ]
  },
  {
   "cell_type": "code",
   "execution_count": 61,
   "metadata": {},
   "outputs": [
    {
     "data": {
      "image/png": "[encoded data removed]",
      "text/plain": [
       "<Figure size 576x576 with 1 Axes>"
      ]
     },
     "metadata": {
      "needs_background": "light"
     },
     "output_type": "display_data"
    }
   ],
   "source": [
    "y = [get_gzipped_model_size(keras_file),\n",
    "     get_gzipped_model_size(pruned_keras_file),\n",
    "     get_gzipped_model_size(quantized_keras_file),\n",
    "     get_gzipped_model_size(post_quan_tflite_file),\n",
    "     get_gzipped_model_size(pruned_tflite_file),\n",
    "     get_gzipped_model_size(quantized_tflite_file),\n",
    "     get_gzipped_model_size(pruned_and_quantized_keras_file),\n",
    "     get_gzipped_model_size(post_quantized_and_pruned_tflite_file),\n",
    "     get_gzipped_model_size(pruned_quantized_tflite_file)]\n",
    "\n",
    "\n",
    "x = [\"base\", \"prun\", \"quan\", \"post\",\n",
    "     \"prun_tf\",\"quan_tf\", \"prun_quan\",\n",
    "     \"prun_post\", \"prun_quan_tf\"]\n",
    "plt.figure(figsize=(8, 8))\n",
    "plt.barh(x, y, color=\"skyblue\", height=0.6)\n",
    "#plt.xlim(0.0,0.9)\n",
    "\n",
    "plt.yticks(x,fontsize=13)\n",
    "plt.title(\"Model Size compare\")\n",
    "plt.show()"
   ]
  },
  {
   "cell_type": "code",
   "execution_count": 62,
   "metadata": {},
   "outputs": [
    {
     "data": {
      "image/png": "[encoded data removed]",
      "text/plain": [
       "<Figure size 432x288 with 1 Axes>"
      ]
     },
     "metadata": {
      "needs_background": "light"
     },
     "output_type": "display_data"
    }
   ],
   "source": [
    "y = [get_gzipped_model_size(pruned_keras_file),\n",
    "     get_gzipped_model_size(post_quan_tflite_file),\n",
    "     get_gzipped_model_size(pruned_tflite_file),\n",
    "     get_gzipped_model_size(quantized_tflite_file),\n",
    "     get_gzipped_model_size(post_quantized_and_pruned_tflite_file),\n",
    "     get_gzipped_model_size(pruned_quantized_tflite_file)]\n",
    "\n",
    "x = [\"prun\", \"post\",\n",
    "     \"prun_tf\",\"quan_tf\",\n",
    "     \"prun_post\", \"prun_quan_tf\"]\n",
    "\n",
    "plt.barh(x, y, color=\"blue\", height=0.6)\n",
    "#plt.xlim(0.0,0.9)\n",
    "\n",
    "plt.yticks(x,fontsize=13)\n",
    "plt.title(\"Model Size compare\")\n",
    "plt.show()"
   ]
  },
  {
   "cell_type": "code",
   "execution_count": 63,
   "metadata": {},
   "outputs": [
    {
     "data": {
      "image/png": "[encoded data removed]",
      "text/plain": [
       "<Figure size 432x288 with 1 Axes>"
      ]
     },
     "metadata": {
      "needs_background": "light"
     },
     "output_type": "display_data"
    }
   ],
   "source": [
    "y = [get_gzipped_model_size(post_quan_tflite_file),\n",
    "     get_gzipped_model_size(post_quantized_and_pruned_tflite_file)]\n",
    "\n",
    "x = [\"post\",\n",
    "     \"prun_post\"]\n",
    "\n",
    "plt.barh(x, y, color=\"red\", height=0.6)\n",
    "#plt.xlim(0.0,0.9)\n",
    "\n",
    "plt.yticks(x,fontsize=13)\n",
    "plt.title(\"Model Size compare\")\n",
    "plt.show()"
   ]
  },
  {
   "cell_type": "code",
   "execution_count": 64,
   "metadata": {},
   "outputs": [
    {
     "data": {
      "image/png": "[encoded data removed]",
      "text/plain": [
       "<Figure size 432x288 with 1 Axes>"
      ]
     },
     "metadata": {
      "needs_background": "light"
     },
     "output_type": "display_data"
    }
   ],
   "source": [
    "y = [get_gzipped_model_size(keras_file),\n",
    "     get_gzipped_model_size(quantized_keras_file),\n",
    "     get_gzipped_model_size(pruned_and_quantized_keras_file)]\n",
    "\n",
    "\n",
    "x = [\"base\", \"quan\", \"prun_quan\"]\n",
    "\n",
    "plt.barh(x, y, color=\"green\", height=0.6)\n",
    "plt.xlim(345000, 390000)\n",
    "\n",
    "plt.yticks(x,fontsize=13)\n",
    "plt.title(\"Model Size compare\")\n",
    "plt.show()"
   ]
  },
  {
   "cell_type": "markdown",
   "metadata": {},
   "source": [
    "### accuracy and model size"
   ]
  },
  {
   "cell_type": "code",
   "execution_count": 71,
   "metadata": {},
   "outputs": [
    {
     "data": {
      "image/png": "[encoded data removed]",
      "text/plain": [
       "<Figure size 576x576 with 1 Axes>"
      ]
     },
     "metadata": {
      "needs_background": "light"
     },
     "output_type": "display_data"
    }
   ],
   "source": [
    "x = [baseline_model_accuracy, model_for_pruning_accuracy,\n",
    "     q_aware_model_accuracy, test_post_q_accuracy,\n",
    "     test_accuracy_p, test_accuracy_q,\n",
    "     q_aware_prun_model_accuracy, test_accuracy_p_post_q, test_accuracy_p_q]\n",
    "\n",
    "y = [get_gzipped_model_size(keras_file),\n",
    "     get_gzipped_model_size(pruned_keras_file),\n",
    "     get_gzipped_model_size(quantized_keras_file),\n",
    "     get_gzipped_model_size(post_quan_tflite_file),\n",
    "     get_gzipped_model_size(pruned_tflite_file),\n",
    "     get_gzipped_model_size(quantized_tflite_file),\n",
    "     get_gzipped_model_size(pruned_and_quantized_keras_file),\n",
    "     get_gzipped_model_size(post_quantized_and_pruned_tflite_file),\n",
    "     get_gzipped_model_size(pruned_quantized_tflite_file)]\n",
    "\n",
    "z = [\"base\", \"prun\", \"quan\", \"post\",\n",
    "     \"prun_tf\",\"quan_tf\", \"prun_quan\",\n",
    "     \"prun_post\", \"prun_quan_tf\"]\n",
    "\n",
    "c = ['b','g','r','c','yellow','m','k','orange',\"brown\"]\n",
    "d = [(10,10),(10,10),(10,-15),(10,10),(10,-15),(10,10),(10,10),(10,10),(10,10)]\n",
    "plt.figure(figsize=(8, 8))\n",
    "plt.scatter(x,y, color=c)\n",
    "\n",
    "for xs,ys in zip(x,y):\n",
    "    plt.annotate(z[x.index(xs)], (xs,ys), textcoords=\"offset points\",xytext=d[x.index(xs)],ha='right')\n",
    "    \n",
    "plt.ylabel('Model Size')\n",
    "plt.xlabel('Accuracy')\n",
    "plt.show()"
   ]
  },
  {
   "cell_type": "code",
   "execution_count": 76,
   "metadata": {},
   "outputs": [
    {
     "data": {
      "image/png": "[encoded data removed]",
      "text/plain": [
       "<Figure size 576x576 with 1 Axes>"
      ]
     },
     "metadata": {
      "needs_background": "light"
     },
     "output_type": "display_data"
    }
   ],
   "source": [
    "x = [baseline_model_accuracy,\n",
    "     q_aware_model_accuracy,\n",
    "     q_aware_prun_model_accuracy]\n",
    "\n",
    "y = [get_gzipped_model_size(keras_file),\n",
    "     get_gzipped_model_size(quantized_keras_file),\n",
    "     get_gzipped_model_size(pruned_and_quantized_keras_file)]\n",
    "\n",
    "z = [\"base\", \"quan\", \"prun_quan\"]\n",
    "\n",
    "c = ['b','g','r']\n",
    "d = [(10,10),(10,10),(10,-15)]\n",
    "plt.figure(figsize=(8, 8))\n",
    "plt.scatter(x,y, color=c)\n",
    "\n",
    "for xs,ys in zip(x,y):\n",
    "    plt.annotate(z[x.index(xs)], (xs,ys), textcoords=\"offset points\",xytext=d[x.index(xs)],ha='right')\n",
    "    \n",
    "plt.ylabel('Model Size')\n",
    "plt.xlabel('Accuracy')\n",
    "plt.show()"
   ]
  },
  {
   "cell_type": "code",
   "execution_count": 67,
   "metadata": {},
   "outputs": [
    {
     "data": {
      "image/png": "[encoded data removed]",
      "text/plain": [
       "<Figure size 576x576 with 1 Axes>"
      ]
     },
     "metadata": {
      "needs_background": "light"
     },
     "output_type": "display_data"
    }
   ],
   "source": [
    "x = [model_for_pruning_accuracy, test_post_q_accuracy,\n",
    "     test_accuracy_p, test_accuracy_q,test_accuracy_p_post_q, test_accuracy_p_q]\n",
    "\n",
    "y = [get_gzipped_model_size(pruned_keras_file),\n",
    "     get_gzipped_model_size(post_quan_tflite_file),\n",
    "     get_gzipped_model_size(pruned_tflite_file),\n",
    "     get_gzipped_model_size(quantized_tflite_file),\n",
    "     get_gzipped_model_size(post_quantized_and_pruned_tflite_file),\n",
    "     get_gzipped_model_size(pruned_quantized_tflite_file)]\n",
    "\n",
    "z = [\"prun\", \"post\",\n",
    "     \"prun_tf\",\"quan_tf\",\n",
    "     \"prun_post\", \"prun_quan_tf\"]\n",
    "\n",
    "c = ['b','g','r','c','yellow','m']\n",
    "d = [(10,10),(10,10),(10,-15),(10,10),(10,-15),(10,10)]\n",
    "plt.figure(figsize=(8, 8))\n",
    "plt.scatter(x,y, color=c)\n",
    "\n",
    "for xs,ys in zip(x,y):\n",
    "    plt.annotate(z[x.index(xs)], (xs,ys), textcoords=\"offset points\",xytext=d[x.index(xs)],ha='right')\n",
    "    \n",
    "plt.ylabel('Model Size')\n",
    "plt.xlabel('Accuracy')\n",
    "plt.show()"
   ]
  }
 ],
 "metadata": {
  "kernelspec": {
   "display_name": "Python 3",
   "language": "python",
   "name": "python3"
  },
  "language_info": {
   "codemirror_mode": {
    "name": "ipython",
    "version": 3
   },
   "file_extension": ".py",
   "mimetype": "text/x-python",
   "name": "python",
   "nbconvert_exporter": "python",
   "pygments_lexer": "ipython3",
   "version": "3.7.7"
  }
 },
 "nbformat": 4,
 "nbformat_minor": 4
}
