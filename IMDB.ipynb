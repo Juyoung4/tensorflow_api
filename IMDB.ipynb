{
  "nbformat": 4,
  "nbformat_minor": 0,
  "metadata": {
    "colab": {
      "name": "IMDB.ipynb",
      "provenance": [],
      "authorship_tag": "ABX9TyPFc4auwyPqPJF6kw1EyiTQ",
      "include_colab_link": true
    },
    "kernelspec": {
      "name": "python3",
      "display_name": "Python 3"
    },
    "accelerator": "GPU"
  },
  "cells": [
    {
      "cell_type": "markdown",
      "metadata": {
        "id": "view-in-github",
        "colab_type": "text"
      },
      "source": [
        "<a href=\"https://colab.research.google.com/github/Juyoung4/tensorflow_api/blob/master/IMDB.ipynb\" target=\"_parent\"><img src=\"https://colab.research.google.com/assets/colab-badge.svg\" alt=\"Open In Colab\"/></a>"
      ]
    },
    {
      "cell_type": "markdown",
      "metadata": {
        "id": "tQAVWC5BSJLU",
        "colab_type": "text"
      },
      "source": [
        "# IMDB_LSTM 모델 경량화"
      ]
    },
    {
      "cell_type": "code",
      "metadata": {
        "id": "N8lfPlBcmyaJ",
        "colab_type": "code",
        "outputId": "9a3b3e7f-a482-43a3-ddd5-ab1ae589525c",
        "colab": {
          "base_uri": "https://localhost:8080/",
          "height": 191
        }
      },
      "source": [
        "!pip install tensorflow-model-optimization"
      ],
      "execution_count": 0,
      "outputs": [
        {
          "output_type": "stream",
          "text": [
            "Collecting tensorflow-model-optimization\n",
            "\u001b[?25l  Downloading https://files.pythonhosted.org/packages/09/7e/e94aa029999ec30951e8129fa992fecbbaffda66eba97c65d5a83f8ea96d/tensorflow_model_optimization-0.3.0-py2.py3-none-any.whl (165kB)\n",
            "\u001b[K     |████████████████████████████████| 174kB 15.2MB/s \n",
            "\u001b[?25hRequirement already satisfied: six~=1.10 in /usr/local/lib/python3.6/dist-packages (from tensorflow-model-optimization) (1.12.0)\n",
            "Requirement already satisfied: numpy~=1.14 in /usr/local/lib/python3.6/dist-packages (from tensorflow-model-optimization) (1.18.5)\n",
            "Collecting dm-tree~=0.1.1\n",
            "\u001b[?25l  Downloading https://files.pythonhosted.org/packages/16/48/10fb721334810081b7e6eebeba0d12e12126c76993e8c243062d2f56a89f/dm_tree-0.1.5-cp36-cp36m-manylinux1_x86_64.whl (294kB)\n",
            "\u001b[K     |████████████████████████████████| 296kB 10.5MB/s \n",
            "\u001b[?25hInstalling collected packages: dm-tree, tensorflow-model-optimization\n",
            "Successfully installed dm-tree-0.1.5 tensorflow-model-optimization-0.3.0\n"
          ],
          "name": "stdout"
        }
      ]
    },
    {
      "cell_type": "code",
      "metadata": {
        "id": "yu63f-m5wXRK",
        "colab_type": "code",
        "colab": {}
      },
      "source": [
        "from __future__ import print_function #python2 에서 3문법 사용\n",
        "import matplotlib.pyplot as plt\n",
        "\n",
        "import tempfile\n",
        "import os\n",
        "\n",
        "import tensorflow as tf\n",
        "import numpy as np\n",
        "\n",
        "import tensorflow_model_optimization as tfmot"
      ],
      "execution_count": 0,
      "outputs": []
    },
    {
      "cell_type": "code",
      "metadata": {
        "id": "6HIJW_XjSfpd",
        "colab_type": "code",
        "colab": {}
      },
      "source": [
        "import tensorflow.keras as keras\n",
        "import tensorflow.keras.backend as K\n",
        "import tensorflow.keras.preprocessing.sequence as sequence\n",
        "from tensorflow_model_optimization.python.core.sparsity.keras import prune\n",
        "from tensorflow_model_optimization.python.core.sparsity.keras import pruning_callbacks\n",
        "from tensorflow_model_optimization.python.core.sparsity.keras import pruning_schedule\n",
        "from tensorflow_model_optimization.python.core.sparsity.keras import pruning_wrapper"
      ],
      "execution_count": 0,
      "outputs": []
    },
    {
      "cell_type": "code",
      "metadata": {
        "id": "hCDXuboiSphL",
        "colab_type": "code",
        "outputId": "56984066-7fbe-45d4-b0a0-1938447e9454",
        "colab": {
          "base_uri": "https://localhost:8080/",
          "height": 34
        }
      },
      "source": [
        "print(tf.__version__)"
      ],
      "execution_count": 0,
      "outputs": [
        {
          "output_type": "stream",
          "text": [
            "2.2.0\n"
          ],
          "name": "stdout"
        }
      ]
    },
    {
      "cell_type": "code",
      "metadata": {
        "id": "njQdgqidwg5C",
        "colab_type": "code",
        "colab": {}
      },
      "source": [
        "maxlen = 100  # cut texts after this number of words\n",
        "batch_size = 32 #1 step에서 사용되는 데이터 수"
      ],
      "execution_count": 0,
      "outputs": []
    },
    {
      "cell_type": "markdown",
      "metadata": {
        "id": "1oET9bZGS2xY",
        "colab_type": "text"
      },
      "source": [
        "## 1. IMDB 데이터셋 가져오기\n",
        "IMDB는 kearas에서 제공해주는 영화 리뷰 데이터이며 긍정, 부정 감정을 분류한다.\n",
        "\n",
        "영화 리뷰는 X_train에, 감성 정보는 y_train에 저장된다.(긍정리뷰:1, 부정리뷰:0)\n",
        "\n",
        "num_words 인자에 20000이라고 지정하여 많이 사용하는 순 위 20000번째 까지의 단어만을 데이터셋으로 사용한다. "
      ]
    },
    {
      "cell_type": "code",
      "metadata": {
        "id": "5v-a5M0Zr99O",
        "colab_type": "code",
        "outputId": "8eb307ae-c123-4d98-a387-55f226a81126",
        "colab": {
          "base_uri": "https://localhost:8080/",
          "height": 52
        }
      },
      "source": [
        "imdb = keras.datasets.imdb\n",
        "\n",
        "\n",
        "(x_train, y_train), (x_test, y_test) = imdb.load_data(num_words=20000)"
      ],
      "execution_count": 0,
      "outputs": [
        {
          "output_type": "stream",
          "text": [
            "Downloading data from https://storage.googleapis.com/tensorflow/tf-keras-datasets/imdb.npz\n",
            "17465344/17464789 [==============================] - 1s 0us/step\n"
          ],
          "name": "stdout"
        }
      ]
    },
    {
      "cell_type": "code",
      "metadata": {
        "id": "fpVqqSDlsd9c",
        "colab_type": "code",
        "outputId": "e693b769-a9fa-4795-d8b7-33569ebfa8c2",
        "colab": {
          "base_uri": "https://localhost:8080/",
          "height": 69
        }
      },
      "source": [
        "print('훈련용 리뷰 개수 : {}'.format(len(x_train)))\n",
        "print('테스트용 리뷰 개수 : {}'.format(len(x_test)))\n",
        "num_classes = max(y_train) + 1\n",
        "print('카테고리 : {}'.format(num_classes))"
      ],
      "execution_count": 0,
      "outputs": [
        {
          "output_type": "stream",
          "text": [
            "훈련용 리뷰 개수 : 25000\n",
            "테스트용 리뷰 개수 : 25000\n",
            "카테고리 : 2\n"
          ],
          "name": "stdout"
        }
      ]
    },
    {
      "cell_type": "code",
      "metadata": {
        "id": "OGuoN3nhRv0R",
        "colab_type": "code",
        "outputId": "98a646e5-5d5a-4a7f-e95c-8b017015a196",
        "colab": {
          "base_uri": "https://localhost:8080/",
          "height": 69
        }
      },
      "source": [
        "print(\"Pad sequences (samples x time)\")\n",
        "x_train = sequence.pad_sequences(x_train, maxlen=maxlen)\n",
        "x_test = sequence.pad_sequences(x_test, maxlen=maxlen)\n",
        "print(\"x_train shape:\", x_train.shape)\n",
        "print(\"x_test shape:\", x_test.shape)"
      ],
      "execution_count": 0,
      "outputs": [
        {
          "output_type": "stream",
          "text": [
            "Pad sequences (samples x time)\n",
            "x_train shape: (25000, 100)\n",
            "x_test shape: (25000, 100)\n"
          ],
          "name": "stdout"
        }
      ]
    },
    {
      "cell_type": "code",
      "metadata": {
        "id": "XR1M4OGrSx9V",
        "colab_type": "code",
        "outputId": "b04ce4d1-f90a-4cb2-dac3-07a1e97552f8",
        "colab": {
          "base_uri": "https://localhost:8080/",
          "height": 173
        }
      },
      "source": [
        "print(x_train[0])"
      ],
      "execution_count": 0,
      "outputs": [
        {
          "output_type": "stream",
          "text": [
            "[ 1415    33     6    22    12   215    28    77    52     5    14   407\n",
            "    16    82 10311     8     4   107   117  5952    15   256     4     2\n",
            "     7  3766     5   723    36    71    43   530   476    26   400   317\n",
            "    46     7     4 12118  1029    13   104    88     4   381    15   297\n",
            "    98    32  2071    56    26   141     6   194  7486    18     4   226\n",
            "    22    21   134   476    26   480     5   144    30  5535    18    51\n",
            "    36    28   224    92    25   104     4   226    65    16    38  1334\n",
            "    88    12    16   283     5    16  4472   113   103    32    15    16\n",
            "  5345    19   178    32]\n"
          ],
          "name": "stdout"
        }
      ]
    },
    {
      "cell_type": "code",
      "metadata": {
        "id": "DGKxZ0YovlBT",
        "colab_type": "code",
        "colab": {}
      },
      "source": [
        "def print_model_sparsity(pruned_model):\n",
        "  \"\"\"Prints sparsity for the pruned layers in the model.\n",
        "  Model Sparsity Summary\n",
        "  --\n",
        "  prune_lstm_1: (kernel, 0.5), (recurrent_kernel, 0.6)\n",
        "  prune_dense_1: (kernel, 0.5)\n",
        "  Args:\n",
        "    pruned_model: keras model to summarize.\n",
        "  Returns:\n",
        "    None\n",
        "  \"\"\"\n",
        "  \n",
        "  def _get_sparsity(weights):\n",
        "    return 1.0 - np.count_nonzero(weights) / float(weights.size)\n",
        "\n",
        "  print(\"Model Sparsity Summary ({})\".format(pruned_model.name))\n",
        "  print(\"--\")\n",
        "  for layer in pruned_model.layers:\n",
        "    if isinstance(layer, pruning_wrapper.PruneLowMagnitude):\n",
        "      prunable_weights = layer.layer.get_prunable_weights()\n",
        "      if prunable_weights:\n",
        "        print(\"{}: {}\".format(\n",
        "            layer.name, \", \".join([\n",
        "                \"({}, {})\".format(weight.name,\n",
        "                                  str(_get_sparsity(K.get_value(weight))))\n",
        "                for weight in prunable_weights\n",
        "            ])))\n",
        "  print(\"\\n\")"
      ],
      "execution_count": 0,
      "outputs": []
    },
    {
      "cell_type": "code",
      "metadata": {
        "id": "o8tSq3JU7TGz",
        "colab_type": "code",
        "colab": {}
      },
      "source": [
        "#모델 생성\n",
        "model = tf.keras.models.Sequential([\n",
        "  tf.keras.layers.Embedding(20000, 128, input_length=maxlen),\n",
        "  tf.keras.layers.LSTM(128),\n",
        "  tf.keras.layers.Dropout(0.5),\n",
        "  tf.keras.layers.Dense(1),\n",
        "  tf.keras.layers.Activation(activation='sigmoid')\n",
        "])"
      ],
      "execution_count": 0,
      "outputs": []
    },
    {
      "cell_type": "code",
      "metadata": {
        "id": "Hegb4q0y8zoF",
        "colab_type": "code",
        "outputId": "ab129ee9-abdd-4ea3-9917-b12e76a39fab",
        "colab": {
          "base_uri": "https://localhost:8080/",
          "height": 330
        }
      },
      "source": [
        "model.summary()"
      ],
      "execution_count": 0,
      "outputs": [
        {
          "output_type": "stream",
          "text": [
            "Model: \"sequential\"\n",
            "_________________________________________________________________\n",
            "Layer (type)                 Output Shape              Param #   \n",
            "=================================================================\n",
            "embedding (Embedding)        (None, 100, 128)          2560000   \n",
            "_________________________________________________________________\n",
            "lstm (LSTM)                  (None, 128)               131584    \n",
            "_________________________________________________________________\n",
            "dropout (Dropout)            (None, 128)               0         \n",
            "_________________________________________________________________\n",
            "dense (Dense)                (None, 1)                 129       \n",
            "_________________________________________________________________\n",
            "activation (Activation)      (None, 1)                 0         \n",
            "=================================================================\n",
            "Total params: 2,691,713\n",
            "Trainable params: 2,691,713\n",
            "Non-trainable params: 0\n",
            "_________________________________________________________________\n"
          ],
          "name": "stdout"
        }
      ]
    },
    {
      "cell_type": "code",
      "metadata": {
        "id": "7FNrkKu0xvae",
        "colab_type": "code",
        "outputId": "7e7fe2b1-77eb-45ae-faec-e5ba083c50cb",
        "colab": {
          "base_uri": "https://localhost:8080/",
          "height": 86
        }
      },
      "source": [
        "model.compile(loss=tf.keras.losses.BinaryCrossentropy(),\n",
        "              optimizer=\"adam\",\n",
        "              metrics=[\"accuracy\"])\n",
        "print_model_sparsity(model)"
      ],
      "execution_count": 0,
      "outputs": [
        {
          "output_type": "stream",
          "text": [
            "Model Sparsity Summary (sequential)\n",
            "--\n",
            "\n",
            "\n"
          ],
          "name": "stdout"
        }
      ]
    },
    {
      "cell_type": "code",
      "metadata": {
        "id": "4CSKHk-NxyqQ",
        "colab_type": "code",
        "outputId": "39e1aa8b-d136-482e-f7c1-b69ab58f677b",
        "colab": {
          "base_uri": "https://localhost:8080/",
          "height": 156
        }
      },
      "source": [
        "\n",
        "print(\"Train...\")\n",
        "model.fit(x_train, y_train, batch_size=batch_size, epochs=3,\n",
        "          callbacks=[pruning_callbacks.UpdatePruningStep()],\n",
        "          validation_data=(x_test, y_test))\n",
        "score, acc = model.evaluate(x_test, y_test,\n",
        "                            batch_size=batch_size)"
      ],
      "execution_count": 0,
      "outputs": [
        {
          "output_type": "stream",
          "text": [
            "Train...\n",
            "Epoch 1/3\n",
            "782/782 [==============================] - 28s 36ms/step - loss: 0.4131 - accuracy: 0.8127 - val_loss: 0.3586 - val_accuracy: 0.8464\n",
            "Epoch 2/3\n",
            "782/782 [==============================] - 27s 35ms/step - loss: 0.2367 - accuracy: 0.9083 - val_loss: 0.3524 - val_accuracy: 0.8456\n",
            "Epoch 3/3\n",
            "782/782 [==============================] - 26s 34ms/step - loss: 0.1492 - accuracy: 0.9461 - val_loss: 0.5261 - val_accuracy: 0.8350\n",
            "782/782 [==============================] - 3s 4ms/step - loss: 0.5261 - accuracy: 0.8350\n"
          ],
          "name": "stdout"
        }
      ]
    },
    {
      "cell_type": "code",
      "metadata": {
        "id": "z_A_DACcPRA_",
        "colab_type": "code",
        "outputId": "472fe63e-e0b3-4a06-f2cd-08d50b79c9bd",
        "colab": {
          "base_uri": "https://localhost:8080/",
          "height": 34
        }
      },
      "source": [
        "base_score,  baseline_model_accuracy = model.evaluate(x_test, y_test,\n",
        "                            batch_size=batch_size)"
      ],
      "execution_count": 0,
      "outputs": [
        {
          "output_type": "stream",
          "text": [
            "782/782 [==============================] - 3s 4ms/step - loss: 0.5261 - accuracy: 0.8350\n"
          ],
          "name": "stdout"
        }
      ]
    },
    {
      "cell_type": "code",
      "metadata": {
        "id": "pQjAJZ6Zyfku",
        "colab_type": "code",
        "outputId": "e44654be-c123-4888-fcef-1d92e9adabd7",
        "colab": {
          "base_uri": "https://localhost:8080/",
          "height": 121
        }
      },
      "source": [
        "print_model_sparsity(model)\n",
        "print(\"Baseline test score:\", base_score)\n",
        "print(\"Baseline test accuracy:\",  baseline_model_accuracy)"
      ],
      "execution_count": 0,
      "outputs": [
        {
          "output_type": "stream",
          "text": [
            "Model Sparsity Summary (sequential)\n",
            "--\n",
            "\n",
            "\n",
            "Baseline test score: 0.5261352062225342\n",
            "Baseline test accuracy: 0.8349999785423279\n"
          ],
          "name": "stdout"
        }
      ]
    },
    {
      "cell_type": "code",
      "metadata": {
        "id": "CQfqKUvryJxl",
        "colab_type": "code",
        "outputId": "920c1ce0-9eae-4f87-c27e-918a0191682d",
        "colab": {
          "base_uri": "https://localhost:8080/",
          "height": 34
        }
      },
      "source": [
        "_, keras_file = tempfile.mkstemp('.h5')\n",
        "tf.keras.models.save_model(model, keras_file, include_optimizer=False)\n",
        "print('Saved baseline model to:', keras_file)"
      ],
      "execution_count": 0,
      "outputs": [
        {
          "output_type": "stream",
          "text": [
            "Saved baseline model to: /tmp/tmpvv87jesg.h5\n"
          ],
          "name": "stdout"
        }
      ]
    },
    {
      "cell_type": "markdown",
      "metadata": {
        "id": "VOIQO8ZfxOwj",
        "colab_type": "text"
      },
      "source": [
        "## 2. baseline model with only pruning"
      ]
    },
    {
      "cell_type": "code",
      "metadata": {
        "id": "_3MtLkU0-w4m",
        "colab_type": "code",
        "outputId": "ee7fd451-44e6-42cf-bd10-147ed1b7cd01",
        "colab": {
          "base_uri": "https://localhost:8080/",
          "height": 402
        }
      },
      "source": [
        "import tensorflow_model_optimization as tfmot\n",
        "\n",
        "prune_low_magnitude = tfmot.sparsity.keras.prune_low_magnitude\n",
        "\n",
        "# Compute end step to finish pruning after 2 epochs.\n",
        "batch_size = 32\n",
        "epochs = 3\n",
        "validation_split = 0.1 # 10% of training set will be used for validation set. \n",
        "\n",
        "\n",
        "# Define model for pruning.\n",
        "pruning_params = {\n",
        "      'pruning_schedule': tfmot.sparsity.keras.PolynomialDecay(initial_sparsity=0.30,\n",
        "                                                               final_sparsity=0.70,\n",
        "                                                               begin_step=1000,\n",
        "                                                               end_step=3000)\n",
        "}\n",
        "\n",
        "model_for_pruning = prune_low_magnitude(model, **pruning_params)\n",
        "\n",
        "# `prune_low_magnitude` requires a recompile.\n",
        "model_for_pruning.compile(optimizer='adam',\n",
        "              loss=tf.keras.losses.BinaryCrossentropy(),\n",
        "              metrics=['accuracy'])\n",
        "\n",
        "model_for_pruning.summary()"
      ],
      "execution_count": 0,
      "outputs": [
        {
          "output_type": "stream",
          "text": [
            "WARNING:tensorflow:From /usr/local/lib/python3.6/dist-packages/tensorflow_model_optimization/python/core/sparsity/keras/pruning_wrapper.py:199: Layer.add_variable (from tensorflow.python.keras.engine.base_layer) is deprecated and will be removed in a future version.\n",
            "Instructions for updating:\n",
            "Please use `layer.add_weight` method instead.\n",
            "Model: \"sequential\"\n",
            "_________________________________________________________________\n",
            "Layer (type)                 Output Shape              Param #   \n",
            "=================================================================\n",
            "prune_low_magnitude_embeddin (None, 100, 128)          5120002   \n",
            "_________________________________________________________________\n",
            "prune_low_magnitude_lstm (Pr (None, 128)               262659    \n",
            "_________________________________________________________________\n",
            "prune_low_magnitude_dropout  (None, 128)               1         \n",
            "_________________________________________________________________\n",
            "prune_low_magnitude_dense (P (None, 1)                 259       \n",
            "_________________________________________________________________\n",
            "prune_low_magnitude_activati (None, 1)                 1         \n",
            "=================================================================\n",
            "Total params: 5,382,922\n",
            "Trainable params: 2,691,713\n",
            "Non-trainable params: 2,691,209\n",
            "_________________________________________________________________\n"
          ],
          "name": "stdout"
        }
      ]
    },
    {
      "cell_type": "code",
      "metadata": {
        "id": "saXnl-3D_tse",
        "colab_type": "code",
        "colab": {}
      },
      "source": [
        "logdir = tempfile.mkdtemp()\n",
        "\n",
        "callbacks = [\n",
        "  tfmot.sparsity.keras.UpdatePruningStep(),\n",
        "  tfmot.sparsity.keras.PruningSummaries(log_dir=logdir),\n",
        "]\n",
        "  "
      ],
      "execution_count": 0,
      "outputs": []
    },
    {
      "cell_type": "code",
      "metadata": {
        "id": "Sj70Lxtgv3js",
        "colab_type": "code",
        "outputId": "e612d600-d9c0-4cc5-a633-75baced17b77",
        "colab": {
          "base_uri": "https://localhost:8080/",
          "height": 156
        }
      },
      "source": [
        "print(\"Train...\")\n",
        "model_for_pruning.fit(x_train, y_train, batch_size=batch_size, epochs=3,\n",
        "          callbacks=[pruning_callbacks.UpdatePruningStep()],\n",
        "          validation_data=(x_test, y_test))\n",
        "pruned_score, pruned_acc = model_for_pruning.evaluate(x_test, y_test,\n",
        "                            batch_size=batch_size)"
      ],
      "execution_count": 0,
      "outputs": [
        {
          "output_type": "stream",
          "text": [
            "Train...\n",
            "Epoch 1/3\n",
            "782/782 [==============================] - 41s 52ms/step - loss: 0.1083 - accuracy: 0.9627 - val_loss: 0.4778 - val_accuracy: 0.8266\n",
            "Epoch 2/3\n",
            "782/782 [==============================] - 41s 53ms/step - loss: 0.0605 - accuracy: 0.9802 - val_loss: 0.5600 - val_accuracy: 0.8264\n",
            "Epoch 3/3\n",
            "782/782 [==============================] - 41s 53ms/step - loss: 0.0405 - accuracy: 0.9879 - val_loss: 0.6889 - val_accuracy: 0.8272\n",
            "782/782 [==============================] - 9s 12ms/step - loss: 0.6889 - accuracy: 0.8272\n"
          ],
          "name": "stdout"
        }
      ]
    },
    {
      "cell_type": "code",
      "metadata": {
        "id": "faNTO_Xmv6da",
        "colab_type": "code",
        "outputId": "3e6474f7-d3cc-4296-b6ac-81632958abaa",
        "colab": {
          "base_uri": "https://localhost:8080/",
          "height": 173
        }
      },
      "source": [
        "print_model_sparsity(model_for_pruning)\n",
        "print(\"Pruned test score:\", pruned_score)\n",
        "print(\"Pruned test accuracy:\", pruned_acc)"
      ],
      "execution_count": 0,
      "outputs": [
        {
          "output_type": "stream",
          "text": [
            "Model Sparsity Summary (sequential)\n",
            "--\n",
            "prune_low_magnitude_embedding: (embedding/embeddings:0, 0.68285)\n",
            "prune_low_magnitude_lstm: (lstm/lstm_cell/kernel:0, 0.6828460693359375), (lstm/lstm_cell/recurrent_kernel:0, 0.6828460693359375)\n",
            "prune_low_magnitude_dense: (dense/kernel:0, 0.6796875)\n",
            "\n",
            "\n",
            "Pruned test score: 0.6888934373855591\n",
            "Pruned test accuracy: 0.8271600008010864\n"
          ],
          "name": "stdout"
        }
      ]
    },
    {
      "cell_type": "code",
      "metadata": {
        "id": "3pglOZbczBlw",
        "colab_type": "code",
        "outputId": "f9c3184b-56a7-44bd-be51-08f33957afc0",
        "colab": {
          "base_uri": "https://localhost:8080/",
          "height": 34
        }
      },
      "source": [
        "model_for_export = tfmot.sparsity.keras.strip_pruning(model_for_pruning)\n",
        "\n",
        "_, pruned_keras_file = tempfile.mkstemp('.h5')\n",
        "tf.keras.models.save_model(model_for_export, pruned_keras_file, include_optimizer=False)\n",
        "print('Saved pruned Keras model to:', pruned_keras_file)"
      ],
      "execution_count": 0,
      "outputs": [
        {
          "output_type": "stream",
          "text": [
            "Saved pruned Keras model to: /tmp/tmp7o5wfm_h.h5\n"
          ],
          "name": "stdout"
        }
      ]
    },
    {
      "cell_type": "markdown",
      "metadata": {
        "id": "7FcofExFVtG-",
        "colab_type": "text"
      },
      "source": [
        "## 3-1. baseline model with only quantizing"
      ]
    },
    {
      "cell_type": "code",
      "metadata": {
        "id": "TDL_T1GHecvU",
        "colab_type": "code",
        "colab": {}
      },
      "source": [
        "!pip install -q tensorflow-model-optimization"
      ],
      "execution_count": 0,
      "outputs": []
    },
    {
      "cell_type": "code",
      "metadata": {
        "id": "oOe6P0MJV0jp",
        "colab_type": "code",
        "colab": {}
      },
      "source": [
        "import tensorflow_model_optimization as tfmot\n",
        "\n",
        "quantize_annotate_layer = tfmot.quantization.keras.quantize_annotate_layer\n",
        "quantize_apply = tfmot.quantization.keras.quantize_apply\n",
        "\n",
        "\n",
        "\n",
        "q_annotate_model = tf.keras.models.Sequential([\n",
        "  tf.keras.layers.Embedding(20000, 128, input_length=maxlen),\n",
        "  tf.keras.layers.LSTM(128),\n",
        "  quantize_annotate_layer(tf.keras.layers.Dropout(0.5)),\n",
        "  quantize_annotate_layer(tf.keras.layers.Dense(1)),\n",
        "  tf.keras.layers.Activation(activation='sigmoid')\n",
        "])\n",
        "\n"
      ],
      "execution_count": 0,
      "outputs": []
    },
    {
      "cell_type": "code",
      "metadata": {
        "id": "agLB9-U_nqh3",
        "colab_type": "code",
        "colab": {}
      },
      "source": [
        "q_aware_model = quantize_apply(q_annotate_model)"
      ],
      "execution_count": 0,
      "outputs": []
    },
    {
      "cell_type": "code",
      "metadata": {
        "id": "M4ncIX3OgM0i",
        "colab_type": "code",
        "outputId": "be9ebe85-d38e-4556-ccca-9cf96f4f3ef7",
        "colab": {
          "base_uri": "https://localhost:8080/",
          "height": 330
        }
      },
      "source": [
        "q_aware_model.summary()\n"
      ],
      "execution_count": 0,
      "outputs": [
        {
          "output_type": "stream",
          "text": [
            "Model: \"sequential_5\"\n",
            "_________________________________________________________________\n",
            "Layer (type)                 Output Shape              Param #   \n",
            "=================================================================\n",
            "embedding_7 (Embedding)      (None, 100, 128)          2560000   \n",
            "_________________________________________________________________\n",
            "lstm_6 (LSTM)                (None, 128)               131584    \n",
            "_________________________________________________________________\n",
            "quant_dropout_6 (QuantizeWra (None, 128)               1         \n",
            "_________________________________________________________________\n",
            "quant_dense_6 (QuantizeWrapp (None, 1)                 134       \n",
            "_________________________________________________________________\n",
            "activation_5 (Activation)    (None, 1)                 0         \n",
            "=================================================================\n",
            "Total params: 2,691,719\n",
            "Trainable params: 2,691,713\n",
            "Non-trainable params: 6\n",
            "_________________________________________________________________\n"
          ],
          "name": "stdout"
        }
      ]
    },
    {
      "cell_type": "code",
      "metadata": {
        "id": "1ZqVhuRpZsm7",
        "colab_type": "code",
        "colab": {}
      },
      "source": [
        "q_aware_model.compile(optimizer='adam',\n",
        "              loss=tf.keras.losses.BinaryCrossentropy(),\n",
        "              metrics=['accuracy'])"
      ],
      "execution_count": 0,
      "outputs": []
    },
    {
      "cell_type": "code",
      "metadata": {
        "id": "ta0FTH0uapab",
        "colab_type": "code",
        "outputId": "09cca5c6-79ab-49eb-a9df-1ffa5dd20140",
        "colab": {
          "base_uri": "https://localhost:8080/",
          "height": 156
        }
      },
      "source": [
        "print(\"Train...\")\n",
        "q_aware_model.fit(x_train, y_train,\n",
        "                  batch_size=batch_size, epochs=3, validation_split=0.1)"
      ],
      "execution_count": 0,
      "outputs": [
        {
          "output_type": "stream",
          "text": [
            "Train...\n",
            "Epoch 1/3\n",
            "704/704 [==============================] - 23s 33ms/step - loss: 0.4271 - accuracy: 0.7982 - val_loss: 0.3595 - val_accuracy: 0.8424\n",
            "Epoch 2/3\n",
            "704/704 [==============================] - 23s 32ms/step - loss: 0.2343 - accuracy: 0.9078 - val_loss: 0.3698 - val_accuracy: 0.8452\n",
            "Epoch 3/3\n",
            "704/704 [==============================] - 22s 32ms/step - loss: 0.1417 - accuracy: 0.9495 - val_loss: 0.4304 - val_accuracy: 0.8464\n"
          ],
          "name": "stdout"
        },
        {
          "output_type": "execute_result",
          "data": {
            "text/plain": [
              "<tensorflow.python.keras.callbacks.History at 0x7f2175c31da0>"
            ]
          },
          "metadata": {
            "tags": []
          },
          "execution_count": 116
        }
      ]
    },
    {
      "cell_type": "code",
      "metadata": {
        "id": "fS2asLIbQGUe",
        "colab_type": "code",
        "outputId": "eb0e4fe7-90f7-431e-afef-fc00921c1944",
        "colab": {
          "base_uri": "https://localhost:8080/",
          "height": 34
        }
      },
      "source": [
        "q_aware_model_score, q_aware_model_accuracy = q_aware_model.evaluate(x_test, y_test,\n",
        "                            batch_size=batch_size)"
      ],
      "execution_count": 0,
      "outputs": [
        {
          "output_type": "stream",
          "text": [
            "782/782 [==============================] - 4s 5ms/step - loss: 0.4463 - accuracy: 0.8362\n"
          ],
          "name": "stdout"
        }
      ]
    },
    {
      "cell_type": "code",
      "metadata": {
        "id": "MSYJXxyXb-yA",
        "colab_type": "code",
        "outputId": "374465cc-1cc8-4d39-db03-d3c3560772d2",
        "colab": {
          "base_uri": "https://localhost:8080/",
          "height": 121
        }
      },
      "source": [
        "print_model_sparsity(q_aware_model)\n",
        "print(\"Quant test score:\", q_aware_model_score)\n",
        "print(\"Qaunt test accuracy:\",q_aware_model_accuracy)"
      ],
      "execution_count": 0,
      "outputs": [
        {
          "output_type": "stream",
          "text": [
            "Model Sparsity Summary (sequential_5)\n",
            "--\n",
            "\n",
            "\n",
            "Quant test score: 0.4463203549385071\n",
            "Qaunt test accuracy: 0.8361999988555908\n"
          ],
          "name": "stdout"
        }
      ]
    },
    {
      "cell_type": "code",
      "metadata": {
        "id": "qnQQ1zlSd3dx",
        "colab_type": "code",
        "outputId": "1fabbc0a-42ea-482f-dd25-b83a2d4d05e4",
        "colab": {
          "base_uri": "https://localhost:8080/",
          "height": 34
        }
      },
      "source": [
        "_, quantized_keras_file = tempfile.mkstemp('.h5')\n",
        "tf.keras.models.save_model(q_aware_model, quantized_keras_file, include_optimizer=False)\n",
        "print('Saved quantized Keras model to:', quantized_keras_file)"
      ],
      "execution_count": 0,
      "outputs": [
        {
          "output_type": "stream",
          "text": [
            "Saved quantized Keras model to: /tmp/tmpmqa6zj73.h5\n"
          ],
          "name": "stdout"
        }
      ]
    },
    {
      "cell_type": "code",
      "metadata": {
        "id": "InE2RqASd9oP",
        "colab_type": "code",
        "outputId": "789d3781-05e4-4029-e488-45f7acb4c759",
        "colab": {
          "base_uri": "https://localhost:8080/",
          "height": 34
        }
      },
      "source": [
        "print(\"Size of gzipped pruned Keras model: %.2f bytes\" % (get_gzipped_model_size(quantized_keras_file)))"
      ],
      "execution_count": 0,
      "outputs": [
        {
          "output_type": "stream",
          "text": [
            "Size of gzipped pruned Keras model: 9967802.00 bytes\n"
          ],
          "name": "stdout"
        }
      ]
    },
    {
      "cell_type": "markdown",
      "metadata": {
        "id": "k-VjgD33N3xD",
        "colab_type": "text"
      },
      "source": [
        "## 3-2. baseline model with post-quatizing"
      ]
    },
    {
      "cell_type": "code",
      "metadata": {
        "id": "gQOxJoGjVF8a",
        "colab_type": "code",
        "outputId": "f06b90e0-aea4-4bcc-fcb7-6d706033a0f1",
        "colab": {
          "base_uri": "https://localhost:8080/",
          "height": 660
        }
      },
      "source": [
        "!pip install tf-nightly"
      ],
      "execution_count": 0,
      "outputs": [
        {
          "output_type": "stream",
          "text": [
            "Requirement already satisfied: tf-nightly in /usr/local/lib/python3.6/dist-packages (2.3.0.dev20200611)\n",
            "Requirement already satisfied: astunparse==1.6.3 in /usr/local/lib/python3.6/dist-packages (from tf-nightly) (1.6.3)\n",
            "Requirement already satisfied: protobuf>=3.9.2 in /usr/local/lib/python3.6/dist-packages (from tf-nightly) (3.10.0)\n",
            "Requirement already satisfied: wrapt>=1.11.1 in /usr/local/lib/python3.6/dist-packages (from tf-nightly) (1.12.1)\n",
            "Requirement already satisfied: tb-nightly<2.4.0a0,>=2.3.0a0 in /usr/local/lib/python3.6/dist-packages (from tf-nightly) (2.3.0a20200611)\n",
            "Requirement already satisfied: scipy==1.4.1 in /usr/local/lib/python3.6/dist-packages (from tf-nightly) (1.4.1)\n",
            "Requirement already satisfied: grpcio>=1.8.6 in /usr/local/lib/python3.6/dist-packages (from tf-nightly) (1.29.0)\n",
            "Requirement already satisfied: gast==0.3.3 in /usr/local/lib/python3.6/dist-packages (from tf-nightly) (0.3.3)\n",
            "Requirement already satisfied: numpy<2.0,>=1.16.0 in /usr/local/lib/python3.6/dist-packages (from tf-nightly) (1.18.5)\n",
            "Requirement already satisfied: keras-preprocessing<1.2,>=1.1.1 in /usr/local/lib/python3.6/dist-packages (from tf-nightly) (1.1.2)\n",
            "Requirement already satisfied: absl-py>=0.7.0 in /usr/local/lib/python3.6/dist-packages (from tf-nightly) (0.9.0)\n",
            "Requirement already satisfied: termcolor>=1.1.0 in /usr/local/lib/python3.6/dist-packages (from tf-nightly) (1.1.0)\n",
            "Requirement already satisfied: opt-einsum>=2.3.2 in /usr/local/lib/python3.6/dist-packages (from tf-nightly) (3.2.1)\n",
            "Requirement already satisfied: tf-estimator-nightly in /usr/local/lib/python3.6/dist-packages (from tf-nightly) (2.3.0.dev2020061101)\n",
            "Requirement already satisfied: google-pasta>=0.1.8 in /usr/local/lib/python3.6/dist-packages (from tf-nightly) (0.2.0)\n",
            "Requirement already satisfied: wheel>=0.26 in /usr/local/lib/python3.6/dist-packages (from tf-nightly) (0.34.2)\n",
            "Requirement already satisfied: h5py<2.11.0,>=2.10.0 in /usr/local/lib/python3.6/dist-packages (from tf-nightly) (2.10.0)\n",
            "Requirement already satisfied: six>=1.12.0 in /usr/local/lib/python3.6/dist-packages (from tf-nightly) (1.12.0)\n",
            "Requirement already satisfied: setuptools in /usr/local/lib/python3.6/dist-packages (from protobuf>=3.9.2->tf-nightly) (47.1.1)\n",
            "Requirement already satisfied: werkzeug>=0.11.15 in /usr/local/lib/python3.6/dist-packages (from tb-nightly<2.4.0a0,>=2.3.0a0->tf-nightly) (1.0.1)\n",
            "Requirement already satisfied: tensorboard-plugin-wit>=1.6.0 in /usr/local/lib/python3.6/dist-packages (from tb-nightly<2.4.0a0,>=2.3.0a0->tf-nightly) (1.6.0.post3)\n",
            "Requirement already satisfied: google-auth-oauthlib<0.5,>=0.4.1 in /usr/local/lib/python3.6/dist-packages (from tb-nightly<2.4.0a0,>=2.3.0a0->tf-nightly) (0.4.1)\n",
            "Requirement already satisfied: markdown>=2.6.8 in /usr/local/lib/python3.6/dist-packages (from tb-nightly<2.4.0a0,>=2.3.0a0->tf-nightly) (3.2.2)\n",
            "Requirement already satisfied: requests<3,>=2.21.0 in /usr/local/lib/python3.6/dist-packages (from tb-nightly<2.4.0a0,>=2.3.0a0->tf-nightly) (2.23.0)\n",
            "Requirement already satisfied: google-auth<2,>=1.6.3 in /usr/local/lib/python3.6/dist-packages (from tb-nightly<2.4.0a0,>=2.3.0a0->tf-nightly) (1.7.2)\n",
            "Requirement already satisfied: requests-oauthlib>=0.7.0 in /usr/local/lib/python3.6/dist-packages (from google-auth-oauthlib<0.5,>=0.4.1->tb-nightly<2.4.0a0,>=2.3.0a0->tf-nightly) (1.3.0)\n",
            "Requirement already satisfied: importlib-metadata; python_version < \"3.8\" in /usr/local/lib/python3.6/dist-packages (from markdown>=2.6.8->tb-nightly<2.4.0a0,>=2.3.0a0->tf-nightly) (1.6.0)\n",
            "Requirement already satisfied: certifi>=2017.4.17 in /usr/local/lib/python3.6/dist-packages (from requests<3,>=2.21.0->tb-nightly<2.4.0a0,>=2.3.0a0->tf-nightly) (2020.4.5.1)\n",
            "Requirement already satisfied: urllib3!=1.25.0,!=1.25.1,<1.26,>=1.21.1 in /usr/local/lib/python3.6/dist-packages (from requests<3,>=2.21.0->tb-nightly<2.4.0a0,>=2.3.0a0->tf-nightly) (1.24.3)\n",
            "Requirement already satisfied: idna<3,>=2.5 in /usr/local/lib/python3.6/dist-packages (from requests<3,>=2.21.0->tb-nightly<2.4.0a0,>=2.3.0a0->tf-nightly) (2.9)\n",
            "Requirement already satisfied: chardet<4,>=3.0.2 in /usr/local/lib/python3.6/dist-packages (from requests<3,>=2.21.0->tb-nightly<2.4.0a0,>=2.3.0a0->tf-nightly) (3.0.4)\n",
            "Requirement already satisfied: pyasn1-modules>=0.2.1 in /usr/local/lib/python3.6/dist-packages (from google-auth<2,>=1.6.3->tb-nightly<2.4.0a0,>=2.3.0a0->tf-nightly) (0.2.8)\n",
            "Requirement already satisfied: cachetools<3.2,>=2.0.0 in /usr/local/lib/python3.6/dist-packages (from google-auth<2,>=1.6.3->tb-nightly<2.4.0a0,>=2.3.0a0->tf-nightly) (3.1.1)\n",
            "Requirement already satisfied: rsa<4.1,>=3.1.4 in /usr/local/lib/python3.6/dist-packages (from google-auth<2,>=1.6.3->tb-nightly<2.4.0a0,>=2.3.0a0->tf-nightly) (4.0)\n",
            "Requirement already satisfied: oauthlib>=3.0.0 in /usr/local/lib/python3.6/dist-packages (from requests-oauthlib>=0.7.0->google-auth-oauthlib<0.5,>=0.4.1->tb-nightly<2.4.0a0,>=2.3.0a0->tf-nightly) (3.1.0)\n",
            "Requirement already satisfied: zipp>=0.5 in /usr/local/lib/python3.6/dist-packages (from importlib-metadata; python_version < \"3.8\"->markdown>=2.6.8->tb-nightly<2.4.0a0,>=2.3.0a0->tf-nightly) (3.1.0)\n",
            "Requirement already satisfied: pyasn1<0.5.0,>=0.4.6 in /usr/local/lib/python3.6/dist-packages (from pyasn1-modules>=0.2.1->google-auth<2,>=1.6.3->tb-nightly<2.4.0a0,>=2.3.0a0->tf-nightly) (0.4.8)\n"
          ],
          "name": "stdout"
        }
      ]
    },
    {
      "cell_type": "markdown",
      "metadata": {
        "id": "s7lu0kI-ZZuL",
        "colab_type": "text"
      },
      "source": [
        "### TensorFlow Lite 모델로 변환\n",
        "\n",
        " 훈련 된 모델을 TensorFlow Lite 모델로 변환 할 수 있습니다."
      ]
    },
    {
      "cell_type": "code",
      "metadata": {
        "id": "7AYElswFN5Si",
        "colab_type": "code",
        "colab": {}
      },
      "source": [
        "converter = tf.lite.TFLiteConverter.from_keras_model(model)\n",
        "converter.experimental_new_quantizer = True\n",
        "converter.optimizations = [tf.lite.Optimize.DEFAULT]\n",
        "post_quan_tflite_model = converter.convert()\n",
        "\n",
        "_,post_quan_tflite_file = tempfile.mkstemp('.tflite')"
      ],
      "execution_count": 0,
      "outputs": []
    },
    {
      "cell_type": "code",
      "metadata": {
        "id": "yUXNtTkeN9li",
        "colab_type": "code",
        "outputId": "757bc348-2f4d-4ee5-a1eb-9df0bca315a3",
        "colab": {
          "base_uri": "https://localhost:8080/",
          "height": 34
        }
      },
      "source": [
        "print('Saved post-quantized TFLite model to:',post_quan_tflite_file)"
      ],
      "execution_count": 0,
      "outputs": [
        {
          "output_type": "stream",
          "text": [
            "Saved post-quantized TFLite model to: /tmp/tmpj97h_l1f.tflite\n"
          ],
          "name": "stdout"
        }
      ]
    },
    {
      "cell_type": "code",
      "metadata": {
        "id": "EnhZ_u8_YNgt",
        "colab_type": "code",
        "outputId": "9c6af0b7-00d0-4f8e-83ab-ebd0218a4d4a",
        "colab": {
          "base_uri": "https://localhost:8080/",
          "height": 34
        }
      },
      "source": [
        "print(post_quan_tflite_file)"
      ],
      "execution_count": 0,
      "outputs": [
        {
          "output_type": "stream",
          "text": [
            "/tmp/tmpj97h_l1f.tflite\n"
          ],
          "name": "stdout"
        }
      ]
    },
    {
      "cell_type": "code",
      "metadata": {
        "id": "dw0pNlGozoQV",
        "colab_type": "code",
        "outputId": "ade000f6-f2c9-4f18-c747-39d550d9a941",
        "colab": {
          "base_uri": "https://localhost:8080/",
          "height": 52
        }
      },
      "source": [
        "print(y_test)\n",
        "print(type(x_test[0]))"
      ],
      "execution_count": 0,
      "outputs": [
        {
          "output_type": "stream",
          "text": [
            "[0 1 1 ... 0 0 0]\n",
            "<class 'numpy.ndarray'>\n"
          ],
          "name": "stdout"
        }
      ]
    },
    {
      "cell_type": "code",
      "metadata": {
        "id": "zylF6-Optx7H",
        "colab_type": "code",
        "colab": {}
      },
      "source": [
        "# tflite 정확도 측정 함수\n",
        "import numpy as np\n",
        "\n",
        "def evaluate_model(interpreter):\n",
        "  input_index = interpreter.get_input_details()[0][\"index\"]\n",
        "  output_index = interpreter.get_output_details()[0][\"index\"]\n",
        "\n",
        "  # Run predictions on ever y image in the \"test\" dataset.\n",
        "  prediction_digits = []\n",
        "  for text in x_test:\n",
        "\n",
        "    # Pre-processing: add batch dimension and convert to float32 to match with\n",
        "    # the model's input data format.\n",
        "\n",
        "    text = np.expand_dims(text, axis=0).astype(np.float32)\n",
        "    interpreter.set_tensor(input_index, text)\n",
        "\n",
        "    # Run inference.\n",
        "    interpreter.invoke()\n",
        "\n",
        "    # Post-processing: remove batch dimension and find the digit with highest\n",
        "    # probability.\n",
        "    output = interpreter.tensor(output_index)\n",
        "    digit = np.argmax(output()[0])\n",
        "    prediction_digits.append(digit)\n",
        "\n",
        "  print('\\n')\n",
        "  # Compare prediction results with ground truth labels to calculate accuracy.\n",
        "  prediction_digits = np.array(prediction_digits)\n",
        "\n",
        "\n",
        "  accuracy = (prediction_digits == y_test).mean()\n",
        "  return accuracy"
      ],
      "execution_count": 0,
      "outputs": []
    },
    {
      "cell_type": "markdown",
      "metadata": {
        "id": "Ofjo_kOwZvH4",
        "colab_type": "text"
      },
      "source": [
        "### TFLite 모델 실행\n",
        "\n",
        " TensorFlow Lite interpreter를 사용하여 TensorFlow Lite 모델을 실행하십시오."
      ]
    },
    {
      "cell_type": "code",
      "metadata": {
        "id": "TDoiWC92OYP8",
        "colab_type": "code",
        "colab": {}
      },
      "source": [
        "interpreter_post_q = tf.lite.Interpreter(model_content=post_quan_tflite_model)\n",
        "interpreter_post_q.allocate_tensors()\n",
        "\n",
        "#test_post_q_accuracy = evaluate_model(interpreter_post_q)"
      ],
      "execution_count": 0,
      "outputs": []
    },
    {
      "cell_type": "code",
      "metadata": {
        "id": "DmHBhLWRvdWF",
        "colab_type": "code",
        "outputId": "30bb5212-f0df-4aee-b9a8-54b1ceeb05b0",
        "colab": {
          "base_uri": "https://localhost:8080/",
          "height": 121
        }
      },
      "source": [
        "test_post_q_accuracy = evaluate_model(interpreter_post_q)"
      ],
      "execution_count": 0,
      "outputs": [
        {
          "output_type": "stream",
          "text": [
            "\n",
            "\n",
            "pd [0 0 0 ... 0 0 0]\n",
            "yy [0 1 1 ... 0 0 0]\n",
            "25000\n",
            "25000\n"
          ],
          "name": "stdout"
        }
      ]
    },
    {
      "cell_type": "code",
      "metadata": {
        "id": "AsRXmf3i_pMl",
        "colab_type": "code",
        "outputId": "572176df-a7d2-452b-deda-189203aded0b",
        "colab": {
          "base_uri": "https://localhost:8080/",
          "height": 34
        }
      },
      "source": [
        "print('Post-Quant test accuracy:', test_post_q_accuracy)"
      ],
      "execution_count": 0,
      "outputs": [
        {
          "output_type": "stream",
          "text": [
            "Post-Quant test accuracy: 0.5\n"
          ],
          "name": "stdout"
        }
      ]
    },
    {
      "cell_type": "markdown",
      "metadata": {
        "id": "e10_WNxGOhr8",
        "colab_type": "text"
      },
      "source": [
        "## 4. pruned model and quantized model convert to TFLite"
      ]
    },
    {
      "cell_type": "markdown",
      "metadata": {
        "id": "_Sm6AOx2RxIe",
        "colab_type": "text"
      },
      "source": [
        "### pruned model convert to tflite_model"
      ]
    },
    {
      "cell_type": "code",
      "metadata": {
        "id": "a8cbYdRbOkwM",
        "colab_type": "code",
        "outputId": "14b3eb4c-de1a-4c89-cb79-f3c75e418757",
        "colab": {
          "base_uri": "https://localhost:8080/",
          "height": 34
        }
      },
      "source": [
        "converter = tf.lite.TFLiteConverter.from_keras_model(model_for_export)\n",
        "pruned_tflite_model = converter.convert()\n",
        "\n",
        "_, pruned_tflite_file = tempfile.mkstemp('.tflite')\n",
        "\n",
        "with open(pruned_tflite_file, 'wb') as f:\n",
        "    f.write(pruned_tflite_model)\n",
        "\n",
        "print('Saved pruned TFLite model to:', pruned_tflite_file)"
      ],
      "execution_count": 0,
      "outputs": [
        {
          "output_type": "stream",
          "text": [
            "Saved pruned TFLite model to: /tmp/tmpd0vvjxc4.tflite\n"
          ],
          "name": "stdout"
        }
      ]
    },
    {
      "cell_type": "markdown",
      "metadata": {
        "id": "Ns5UYoHoSG-2",
        "colab_type": "text"
      },
      "source": [
        "### quantized model convert to tflite_model"
      ]
    },
    {
      "cell_type": "code",
      "metadata": {
        "id": "b0kLgsbASJ2E",
        "colab_type": "code",
        "outputId": "71ba214f-622d-4084-f34e-b14a655be0a8",
        "colab": {
          "base_uri": "https://localhost:8080/",
          "height": 34
        }
      },
      "source": [
        "converter = tf.lite.TFLiteConverter.from_keras_model(q_aware_model)\n",
        "quantized_tflite_model = converter.convert()\n",
        "\n",
        "_, quantized_tflite_file = tempfile.mkstemp('.tflite')\n",
        "\n",
        "with open(quantized_tflite_file, 'wb') as f:\n",
        "    f.write(quantized_tflite_model)\n",
        "\n",
        "print('Saved quantized TFLite model to:', quantized_tflite_file)"
      ],
      "execution_count": 0,
      "outputs": [
        {
          "output_type": "stream",
          "text": [
            "Saved quantized TFLite model to: /tmp/tmpzd47hwkm.tflite\n"
          ],
          "name": "stdout"
        }
      ]
    },
    {
      "cell_type": "code",
      "metadata": {
        "id": "0oHNl6voSNDI",
        "colab_type": "code",
        "colab": {}
      },
      "source": [
        "interpreter_p = tf.lite.Interpreter(model_content=pruned_tflite_model)\n",
        "interpreter_q = tf.lite.Interpreter(model_content=quantized_tflite_model)\n",
        "\n",
        "interpreter_p.allocate_tensors()\n",
        "interpreter_q.allocate_tensors()\n",
        "\n"
      ],
      "execution_count": 0,
      "outputs": []
    },
    {
      "cell_type": "code",
      "metadata": {
        "id": "dBjk42QLT7qO",
        "colab_type": "code",
        "outputId": "9a042691-f28d-4ed9-e4b4-d4e28b2a6924",
        "colab": {
          "base_uri": "https://localhost:8080/",
          "height": 86
        }
      },
      "source": [
        "test_accuracy_p = evaluate_model(interpreter_p)\n",
        "test_accuracy_q = evaluate_model(interpreter_q)"
      ],
      "execution_count": 0,
      "outputs": [
        {
          "output_type": "stream",
          "text": [
            "\n",
            "\n",
            "\n",
            "\n"
          ],
          "name": "stdout"
        }
      ]
    },
    {
      "cell_type": "code",
      "metadata": {
        "id": "UYjnO1ylSRCZ",
        "colab_type": "code",
        "outputId": "6bdd0c6e-4f36-44e8-87fd-57e2f167f908",
        "colab": {
          "base_uri": "https://localhost:8080/",
          "height": 86
        }
      },
      "source": [
        "print('Prun TFLite test_accuracy:', test_accuracy_p,\"\\n\")\n",
        "print('Quant TFLite test_accuracy:', test_accuracy_q,\"\\n\")"
      ],
      "execution_count": 0,
      "outputs": [
        {
          "output_type": "stream",
          "text": [
            "Prun TFLite test_accuracy: 0.5 \n",
            "\n",
            "Quant TFLite test_accuracy: 0.5 \n",
            "\n"
          ],
          "name": "stdout"
        }
      ]
    },
    {
      "cell_type": "markdown",
      "metadata": {
        "id": "VW1sh-dgSaA2",
        "colab_type": "text"
      },
      "source": [
        "# 5-1. baseline model with pruning and quantizing"
      ]
    },
    {
      "cell_type": "code",
      "metadata": {
        "id": "4qZ27Y8TTKfD",
        "colab_type": "code",
        "colab": {}
      },
      "source": [
        "q_aware_prun_model = quantize_model(model_for_export)"
      ],
      "execution_count": 0,
      "outputs": []
    },
    {
      "cell_type": "code",
      "metadata": {
        "id": "F0u3igV4TKn0",
        "colab_type": "code",
        "colab": {}
      },
      "source": [
        "q_aware_prun_model.compile(optimizer='adam',\n",
        "              loss=tf.keras.losses.BinaryCrossentropy(from_logits=True),\n",
        "              metrics=['accuracy'])"
      ],
      "execution_count": 0,
      "outputs": []
    },
    {
      "cell_type": "code",
      "metadata": {
        "id": "nj0D2ph4TKvw",
        "colab_type": "code",
        "outputId": "e1b82e9a-080c-45af-efa4-2b40280ae2bf",
        "colab": {
          "base_uri": "https://localhost:8080/",
          "height": 330
        }
      },
      "source": [
        "q_aware_prun_model.summary()"
      ],
      "execution_count": 0,
      "outputs": [
        {
          "output_type": "stream",
          "text": [
            "Model: \"sequential\"\n",
            "_________________________________________________________________\n",
            "Layer (type)                 Output Shape              Param #   \n",
            "=================================================================\n",
            "quantize_annotate_20 (Quanti (None, 100, 128)          2560000   \n",
            "_________________________________________________________________\n",
            "quantize_annotate_21 (Quanti (None, 128)               131584    \n",
            "_________________________________________________________________\n",
            "quantize_annotate_22 (Quanti (None, 128)               0         \n",
            "_________________________________________________________________\n",
            "quantize_annotate_23 (Quanti (None, 1)                 129       \n",
            "_________________________________________________________________\n",
            "quantize_annotate_24 (Quanti (None, 1)                 0         \n",
            "=================================================================\n",
            "Total params: 2,691,713\n",
            "Trainable params: 2,691,713\n",
            "Non-trainable params: 0\n",
            "_________________________________________________________________\n"
          ],
          "name": "stdout"
        }
      ]
    },
    {
      "cell_type": "code",
      "metadata": {
        "id": "ONNGKFk5Ud37",
        "colab_type": "code",
        "outputId": "6dc59d4e-247b-4f27-f1da-7e911a51e9f2",
        "colab": {
          "base_uri": "https://localhost:8080/",
          "height": 156
        }
      },
      "source": [
        "print(\"Train...\")\n",
        "\n",
        "\n",
        "q_aware_prun_model.fit(x_train, y_train,\n",
        "                  batch_size=batch_size, epochs=3, validation_split=0.1)"
      ],
      "execution_count": 0,
      "outputs": [
        {
          "output_type": "stream",
          "text": [
            "Train...\n",
            "Epoch 1/3\n",
            "704/704 [==============================] - 22s 31ms/step - loss: nan - accuracy: 0.4986 - val_loss: nan - val_accuracy: 0.5124\n",
            "Epoch 2/3\n",
            "704/704 [==============================] - 21s 31ms/step - loss: nan - accuracy: 0.4986 - val_loss: nan - val_accuracy: 0.5124\n",
            "Epoch 3/3\n",
            "704/704 [==============================] - 22s 31ms/step - loss: nan - accuracy: 0.4986 - val_loss: nan - val_accuracy: 0.5124\n"
          ],
          "name": "stdout"
        },
        {
          "output_type": "execute_result",
          "data": {
            "text/plain": [
              "<tensorflow.python.keras.callbacks.History at 0x7f218059f710>"
            ]
          },
          "metadata": {
            "tags": []
          },
          "execution_count": 71
        }
      ]
    },
    {
      "cell_type": "code",
      "metadata": {
        "id": "JAVQATLxTOws",
        "colab_type": "code",
        "colab": {}
      },
      "source": [
        "# train_images_subset = train_images[0:1000] # out of 60000\n",
        "# train_labels_subset = train_labels[0:1000]\n",
        "\n",
        "# q_aware_prun_model.fit(train_images_subset, train_labels_subset,\n",
        "#                   batch_size=128, epochs=4, validation_split=0.1)"
      ],
      "execution_count": 0,
      "outputs": []
    },
    {
      "cell_type": "code",
      "metadata": {
        "id": "Z_pUqGcjTQdR",
        "colab_type": "code",
        "colab": {}
      },
      "source": [
        "_, q_aware_prun_model_accuracy =q_aware_prun_model.evaluate(x_test, y_test, verbose=0)"
      ],
      "execution_count": 0,
      "outputs": []
    },
    {
      "cell_type": "code",
      "metadata": {
        "id": "GxgUzRCWTRsN",
        "colab_type": "code",
        "outputId": "18c2034e-010c-4ff8-be2a-b69eb188cece",
        "colab": {
          "base_uri": "https://localhost:8080/",
          "height": 52
        }
      },
      "source": [
        "print('Pruned and quantized test_accuracy:', q_aware_prun_model_accuracy,\"\\n\")"
      ],
      "execution_count": 0,
      "outputs": [
        {
          "output_type": "stream",
          "text": [
            "Pruned and quantized test_accuracy: 0.5 \n",
            "\n"
          ],
          "name": "stdout"
        }
      ]
    },
    {
      "cell_type": "code",
      "metadata": {
        "id": "nnAl9OgwTX3c",
        "colab_type": "code",
        "outputId": "4bc24e50-8a53-4b42-dba6-7942d3e054b6",
        "colab": {
          "base_uri": "https://localhost:8080/",
          "height": 34
        }
      },
      "source": [
        "_, pruned_and_quantized_keras_file = tempfile.mkstemp('.h5')\n",
        "tf.keras.models.save_model(q_aware_prun_model, pruned_and_quantized_keras_file, include_optimizer=False)\n",
        "print('Saved pruned and quantized Keras model to:', pruned_and_quantized_keras_file)"
      ],
      "execution_count": 0,
      "outputs": [
        {
          "output_type": "stream",
          "text": [
            "Saved pruned and quantized Keras model to: /tmp/tmph6mdda6b.h5\n"
          ],
          "name": "stdout"
        }
      ]
    },
    {
      "cell_type": "markdown",
      "metadata": {
        "id": "jF-WbprOSaHB",
        "colab_type": "text"
      },
      "source": [
        "# 5-2. baseline model with pruning and post-quantizing"
      ]
    },
    {
      "cell_type": "code",
      "metadata": {
        "id": "4DRtipSFTdll",
        "colab_type": "code",
        "outputId": "4e810474-e637-44bd-bb89-03cda3ca47ca",
        "colab": {
          "base_uri": "https://localhost:8080/",
          "height": 34
        }
      },
      "source": [
        "converter = tf.lite.TFLiteConverter.from_keras_model(model_for_export)\n",
        "converter.optimizations = [tf.lite.Optimize.DEFAULT]\n",
        "post_quantized_and_pruned_tflite_model = converter.convert()\n",
        "\n",
        "_, post_quantized_and_pruned_tflite_file = tempfile.mkstemp('.tflite')\n",
        "\n",
        "with open(post_quantized_and_pruned_tflite_file, 'wb') as f:\n",
        "  f.write(post_quantized_and_pruned_tflite_model)\n",
        "\n",
        "print('Saved quantized and pruned TFLite model to:', post_quantized_and_pruned_tflite_file)"
      ],
      "execution_count": 0,
      "outputs": [
        {
          "output_type": "stream",
          "text": [
            "Saved quantized and pruned TFLite model to: /tmp/tmpwih04u28.tflite\n"
          ],
          "name": "stdout"
        }
      ]
    },
    {
      "cell_type": "code",
      "metadata": {
        "id": "OrwLckK8TdvG",
        "colab_type": "code",
        "colab": {}
      },
      "source": [
        "interpreter_p_post_q = tf.lite.Interpreter(model_content=post_quantized_and_pruned_tflite_model)\n",
        "interpreter_p_post_q.allocate_tensors()\n",
        "\n"
      ],
      "execution_count": 0,
      "outputs": []
    },
    {
      "cell_type": "code",
      "metadata": {
        "id": "ga53lrb2Yhvk",
        "colab_type": "code",
        "outputId": "a97dc9aa-9305-4221-a7d6-049b66988819",
        "colab": {
          "base_uri": "https://localhost:8080/",
          "height": 52
        }
      },
      "source": [
        "test_accuracy_p_post_q = evaluate_model(interpreter_p_post_q)"
      ],
      "execution_count": 0,
      "outputs": [
        {
          "output_type": "stream",
          "text": [
            "\n",
            "\n"
          ],
          "name": "stdout"
        }
      ]
    },
    {
      "cell_type": "code",
      "metadata": {
        "id": "jjW7cCXdTitc",
        "colab_type": "code",
        "outputId": "4d6005e1-f044-495d-de4a-de2cf4b7b65a",
        "colab": {
          "base_uri": "https://localhost:8080/",
          "height": 52
        }
      },
      "source": [
        "print('Pruned and post-quantized test_accuracy:', test_accuracy_p_post_q,\"\\n\")"
      ],
      "execution_count": 0,
      "outputs": [
        {
          "output_type": "stream",
          "text": [
            "Pruned and post-quantized test_accuracy: 0.5 \n",
            "\n"
          ],
          "name": "stdout"
        }
      ]
    },
    {
      "cell_type": "markdown",
      "metadata": {
        "id": "bbXCAprMSaeD",
        "colab_type": "text"
      },
      "source": [
        "# 6. pruned and quantized model convert to TFLite"
      ]
    },
    {
      "cell_type": "code",
      "metadata": {
        "id": "HbBLSEHnTmKL",
        "colab_type": "code",
        "outputId": "0282ffe6-0d88-4bdb-d56c-1bc6fead2d1a",
        "colab": {
          "base_uri": "https://localhost:8080/",
          "height": 34
        }
      },
      "source": [
        "converter = tf.lite.TFLiteConverter.from_keras_model(q_aware_prun_model)\n",
        "pruned_quantized_tflite_model = converter.convert()\n",
        "\n",
        "_, pruned_quantized_tflite_file = tempfile.mkstemp('.tflite')\n",
        "\n",
        "with open(pruned_quantized_tflite_file, 'wb') as f:\n",
        "    f.write(pruned_quantized_tflite_model)\n",
        "\n",
        "print('Saved pruned TFLite model to:', pruned_quantized_tflite_file)"
      ],
      "execution_count": 0,
      "outputs": [
        {
          "output_type": "stream",
          "text": [
            "Saved pruned TFLite model to: /tmp/tmp_y8meadp.tflite\n"
          ],
          "name": "stdout"
        }
      ]
    },
    {
      "cell_type": "code",
      "metadata": {
        "id": "sseB4jIfTnbJ",
        "colab_type": "code",
        "colab": {}
      },
      "source": [
        "interpreter_p_q = tf.lite.Interpreter(model_content=pruned_quantized_tflite_model)\n",
        "interpreter_p_q.allocate_tensors()\n",
        "\n"
      ],
      "execution_count": 0,
      "outputs": []
    },
    {
      "cell_type": "code",
      "metadata": {
        "id": "CUEDbhTBYmVm",
        "colab_type": "code",
        "outputId": "ceb7fd10-2b4d-4144-b13c-3348a005dd6e",
        "colab": {
          "base_uri": "https://localhost:8080/",
          "height": 52
        }
      },
      "source": [
        "test_accuracy_p_q = evaluate_model(interpreter_p_q)"
      ],
      "execution_count": 0,
      "outputs": [
        {
          "output_type": "stream",
          "text": [
            "\n",
            "\n"
          ],
          "name": "stdout"
        }
      ]
    },
    {
      "cell_type": "code",
      "metadata": {
        "id": "5EW0jIxQTnhr",
        "colab_type": "code",
        "outputId": "2c801904-e40e-4e7c-c519-6826bc5f909f",
        "colab": {
          "base_uri": "https://localhost:8080/",
          "height": 52
        }
      },
      "source": [
        "print('Pruned and quantized TFLite test_accuracy:', test_accuracy_p_q,\"\\n\")"
      ],
      "execution_count": 0,
      "outputs": [
        {
          "output_type": "stream",
          "text": [
            "Pruned and quantized TFLite test_accuracy: 0.5 \n",
            "\n"
          ],
          "name": "stdout"
        }
      ]
    },
    {
      "cell_type": "markdown",
      "metadata": {
        "id": "6zDjl_1sSlj_",
        "colab_type": "text"
      },
      "source": [
        "# 결론(Result)"
      ]
    },
    {
      "cell_type": "markdown",
      "metadata": {
        "id": "_hqDtni2SpYg",
        "colab_type": "text"
      },
      "source": [
        "## 모든 모델의 정확도"
      ]
    },
    {
      "cell_type": "code",
      "metadata": {
        "id": "vhEWsSLmSs-X",
        "colab_type": "code",
        "outputId": "d108ff13-b7a9-42e1-af46-52e8783e0e16",
        "colab": {
          "base_uri": "https://localhost:8080/",
          "height": 240
        }
      },
      "source": [
        "print('Baseline test accuracy:', baseline_model_accuracy,\"\\n\")\n",
        "print('Pruned test accuracy:', model_for_pruning_accuracy,\"\\n\")\n",
        "print('Quant test accuracy:', q_aware_model_accuracy,\"\\n\")\n",
        "print('Post-Quant test accuracy:', test_post_q_accuracy,\"\\n\")\n",
        "print('Prun TFLite test_accuracy:', test_accuracy_p,\"\\n\")\n",
        "print('Quant TFLite test_accuracy:', test_accuracy_q,\"\\n\")\n",
        "print('Pruned and quantized test_accuracy:', q_aware_prun_model_accuracy,\"\\n\")\n",
        "print('Pruned and post-quantized test_accuracy:', test_accuracy_p_post_q,\"\\n\")\n",
        "print('Pruned and post-quantized test_accuracy:', test_accuracy_p_q,\"\\n\")"
      ],
      "execution_count": 0,
      "outputs": [
        {
          "output_type": "error",
          "ename": "NameError",
          "evalue": "ignored",
          "traceback": [
            "\u001b[0;31m---------------------------------------------------------------------------\u001b[0m",
            "\u001b[0;31mNameError\u001b[0m                                 Traceback (most recent call last)",
            "\u001b[0;32m<ipython-input-84-b457c7315ae2>\u001b[0m in \u001b[0;36m<module>\u001b[0;34m()\u001b[0m\n\u001b[1;32m      1\u001b[0m \u001b[0;31m#print('Baseline test accuracy:', baseline_model_accuracy,\"\\n\")\u001b[0m\u001b[0;34m\u001b[0m\u001b[0;34m\u001b[0m\u001b[0;34m\u001b[0m\u001b[0m\n\u001b[0;32m----> 2\u001b[0;31m \u001b[0mprint\u001b[0m\u001b[0;34m(\u001b[0m\u001b[0;34m'Pruned test accuracy:'\u001b[0m\u001b[0;34m,\u001b[0m \u001b[0mmodel_for_pruning_accuracy\u001b[0m\u001b[0;34m,\u001b[0m\u001b[0;34m\"\\n\"\u001b[0m\u001b[0;34m)\u001b[0m\u001b[0;34m\u001b[0m\u001b[0;34m\u001b[0m\u001b[0m\n\u001b[0m\u001b[1;32m      3\u001b[0m \u001b[0mprint\u001b[0m\u001b[0;34m(\u001b[0m\u001b[0;34m'Quant test accuracy:'\u001b[0m\u001b[0;34m,\u001b[0m \u001b[0mq_aware_model_accuracy\u001b[0m\u001b[0;34m,\u001b[0m\u001b[0;34m\"\\n\"\u001b[0m\u001b[0;34m)\u001b[0m\u001b[0;34m\u001b[0m\u001b[0;34m\u001b[0m\u001b[0m\n\u001b[1;32m      4\u001b[0m \u001b[0mprint\u001b[0m\u001b[0;34m(\u001b[0m\u001b[0;34m'Post-Quant test accuracy:'\u001b[0m\u001b[0;34m,\u001b[0m \u001b[0mtest_post_q_accuracy\u001b[0m\u001b[0;34m,\u001b[0m\u001b[0;34m\"\\n\"\u001b[0m\u001b[0;34m)\u001b[0m\u001b[0;34m\u001b[0m\u001b[0;34m\u001b[0m\u001b[0m\n\u001b[1;32m      5\u001b[0m \u001b[0mprint\u001b[0m\u001b[0;34m(\u001b[0m\u001b[0;34m'Prun TFLite test_accuracy:'\u001b[0m\u001b[0;34m,\u001b[0m \u001b[0mtest_accuracy_p\u001b[0m\u001b[0;34m,\u001b[0m\u001b[0;34m\"\\n\"\u001b[0m\u001b[0;34m)\u001b[0m\u001b[0;34m\u001b[0m\u001b[0;34m\u001b[0m\u001b[0m\n",
            "\u001b[0;31mNameError\u001b[0m: name 'model_for_pruning_accuracy' is not defined"
          ]
        }
      ]
    },
    {
      "cell_type": "code",
      "metadata": {
        "id": "X8soh7T8SwoI",
        "colab_type": "code",
        "colab": {}
      },
      "source": [
        "from matplotlib import pyplot as plt\n",
        "\n",
        "y = [baseline_model_accuracy, model_for_pruning_accuracy,\n",
        "     q_aware_model_accuracy, test_post_q_accuracy,\n",
        "     test_accuracy_p, test_accuracy_q,\n",
        "     q_aware_prun_model_accuracy, test_accuracy_p_post_q, test_accuracy_p_q]\n",
        "\n",
        "x = [\"base\", \"prun\", \"quan\", \"post\",\n",
        "     \"prun_tf\",\"quan_tf\", \"prun_quan\",\n",
        "     \"prun_post\", \"prun_quan_tf\"]\n",
        "plt.figure(figsize=(8, 8))\n",
        "plt.barh(x, y, color=\"skyblue\", height=0.6)\n",
        "plt.xlim(0.0,0.9)\n",
        "\n",
        "plt.yticks(x,fontsize=13)\n",
        "plt.title(\"Accuracy compare\")\n",
        "plt.show()"
      ],
      "execution_count": 0,
      "outputs": []
    },
    {
      "cell_type": "code",
      "metadata": {
        "id": "t-Gnvon2SyTH",
        "colab_type": "code",
        "colab": {}
      },
      "source": [
        "plt.figure(figsize=(8, 8))\n",
        "plt.barh(x, y, color=\"blue\")\n",
        "plt.xlim(0.83,0.868)\n",
        "\n",
        "plt.yticks(x,fontsize=13)\n",
        "plt.title(\"Accuracy compare\")\n",
        "plt.show()"
      ],
      "execution_count": 0,
      "outputs": []
    },
    {
      "cell_type": "markdown",
      "metadata": {
        "id": "phSQt5oFSzSR",
        "colab_type": "text"
      },
      "source": [
        "## 모든 모델의 크기"
      ]
    },
    {
      "cell_type": "code",
      "metadata": {
        "id": "zfbskDeuS2VU",
        "colab_type": "code",
        "colab": {}
      },
      "source": [
        "def get_gzipped_model_size(file):\n",
        "  # Returns size of gzipped model, in bytes.\n",
        "  import os\n",
        "  import zipfile\n",
        "\n",
        "  _, zipped_file = tempfile.mkstemp('.zip')\n",
        "  with zipfile.ZipFile(zipped_file, 'w', compression=zipfile.ZIP_DEFLATED) as f:\n",
        "    f.write(file)\n",
        "\n",
        "  return os.path.getsize(zipped_file)"
      ],
      "execution_count": 0,
      "outputs": []
    },
    {
      "cell_type": "code",
      "metadata": {
        "id": "k2OSOnqkS3CN",
        "colab_type": "code",
        "outputId": "59de2ede-451d-42c2-db00-0e867651b073",
        "colab": {
          "base_uri": "https://localhost:8080/",
          "height": 330
        }
      },
      "source": [
        "print(\"Size of gzipped baseline Keras model: %.2f bytes\\n\" % (get_gzipped_model_size(keras_file)))\n",
        "print(\"Size of gzipped pruned Keras model: %.2f bytes\\n\" % (get_gzipped_model_size(pruned_keras_file)))\n",
        "print(\"Size of gzipped quantizied Keras model: %.2f bytes\\n\" % (get_gzipped_model_size(quantized_keras_file)))\n",
        "print(\"Size of gzipped post-quantized model: %.2f bytes\\n\" % (get_gzipped_model_size(post_quan_tflite_file)))\n",
        "print(\"Size of gzipped pruned TFlite model: %.2f bytes\\n\" % (get_gzipped_model_size(pruned_tflite_file)))\n",
        "print(\"Size of gzipped quantized TFlite model: %.2f bytes\\n\" % (get_gzipped_model_size(quantized_tflite_file)))\n",
        "print(\"Size of gzipped pruned and quantized Keras model: %.2f bytes\\n\" % (get_gzipped_model_size(pruned_and_quantized_keras_file)))\n",
        "print(\"Size of gzipped pruned and post-quantized model: %.2f bytes\\n\" % (get_gzipped_model_size(post_quantized_and_pruned_tflite_file)))\n",
        "print(\"Size of gzipped pruned and quantized TFlite model: %.2f bytes\\n\" % (get_gzipped_model_size(pruned_quantized_tflite_file)))"
      ],
      "execution_count": 0,
      "outputs": [
        {
          "output_type": "stream",
          "text": [
            "Size of gzipped baseline Keras model: 9966407.00 bytes\n",
            "\n",
            "Size of gzipped pruned Keras model: 4301966.00 bytes\n",
            "\n",
            "Size of gzipped quantizied Keras model: 10061041.00 bytes\n",
            "\n",
            "Size of gzipped post-quantized model: 144.00 bytes\n",
            "\n",
            "Size of gzipped pruned TFlite model: 10063918.00 bytes\n",
            "\n",
            "Size of gzipped quantized TFlite model: 10063936.00 bytes\n",
            "\n",
            "Size of gzipped pruned and quantized Keras model: 24956.00 bytes\n",
            "\n",
            "Size of gzipped pruned and post-quantized model: 6338.00 bytes\n",
            "\n",
            "Size of gzipped pruned and quantized TFlite model: 25982.00 bytes\n",
            "\n"
          ],
          "name": "stdout"
        }
      ]
    },
    {
      "cell_type": "code",
      "metadata": {
        "id": "93kTKMz4S5YH",
        "colab_type": "code",
        "outputId": "4e678cfe-b26e-412f-b4f6-0c2f161f7577",
        "colab": {
          "base_uri": "https://localhost:8080/",
          "height": 512
        }
      },
      "source": [
        "y = [get_gzipped_model_size(keras_file),\n",
        "     get_gzipped_model_size(pruned_keras_file),\n",
        "     get_gzipped_model_size(quantized_keras_file),\n",
        "     get_gzipped_model_size(post_quan_tflite_file),\n",
        "     get_gzipped_model_size(pruned_tflite_file),\n",
        "     get_gzipped_model_size(quantized_tflite_file),\n",
        "     get_gzipped_model_size(pruned_and_quantized_keras_file),\n",
        "     get_gzipped_model_size(post_quantized_and_pruned_tflite_file),\n",
        "     get_gzipped_model_size(pruned_quantized_tflite_file)]\n",
        "\n",
        "\n",
        "x = [\"base\", \"prun\", \"quan\", \"post\",\n",
        "     \"prun_tf\",\"quan_tf\", \"prun_quan\",\n",
        "     \"prun_post\", \"prun_quan_tf\"]\n",
        "plt.figure(figsize=(8, 8))\n",
        "plt.barh(x, y, color=\"skyblue\", height=0.6)\n",
        "#plt.xlim(0.0,0.9)\n",
        "\n",
        "plt.yticks(x,fontsize=13)\n",
        "plt.title(\"Model Size compare\")\n",
        "plt.show()"
      ],
      "execution_count": 0,
      "outputs": [
        {
          "output_type": "display_data",
          "data": {
            "image/png": "[encoded data removed]",
            "text/plain": [
              "<Figure size 576x576 with 1 Axes>"
            ]
          },
          "metadata": {
            "tags": [],
            "needs_background": "light"
          }
        }
      ]
    },
    {
      "cell_type": "code",
      "metadata": {
        "id": "RreHrTP9S6tM",
        "colab_type": "code",
        "outputId": "65c72e92-de56-4952-bd53-40b897a7dbfb",
        "colab": {
          "base_uri": "https://localhost:8080/",
          "height": 294
        }
      },
      "source": [
        "y = [get_gzipped_model_size(pruned_keras_file),\n",
        "     get_gzipped_model_size(post_quan_tflite_file),\n",
        "     get_gzipped_model_size(pruned_tflite_file),\n",
        "     get_gzipped_model_size(quantized_tflite_file),\n",
        "     get_gzipped_model_size(post_quantized_and_pruned_tflite_file),\n",
        "     get_gzipped_model_size(pruned_quantized_tflite_file)]\n",
        "\n",
        "x = [\"prun\", \"post\",\n",
        "     \"prun_tf\",\"quan_tf\",\n",
        "     \"prun_post\", \"prun_quan_tf\"]\n",
        "\n",
        "plt.barh(x, y, color=\"blue\", height=0.6)\n",
        "#plt.xlim(0.0,0.9)\n",
        "\n",
        "plt.yticks(x,fontsize=13)\n",
        "plt.title(\"Model Size compare\")\n",
        "plt.show()\n"
      ],
      "execution_count": 0,
      "outputs": [
        {
          "output_type": "display_data",
          "data": {
            "image/png": "[encoded data removed]",
            "text/plain": [
              "<Figure size 432x288 with 1 Axes>"
            ]
          },
          "metadata": {
            "tags": [],
            "needs_background": "light"
          }
        }
      ]
    },
    {
      "cell_type": "code",
      "metadata": {
        "id": "qO15I49US8RJ",
        "colab_type": "code",
        "outputId": "13c8b0b6-0737-4a2d-b5a7-4efe059433b7",
        "colab": {
          "base_uri": "https://localhost:8080/",
          "height": 281
        }
      },
      "source": [
        "y = [get_gzipped_model_size(post_quan_tflite_file),\n",
        "     get_gzipped_model_size(post_quantized_and_pruned_tflite_file)]\n",
        "\n",
        "x = [\"post\",\n",
        "     \"prun_post\"]\n",
        "\n",
        "plt.barh(x, y, color=\"red\", height=0.6)\n",
        "#plt.xlim(0.0,0.9)\n",
        "\n",
        "plt.yticks(x,fontsize=13)\n",
        "plt.title(\"Model Size compare\")\n",
        "plt.show()"
      ],
      "execution_count": 0,
      "outputs": [
        {
          "output_type": "display_data",
          "data": {
            "image/png": "[encoded data removed]",
            "text/plain": [
              "<Figure size 432x288 with 1 Axes>"
            ]
          },
          "metadata": {
            "tags": [],
            "needs_background": "light"
          }
        }
      ]
    },
    {
      "cell_type": "code",
      "metadata": {
        "id": "Y_OKqF4PS9kv",
        "colab_type": "code",
        "outputId": "ede24b2d-709d-40e8-8e0d-f9daeb9b081b",
        "colab": {
          "base_uri": "https://localhost:8080/",
          "height": 281
        }
      },
      "source": [
        "y = [get_gzipped_model_size(keras_file),\n",
        "     get_gzipped_model_size(quantized_keras_file),\n",
        "     get_gzipped_model_size(pruned_and_quantized_keras_file)]\n",
        "\n",
        "\n",
        "x = [\"base\", \"quan\", \"prun_quan\"]\n",
        "\n",
        "plt.barh(x, y, color=\"green\", height=0.6)\n",
        "plt.xlim(345000, 390000)\n",
        "\n",
        "plt.yticks(x,fontsize=13)\n",
        "plt.title(\"Model Size compare\")\n",
        "plt.show()"
      ],
      "execution_count": 0,
      "outputs": [
        {
          "output_type": "display_data",
          "data": {
            "image/png": "[encoded data removed]",
            "text/plain": [
              "<Figure size 432x288 with 1 Axes>"
            ]
          },
          "metadata": {
            "tags": [],
            "needs_background": "light"
          }
        }
      ]
    },
    {
      "cell_type": "markdown",
      "metadata": {
        "id": "HsNd8G9eTAq-",
        "colab_type": "text"
      },
      "source": [
        "\n",
        "## accuracy and model size"
      ]
    },
    {
      "cell_type": "code",
      "metadata": {
        "id": "XhNGvseGTDJ_",
        "colab_type": "code",
        "outputId": "c35777a7-4acd-42ca-98da-f3e69d8b9471",
        "colab": {
          "base_uri": "https://localhost:8080/",
          "height": 240
        }
      },
      "source": [
        "x = [baseline_model_accuracy, model_for_pruning_accuracy,\n",
        "     q_aware_model_accuracy, test_post_q_accuracy,\n",
        "     test_accuracy_p, test_accuracy_q,\n",
        "     q_aware_prun_model_accuracy, test_accuracy_p_post_q, test_accuracy_p_q]\n",
        "\n",
        "y = [get_gzipped_model_size(keras_file),\n",
        "     get_gzipped_model_size(pruned_keras_file),\n",
        "     get_gzipped_model_size(quantized_keras_file),\n",
        "     get_gzipped_model_size(post_quan_tflite_file),\n",
        "     get_gzipped_model_size(pruned_tflite_file),\n",
        "     get_gzipped_model_size(quantized_tflite_file),\n",
        "     get_gzipped_model_size(pruned_and_quantized_keras_file),\n",
        "     get_gzipped_model_size(post_quantized_and_pruned_tflite_file),\n",
        "     get_gzipped_model_size(pruned_quantized_tflite_file)]\n",
        "\n",
        "z = [\"base\", \"prun\", \"quan\", \"post\",\n",
        "     \"prun_tf\",\"quan_tf\", \"prun_quan\",\n",
        "     \"prun_post\", \"prun_quan_tf\"]\n",
        "\n",
        "c = ['b','g','r','c','yellow','m','k','orange',\"brown\"]\n",
        "d = [(10,10),(10,10),(10,-15),(10,10),(10,-15),(10,10),(10,10),(10,10),(10,10)]\n",
        "plt.figure(figsize=(8, 8))\n",
        "plt.scatter(x,y, color=c)\n",
        "\n",
        "for xs,ys in zip(x,y):\n",
        "    plt.annotate(z[x.index(xs)], (xs,ys), textcoords=\"offset points\",xytext=d[x.index(xs)],ha='right')\n",
        "    \n",
        "plt.ylabel('Model Size')\n",
        "plt.xlabel('Accuracy')\n",
        "plt.show()"
      ],
      "execution_count": 0,
      "outputs": [
        {
          "output_type": "error",
          "ename": "NameError",
          "evalue": "ignored",
          "traceback": [
            "\u001b[0;31m---------------------------------------------------------------------------\u001b[0m",
            "\u001b[0;31mNameError\u001b[0m                                 Traceback (most recent call last)",
            "\u001b[0;32m<ipython-input-93-e0c4955d36f8>\u001b[0m in \u001b[0;36m<module>\u001b[0;34m()\u001b[0m\n\u001b[0;32m----> 1\u001b[0;31m x = [baseline_model_accuracy, model_for_pruning_accuracy,\n\u001b[0m\u001b[1;32m      2\u001b[0m      \u001b[0mq_aware_model_accuracy\u001b[0m\u001b[0;34m,\u001b[0m \u001b[0mtest_post_q_accuracy\u001b[0m\u001b[0;34m,\u001b[0m\u001b[0;34m\u001b[0m\u001b[0;34m\u001b[0m\u001b[0m\n\u001b[1;32m      3\u001b[0m      \u001b[0mtest_accuracy_p\u001b[0m\u001b[0;34m,\u001b[0m \u001b[0mtest_accuracy_q\u001b[0m\u001b[0;34m,\u001b[0m\u001b[0;34m\u001b[0m\u001b[0;34m\u001b[0m\u001b[0m\n\u001b[1;32m      4\u001b[0m      q_aware_prun_model_accuracy, test_accuracy_p_post_q, test_accuracy_p_q]\n\u001b[1;32m      5\u001b[0m \u001b[0;34m\u001b[0m\u001b[0m\n",
            "\u001b[0;31mNameError\u001b[0m: name 'baseline_model_accuracy' is not defined"
          ]
        }
      ]
    }
  ]
}