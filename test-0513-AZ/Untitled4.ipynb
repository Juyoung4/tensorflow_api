{
 "cells": [
  {
   "cell_type": "code",
   "execution_count": 1,
   "metadata": {},
   "outputs": [
    {
     "name": "stdout",
     "output_type": "stream",
     "text": [
      "TensorFlow version:  2.1.0\n"
     ]
    },
    {
     "name": "stderr",
     "output_type": "stream",
     "text": [
      "usage: ipykernel_launcher.py [-h] [--learning_rate LEARNING_RATE]\n",
      "                             [--dropout DROPOUT]\n",
      "ipykernel_launcher.py: error: unrecognized arguments: -f /home/jovyan/.local/share/jupyter/runtime/kernel-c7d35ed0-0a07-467e-bfe1-45af295190e4.json\n"
     ]
    },
    {
     "ename": "SystemExit",
     "evalue": "2",
     "output_type": "error",
     "traceback": [
      "An exception has occurred, use %tb to see the full traceback.\n",
      "\u001b[0;31mSystemExit\u001b[0m\u001b[0;31m:\u001b[0m 2\n"
     ]
    },
    {
     "name": "stderr",
     "output_type": "stream",
     "text": [
      "/usr/local/lib/python3.6/dist-packages/IPython/core/interactiveshell.py:3327: UserWarning: To exit: use 'exit', 'quit', or Ctrl-D.\n",
      "  warn(\"To exit: use 'exit', 'quit', or Ctrl-D.\", stacklevel=1)\n"
     ]
    }
   ],
   "source": [
    "from __future__ import absolute_import, division, print_function, unicode_literals\n",
    "\n",
    "import tensorflow as tf\n",
    "import numpy as np\n",
    "import argparse\n",
    "from datetime import datetime, timezone\n",
    "\n",
    "def train():\n",
    "    print(\"TensorFlow version: \", tf.__version__)\n",
    "\n",
    "    parser = argparse.ArgumentParser()\n",
    "    parser.add_argument('--learning_rate', default=0.01, type=float)\n",
    "    parser.add_argument('--dropout', default=0.2, type=float)\n",
    "    args = parser.parse_args()\n",
    "\n",
    "    mnist = tf.keras.datasets.mnist\n",
    "\n",
    "    (x_train, y_train), (x_test, y_test) = mnist.load_data()\n",
    "    x_train, x_test = x_train / 255.0, x_test / 255.0\n",
    "\n",
    "    # Reserve 10,000 samples for validation\n",
    "    x_val = x_train[-10000:]\n",
    "    y_val = y_train[-10000:]\n",
    "    x_train = x_train[:-10000]\n",
    "    y_train = y_train[:-10000]\n",
    "\n",
    "    model = tf.keras.models.Sequential([\n",
    "      tf.keras.layers.Flatten(input_shape=(28, 28)),\n",
    "      tf.keras.layers.Dense(128, activation='relu'),\n",
    "      tf.keras.layers.Dropout(args.dropout),\n",
    "      tf.keras.layers.Dense(10, activation='softmax')\n",
    "    ])\n",
    "\n",
    "    model.compile(optimizer=tf.keras.optimizers.SGD(learning_rate=args.learning_rate),\n",
    "                  loss='sparse_categorical_crossentropy',\n",
    "                  metrics=['acc'])\n",
    "\n",
    "    print(\"Training...\")\n",
    "\n",
    "    katib_metric_log_callback = KatibMetricLog()\n",
    "    training_history = model.fit(x_train, y_train, batch_size=64, epochs=10,\n",
    "                                 validation_data=(x_val, y_val),\n",
    "                                 callbacks=[katib_metric_log_callback])\n",
    "\n",
    "    print(\"\\\\ntraining_history:\", training_history.history)\n",
    "\n",
    "    # Evaluate the model on the test data using `evaluate`\n",
    "    print('\\\\n# Evaluate on test data')\n",
    "    results = model.evaluate(x_test, y_test, batch_size=128)\n",
    "    print('test loss, test acc:', results)\n",
    "\n",
    "\n",
    "class KatibMetricLog(tf.keras.callbacks.Callback):\n",
    "    def on_epoch_end(self, epoch, logs=None):\n",
    "        # RFC 3339\n",
    "        local_time = datetime.now(timezone.utc).astimezone().isoformat()\n",
    "        print(\"\\\\nEpoch {}\".format(epoch+1))\n",
    "        print(\"{} accuracy={:.4f}\".format(local_time, logs['acc']))\n",
    "        print(\"{} loss={:.4f}\".format(local_time, logs['loss']))\n",
    "        print(\"{} Validation-accuracy={:.4f}\".format(local_time, logs['val_acc']))\n",
    "        print(\"{} Validation-loss={:.4f}\".format(local_time, logs['val_loss']))\n",
    "\n",
    "\n",
    "if __name__ == '__main__':\n",
    "    train()"
   ]
  },
  {
   "cell_type": "code",
   "execution_count": null,
   "metadata": {},
   "outputs": [],
   "source": []
  }
 ],
 "metadata": {
  "kernelspec": {
   "display_name": "Python 3",
   "language": "python",
   "name": "python3"
  },
  "language_info": {
   "codemirror_mode": {
    "name": "ipython",
    "version": 3
   },
   "file_extension": ".py",
   "mimetype": "text/x-python",
   "name": "python",
   "nbconvert_exporter": "python",
   "pygments_lexer": "ipython3",
   "version": "3.6.9"
  }
 },
 "nbformat": 4,
 "nbformat_minor": 4
}
